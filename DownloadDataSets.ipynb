{
 "cells": [
  {
   "cell_type": "markdown",
   "id": "0ac81cf1-2a49-4777-97b3-6af330b64b86",
   "metadata": {},
   "source": [
    "# Download Datasets\n",
    "\n",
    "This downloads the different datasets\n",
    "\n",
    "You will need an APP Token https://dev.socrata.com/docs/app-tokens.html\n",
    "\n"
   ]
  },
  {
   "cell_type": "code",
   "execution_count": 1,
   "id": "b8c1a9e1-73e9-451e-91dd-9783e83ff8fe",
   "metadata": {},
   "outputs": [],
   "source": [
    "import os\n",
    "from datetime import datetime\n",
    "import requests\n",
    "from dotenv import load_dotenv\n",
    "import math\n",
    "import json\n",
    "import zipfile"
   ]
  },
  {
   "cell_type": "markdown",
   "id": "dab9d108-fccf-4eb0-84ec-17d53a0fc465",
   "metadata": {},
   "source": [
    "## Datasets below\n",
    "\n",
    "The datasets below all come from https://data.nola.gov/"
   ]
  },
  {
   "cell_type": "code",
   "execution_count": 2,
   "id": "bc3329f1-cc55-4cfa-8ded-32350e4c5daf",
   "metadata": {},
   "outputs": [],
   "source": [
    "datasets = [\n",
    "    #(\"streets.geojson\",\"https://data.nola.gov/resource/fdkj-rjrv.geojson\"),\n",
    "    #(\"greenLocations.geojson\",\"https://data.nola.gov/resource/n4z3-4iyi.geojson\")\n",
    "    ('Neighborhoods.geojson', 'https://data.nola.gov/resource/exvn-jeh2.geojson')\n",
    "\n",
    "]\n",
    "\n"
   ]
  },
  {
   "cell_type": "code",
   "execution_count": 3,
   "id": "b33dc893-a0f2-4a53-94f9-4b89c18f81c0",
   "metadata": {},
   "outputs": [],
   "source": [
    "rawDownload = [\n",
    "    (\"WATER2.zip\",\"https://pubs.usgs.gov/of/1998/of98-805/lpdata/arcview/water.zip\"),\n",
    "\n",
    "    #('UpperDeltaTileIndex.CPG', 'https://rockyweb.usgs.gov/vdelivery/Datasets/Staged/Elevation/metadata/LA_UpperDeltaPlain_2015/LA_UpperDeltaPlain_2017/shapefiles/Tile_Index/TileLayout_UpperDeltaPlainLA_Lidar_NAD83_2011_UTM15_meters.CPG'), \n",
    "    #('UpperDeltaTileIndex.dbf', 'https://rockyweb.usgs.gov/vdelivery/Datasets/Staged/Elevation/metadata/LA_UpperDeltaPlain_2015/LA_UpperDeltaPlain_2017/shapefiles/Tile_Index/TileLayout_UpperDeltaPlainLA_Lidar_NAD83_2011_UTM15_meters.dbf'), \n",
    "    #('UpperDeltaTileIndex.prj', 'https://rockyweb.usgs.gov/vdelivery/Datasets/Staged/Elevation/metadata/LA_UpperDeltaPlain_2015/LA_UpperDeltaPlain_2017/shapefiles/Tile_Index/TileLayout_UpperDeltaPlainLA_Lidar_NAD83_2011_UTM15_meters.prj'), \n",
    "    #('UpperDeltaTileIndex.shp', 'https://rockyweb.usgs.gov/vdelivery/Datasets/Staged/Elevation/metadata/LA_UpperDeltaPlain_2015/LA_UpperDeltaPlain_2017/shapefiles/Tile_Index/TileLayout_UpperDeltaPlainLA_Lidar_NAD83_2011_UTM15_meters.shp'), \n",
    "    #('UpperDeltaTileIndex.xml', 'https://rockyweb.usgs.gov/vdelivery/Datasets/Staged/Elevation/metadata/LA_UpperDeltaPlain_2015/LA_UpperDeltaPlain_2017/shapefiles/Tile_Index/TileLayout_UpperDeltaPlainLA_Lidar_NAD83_2011_UTM15_meters.shp.xml'), \n",
    "    #('UpperDeltaTileIndex.shx', 'https://rockyweb.usgs.gov/vdelivery/Datasets/Staged/Elevation/metadata/LA_UpperDeltaPlain_2015/LA_UpperDeltaPlain_2017/shapefiles/Tile_Index/TileLayout_UpperDeltaPlainLA_Lidar_NAD83_2011_UTM15_meters.shx'), \n",
    "    ('NolaTileIndex.zip','https://rockyweb.usgs.gov/vdelivery/Datasets/Staged/Elevation/metadata/LA_2021GreaterNewOrleans_C22/LA_2021GNO_1_C22/spatial_metadata/USGS/USGS_LA_2021GNO_1_C22_TileIndex.zip')\n",
    "]"
   ]
  },
  {
   "cell_type": "code",
   "execution_count": 4,
   "id": "6c83fcce-6ab0-407b-9c70-fbbc8f0a5413",
   "metadata": {},
   "outputs": [
    {
     "name": "stdout",
     "output_type": "stream",
     "text": [
      "[2025-03-24 14:53:13.984176] Starting...\n"
     ]
    }
   ],
   "source": [
    "def lp(v):\n",
    "    print(f\"[{datetime.now()}] {v}\")\n",
    "\n",
    "lp(\"Starting...\")"
   ]
  },
  {
   "cell_type": "code",
   "execution_count": 5,
   "id": "6e563eac-cb34-47c3-a2f4-94bc09aa376d",
   "metadata": {},
   "outputs": [
    {
     "name": "stdout",
     "output_type": "stream",
     "text": [
      "[2025-03-24 14:53:13.988116] load_dotenv:  True\n"
     ]
    }
   ],
   "source": [
    "lp(f\"load_dotenv:  {load_dotenv()}\")"
   ]
  },
  {
   "cell_type": "code",
   "execution_count": 6,
   "id": "f312cc30-5f38-47a1-903d-c7357565d600",
   "metadata": {},
   "outputs": [
    {
     "name": "stdout",
     "output_type": "stream",
     "text": [
      "[2025-03-24 14:53:13.991322] Loading APP Token\n",
      "[2025-03-24 14:53:13.991607] App token ************************* loaded\n"
     ]
    }
   ],
   "source": [
    "lp(\"Loading APP Token\")\n",
    "appToken = os.environ.get(\"DATA_NOLA_GOV_APPTOKEN\")\n",
    "lp(f\"App token {'*' * len(appToken)} loaded\")"
   ]
  },
  {
   "cell_type": "code",
   "execution_count": 7,
   "id": "86f50cea-d348-4e9c-b78e-37a393111d11",
   "metadata": {},
   "outputs": [
    {
     "name": "stdout",
     "output_type": "stream",
     "text": [
      "[2025-03-24 14:53:13.995812] Path:  ./datasets/\n"
     ]
    }
   ],
   "source": [
    "dataPath = f\"{os.curdir}{os.sep}datasets{os.sep}\"\n",
    "lp(f\"Path:  {dataPath}\")"
   ]
  },
  {
   "cell_type": "code",
   "execution_count": 8,
   "id": "f5e6a2c6-76c9-498b-ba23-6020a659f28a",
   "metadata": {},
   "outputs": [
    {
     "name": "stdout",
     "output_type": "stream",
     "text": [
      "[2025-03-24 14:53:14.000359] ./datasets/ already exists\n"
     ]
    }
   ],
   "source": [
    "if not os.path.exists(dataPath):\n",
    "    lp(f\"Creating path {dataPath}\")\n",
    "    os.makedirs(dataPath)\n",
    "\n",
    "else:\n",
    "    lp(f\"{dataPath} already exists\")\n",
    "    "
   ]
  },
  {
   "cell_type": "code",
   "execution_count": 9,
   "id": "d81aa107-02ad-43db-9672-05e28fc775fe",
   "metadata": {},
   "outputs": [
    {
     "name": "stdout",
     "output_type": "stream",
     "text": [
      "[2025-03-24 14:53:14.004139] Creating sessions\n"
     ]
    }
   ],
   "source": [
    "lp(\"Creating sessions\")\n",
    "session = requests.Session()\n",
    "session.headers.update({\n",
    "    'X-App-Token':appToken,\n",
    "    'Accept':'application/json'\n",
    "})"
   ]
  },
  {
   "cell_type": "code",
   "execution_count": null,
   "id": "a28a0c0d-fd1f-40f0-8352-af13b52068b4",
   "metadata": {},
   "outputs": [],
   "source": []
  },
  {
   "cell_type": "code",
   "execution_count": 10,
   "id": "77162251-3e40-4da7-b475-a458e6a0177c",
   "metadata": {},
   "outputs": [],
   "source": [
    "def getDataSet(outFile, url, limit = 1000, maxCycle = math.inf):\n",
    "\n",
    "\n",
    "    if os.path.exists(f\"{dataPath}{outFile}\"):\n",
    "        lp(f\"{dataPath}{outFile} already exists delete this file if you wish to redownload it\")\n",
    "        return False\n",
    "\n",
    "\n",
    "    lp(f\"Writting to {dataPath}{outFile}\")\n",
    "    \n",
    "\n",
    "    totalLen = 0\n",
    "    lastLen = 1\n",
    "    offset = 0\n",
    "    cycle = 0\n",
    "    fullData = { \"type\": \"FeatureCollection\", \"features\":[]}\n",
    "    while lastLen > 0 and cycle < maxCycle:\n",
    "    \n",
    "        lp(f\"Getting content from {url}  limit={limit} offset={offset}\")\n",
    "        resp = session.get(url, params={'$limit':limit,'$offset':offset,'$order':':id'})\n",
    "        resp.raise_for_status()\n",
    "\n",
    "        \n",
    "        outData = json.loads(resp.text)\n",
    "\n",
    "        \n",
    "        fullData['features'] += outData['features']\n",
    "\n",
    "        lastLen = len(outData['features'])\n",
    "        totalLen += lastLen\n",
    "\n",
    "        lp(f\"{len(resp.content)} bytes downloaded {lastLen} features, total features downloaded {totalLen}\")\n",
    "        \n",
    "\n",
    "        cycle += 1\n",
    "        offset += limit\n",
    "\n",
    "\n",
    "    with open(f\"{dataPath}{outFile}\", \"w\") as f:\n",
    "        json.dump(fullData,f)\n",
    "\n",
    "    lp(f\"Finished writing {totalLen} rows to {outFile}\")\n",
    "    \n",
    "    return fullData\n",
    "    "
   ]
  },
  {
   "cell_type": "code",
   "execution_count": 11,
   "id": "9570d90a-6ceb-4edb-9fbf-0e4ee9705cf1",
   "metadata": {},
   "outputs": [
    {
     "name": "stdout",
     "output_type": "stream",
     "text": [
      "[2025-03-24 14:53:14.014812] ./datasets/Neighborhoods.geojson already exists delete this file if you wish to redownload it\n"
     ]
    }
   ],
   "source": [
    "for dataset in datasets:\n",
    "    resp = getDataSet(*dataset)"
   ]
  },
  {
   "cell_type": "code",
   "execution_count": 12,
   "id": "96e829f7-adcb-4279-986b-b4cd3c3c0d7c",
   "metadata": {},
   "outputs": [
    {
     "name": "stdout",
     "output_type": "stream",
     "text": [
      "[2025-03-24 14:53:14.021592] ./datasets/WATER2.zip already exists delete this file if you wish to redownload it\n",
      "[2025-03-24 14:53:14.021810] ./datasets/NolaTileIndex.zip already exists delete this file if you wish to redownload it\n"
     ]
    }
   ],
   "source": [
    "for dl in rawDownload:\n",
    "    \n",
    "    if os.path.exists(f\"{dataPath}{dl[0]}\"):\n",
    "        lp(f\"{dataPath}{dl[0]} already exists delete this file if you wish to redownload it\")\n",
    "        continue\n",
    "\n",
    "    \n",
    "    lp(f\"Downloading {dl[1]} -> {dl[0]}\")\n",
    "    resp = requests.get(dl[1])\n",
    "    resp.raise_for_status()\n",
    "\n",
    "    lp(f\"{len(resp.content)} bytes downloaded\")\n",
    "    \n",
    "    with open(f\"{dataPath}{dl[0]}\", \"wb\") as f:\n",
    "        f.write(resp.content)\n",
    "    "
   ]
  },
  {
   "cell_type": "code",
   "execution_count": 13,
   "id": "3839f123-d7c8-49c4-a5c3-4cc2886c6f92",
   "metadata": {},
   "outputs": [
    {
     "name": "stdout",
     "output_type": "stream",
     "text": [
      "[2025-03-24 14:53:14.025879] Extracting WATER2.zip\n",
      "[2025-03-24 14:53:14.030517] Extracting NolaTileIndex.zip\n"
     ]
    }
   ],
   "source": [
    "for dl in rawDownload:\n",
    "    if dl[0][-4:] == '.zip':\n",
    "        lp(f\"Extracting {dl[0]}\")\n",
    "        with zipfile.ZipFile(f\"{dataPath}{dl[0]}\",'r') as zf:\n",
    "            zf.extractall(dataPath)\n",
    "            "
   ]
  },
  {
   "cell_type": "code",
   "execution_count": 14,
   "id": "8aa92a69-d179-4d24-b5d5-eb24a65b853c",
   "metadata": {},
   "outputs": [
    {
     "name": "stdout",
     "output_type": "stream",
     "text": [
      "[2025-03-24 14:53:14.046062] Done\n"
     ]
    }
   ],
   "source": [
    "lp('Done')"
   ]
  },
  {
   "cell_type": "code",
   "execution_count": null,
   "id": "7f977e1e-7aea-4c95-b199-898ba13e3766",
   "metadata": {},
   "outputs": [],
   "source": []
  }
 ],
 "metadata": {
  "kernelspec": {
   "display_name": "Python 3 (ipykernel)",
   "language": "python",
   "name": "python3"
  },
  "language_info": {
   "codemirror_mode": {
    "name": "ipython",
    "version": 3
   },
   "file_extension": ".py",
   "mimetype": "text/x-python",
   "name": "python",
   "nbconvert_exporter": "python",
   "pygments_lexer": "ipython3",
   "version": "3.11.2"
  }
 },
 "nbformat": 4,
 "nbformat_minor": 5
}
