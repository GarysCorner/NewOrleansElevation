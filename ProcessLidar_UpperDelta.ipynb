{
 "cells": [
  {
   "cell_type": "code",
   "execution_count": 1,
   "id": "70d410b0-5f0a-46b2-a10d-05500365728d",
   "metadata": {},
   "outputs": [],
   "source": [
    "import geopandas as gpd\n",
    "import pandas as pd\n",
    "#import geoplot as gplt\n",
    "import laspy\n",
    "import shapely\n",
    "import os\n",
    "from datetime import datetime\n",
    "import numpy as np\n",
    "from itertools import product\n",
    "import math\n",
    "import pyproj\n",
    "import re\n",
    "import pyspark"
   ]
  },
  {
   "cell_type": "code",
   "execution_count": 2,
   "id": "8c0ea8fe-6d58-4613-954c-f8cdb782473e",
   "metadata": {},
   "outputs": [],
   "source": [
    "resolution = 100  #grid resolution in meters\n",
    "outPath = f\"{os.curdir}{os.sep}output{os.sep}\"\n",
    "outputFileName = f\"{outPath}AggLidarData_UpperDelta_{resolution}m.pickle\"\n",
    "#captureHoods = ['GENTILLY TERRACE','GENTILLY WOODS','MARIGNY','BYWATER','ST. CLAUDE','PONTCHARTRAIN PARK','DESIRE AREA',\\\n",
    "#               'FRENCH QUARTER','ST. BERNARD AREA', 'ST. CLAUDE', 'ST. ROCH']\n",
    "captureHoods = []"
   ]
  },
  {
   "cell_type": "code",
   "execution_count": 3,
   "id": "86d15394-3831-4798-9634-115aa95c1e07",
   "metadata": {},
   "outputs": [],
   "source": [
    "if not os.path.exists(outPath):\n",
    "    lp(f\"Creating output path {outPath}\")\n",
    "    os.makedirs(outPath)"
   ]
  },
  {
   "cell_type": "code",
   "execution_count": 4,
   "id": "0cdbadae-e28c-45fe-8d41-e4b5497181e5",
   "metadata": {},
   "outputs": [
    {
     "name": "stdout",
     "output_type": "stream",
     "text": [
      "[2025-03-28 21:20:24.077244] Starting...\n"
     ]
    }
   ],
   "source": [
    "def lp(v):\n",
    "    print(f\"[{datetime.now()}] {v}\")\n",
    "\n",
    "lp(\"Starting...\")"
   ]
  },
  {
   "cell_type": "code",
   "execution_count": 5,
   "id": "57321308-2639-4f12-a7ae-cad537a4c104",
   "metadata": {},
   "outputs": [
    {
     "name": "stdout",
     "output_type": "stream",
     "text": [
      "[2025-03-28 21:20:24.081983] Creating spark context\n"
     ]
    },
    {
     "name": "stderr",
     "output_type": "stream",
     "text": [
      "25/03/28 22:20:25 WARN Utils: Your hostname, G-ChaosStation resolves to a loopback address: 127.0.1.1; using 192.168.12.163 instead (on interface eno1)\n",
      "25/03/28 22:20:25 WARN Utils: Set SPARK_LOCAL_IP if you need to bind to another address\n",
      "Setting default log level to \"WARN\".\n",
      "To adjust logging level use sc.setLogLevel(newLevel). For SparkR, use setLogLevel(newLevel).\n",
      "25/03/28 22:20:25 WARN NativeCodeLoader: Unable to load native-hadoop library for your platform... using builtin-java classes where applicable\n"
     ]
    }
   ],
   "source": [
    "lp(\"Creating spark context\")\n",
    "conf = pyspark.SparkConf().setAppName(outputFileName).setMaster(\"spark://127.0.0.1:7077\")\n",
    "sc = pyspark.SparkContext(conf=conf)"
   ]
  },
  {
   "cell_type": "code",
   "execution_count": 6,
   "id": "86f50cea-d348-4e9c-b78e-37a393111d11",
   "metadata": {},
   "outputs": [
    {
     "name": "stdout",
     "output_type": "stream",
     "text": [
      "[2025-03-28 21:20:26.495613] Path:  ./datasets/\t\tFullPath:/home/g/Dev/NewOrleansElevation/datasets/\n"
     ]
    }
   ],
   "source": [
    "dataPath = f\"{os.curdir}{os.sep}datasets{os.sep}\"\n",
    "fullDataPath = os.path.realpath(dataPath) + os.sep\n",
    "lp(f\"Path:  {dataPath}\\t\\tFullPath:{fullDataPath}\")"
   ]
  },
  {
   "cell_type": "code",
   "execution_count": 7,
   "id": "54579182-ef03-4fa4-a809-bce80ee6e12e",
   "metadata": {},
   "outputs": [
    {
     "name": "stdout",
     "output_type": "stream",
     "text": [
      "[2025-03-28 21:20:26.501322] Opening USGS_LPC_LA_UpperDeltaPlain_2015_15rzp115375.laz to get crs and more\n"
     ]
    }
   ],
   "source": [
    "testLasFileName = os.listdir(f\"{dataPath}lazUpperDelta\")[5]\n",
    "lp(f\"Opening {testLasFileName} to get crs and more\")\n",
    "testLas = laspy.read(f\"{dataPath}lazUpperDelta{os.sep}{testLasFileName}\")"
   ]
  },
  {
   "cell_type": "code",
   "execution_count": 8,
   "id": "8b2c5b08-6d79-4f2e-bf2a-c1b5f67d1067",
   "metadata": {},
   "outputs": [],
   "source": [
    "neighborhoodDf = gpd.read_file(f\"{dataPath}Neighborhoods.geojson\").to_crs(testLas.vlrs[0].parse_crs())"
   ]
  },
  {
   "cell_type": "code",
   "execution_count": 9,
   "id": "cf47eaff-5a4e-4b92-8f1f-51985ff8191f",
   "metadata": {},
   "outputs": [
    {
     "data": {
      "text/plain": [
       "['ALGIERS POINT',\n",
       " 'AUDUBON',\n",
       " 'B. W. COOPER',\n",
       " 'BAYOU ST. JOHN',\n",
       " 'BEHRMAN',\n",
       " 'BLACK PEARL',\n",
       " 'BROADMOOR',\n",
       " 'BYWATER',\n",
       " 'CENTRAL BUSINESS DISTRICT',\n",
       " 'CENTRAL CITY',\n",
       " 'CITY PARK',\n",
       " 'DESIRE AREA',\n",
       " 'DILLARD',\n",
       " 'DIXON',\n",
       " 'EAST CARROLLTON',\n",
       " 'EAST RIVERSIDE',\n",
       " 'FAIRGROUNDS',\n",
       " 'FILMORE',\n",
       " 'FISCHER DEV',\n",
       " 'FLORIDA AREA',\n",
       " 'FLORIDA DEV',\n",
       " 'FRENCH QUARTER',\n",
       " 'FRERET',\n",
       " 'GARDEN DISTRICT',\n",
       " 'GENTILLY TERRACE',\n",
       " 'GENTILLY WOODS',\n",
       " 'GERT TOWN',\n",
       " 'HOLLYGROVE',\n",
       " 'HOLY CROSS',\n",
       " 'IBERVILLE',\n",
       " 'IRISH CHANNEL',\n",
       " 'LAKE CATHERINE',\n",
       " 'LAKE TERRACE & OAKS',\n",
       " 'LAKESHORE - LAKE VISTA',\n",
       " 'LAKEVIEW',\n",
       " 'LAKEWOOD',\n",
       " 'LEONIDAS',\n",
       " 'LITTLE WOODS',\n",
       " 'LOWER GARDEN DISTRICT',\n",
       " 'LOWER NINTH WARD',\n",
       " 'MARIGNY',\n",
       " 'MARLYVILLE - FONTAINEBLEAU',\n",
       " 'MID-CITY',\n",
       " 'MILAN',\n",
       " 'MILNEBURG',\n",
       " 'McDONOGH',\n",
       " 'NAVARRE',\n",
       " 'NEW AURORA - ENGLISH TURN',\n",
       " 'OLD AURORA',\n",
       " 'PINES VILLAGE',\n",
       " 'PLUM ORCHARD',\n",
       " 'PONTCHARTRAIN PARK',\n",
       " 'READ BLVD EAST',\n",
       " 'READ BLVD WEST',\n",
       " 'SEVENTH WARD',\n",
       " 'ST.  ANTHONY',\n",
       " 'ST. BERNARD AREA',\n",
       " 'ST. CLAUDE',\n",
       " 'ST. ROCH',\n",
       " 'ST. THOMAS DEV',\n",
       " 'TALL TIMBERS - BRECHTEL',\n",
       " 'TOURO',\n",
       " 'TREME - LAFITTE',\n",
       " 'TULANE - GRAVIER',\n",
       " 'U.S. NAVAL BASE',\n",
       " 'UPTOWN',\n",
       " 'VIAVANT - VENETIAN ISLES',\n",
       " 'VILLAGE DE LEST',\n",
       " 'WEST END',\n",
       " 'WEST LAKE FOREST',\n",
       " 'WEST RIVERSIDE',\n",
       " 'WHITNEY']"
      ]
     },
     "execution_count": 9,
     "metadata": {},
     "output_type": "execute_result"
    }
   ],
   "source": [
    "sorted(neighborhoodDf['gnocdc_lab'].unique())"
   ]
  },
  {
   "cell_type": "code",
   "execution_count": 10,
   "id": "254954da-e450-40f6-8c04-18d775b3c435",
   "metadata": {},
   "outputs": [],
   "source": [
    "if len(captureHoods) > 0:\n",
    "    captureHoodsMask = neighborhoodDf['gnocdc_lab'].isin(captureHoods)\n",
    "else:\n",
    "    captureHoodsMask = np.repeat(True, neighborhoodDf.shape[0])"
   ]
  },
  {
   "cell_type": "code",
   "execution_count": 11,
   "id": "68d79663-11ca-47b6-b554-8542d558b24e",
   "metadata": {},
   "outputs": [
    {
     "data": {
      "text/plain": [
       "<Axes: >"
      ]
     },
     "execution_count": 11,
     "metadata": {},
     "output_type": "execute_result"
    },
    {
     "data": {
      "image/png": "[encoded data removed]",
      "text/plain": [
       "<Figure size 640x480 with 1 Axes>"
      ]
     },
     "metadata": {},
     "output_type": "display_data"
    }
   ],
   "source": [
    "ax = neighborhoodDf.plot()\n",
    "neighborhoodDf[captureHoodsMask].plot(ax=ax, color='red')"
   ]
  },
  {
   "cell_type": "code",
   "execution_count": 12,
   "id": "9afe40ea-4343-4896-a498-c87e21c0898f",
   "metadata": {},
   "outputs": [],
   "source": [
    "bounds = [int(b) for b in neighborhoodDf[captureHoodsMask].total_bounds]"
   ]
  },
  {
   "cell_type": "code",
   "execution_count": 13,
   "id": "e1ca7bcf-b693-429e-99fa-969cb317245b",
   "metadata": {},
   "outputs": [
    {
     "name": "stdout",
     "output_type": "stream",
     "text": [
      "[2025-03-28 21:20:27.666100] Resolution will be 488.07 x 347.58  Runtime based on 169643.3706\n"
     ]
    }
   ],
   "source": [
    "xPixels = (bounds[2] - bounds[0]) / resolution\n",
    "yPixels = (bounds[3] - bounds[1]) / resolution\n",
    "lp(f\"Resolution will be {xPixels} x {yPixels}  Runtime based on {xPixels*yPixels}\")"
   ]
  },
  {
   "cell_type": "code",
   "execution_count": 14,
   "id": "3af0d7f2-b4c9-429f-9a0f-1506867d6d12",
   "metadata": {},
   "outputs": [
    {
     "name": "stdout",
     "output_type": "stream",
     "text": [
      "[2025-03-28 21:21:07.992429] Boxes count:  55104\n"
     ]
    }
   ],
   "source": [
    "boxes = [shapely.box(x,y,x+resolution,y+resolution) for x, y in product(range(bounds[0], bounds[2], resolution), range(bounds[1], bounds[3], resolution))]\n",
    "boxesDf = gpd.GeoDataFrame(geometry=boxes).set_crs(neighborhoodDf.crs)\n",
    "boxesDf = boxesDf[boxesDf.intersects(neighborhoodDf[captureHoodsMask].union_all())].copy()\n",
    "boxesDf['AltitudeTotal'] = np.nan\n",
    "boxesDf['WaterTotal'] = np.nan\n",
    "boxesDf['IntTotal'] = np.nan  #total intensity\n",
    "boxesDf['Total'] = np.nan\n",
    "boxesDf['RunTime'] = datetime.now()-datetime.now()\n",
    "lp(f\"Boxes count:  {boxesDf.shape[0]}\")"
   ]
  },
  {
   "cell_type": "code",
   "execution_count": 15,
   "id": "c9b1e5dc-4573-4dff-8941-10a5491c50a1",
   "metadata": {},
   "outputs": [
    {
     "data": {
      "text/plain": [
       "<Axes: >"
      ]
     },
     "execution_count": 15,
     "metadata": {},
     "output_type": "execute_result"
    },
    {
     "data": {
      "image/png": "[encoded data removed]",
      "text/plain": [
       "<Figure size 640x480 with 1 Axes>"
      ]
     },
     "metadata": {},
     "output_type": "display_data"
    }
   ],
   "source": [
    "ax = neighborhoodDf.plot()\n",
    "boxesDf.plot(edgecolor='red', color=None, ax=ax)"
   ]
  },
  {
   "cell_type": "code",
   "execution_count": 16,
   "id": "c3c291ee-83e0-4bf1-ac32-be62b66aba6e",
   "metadata": {},
   "outputs": [
    {
     "data": {
      "text/html": [
       "<div>\n",
       "<style scoped>\n",
       "    .dataframe tbody tr th:only-of-type {\n",
       "        vertical-align: middle;\n",
       "    }\n",
       "\n",
       "    .dataframe tbody tr th {\n",
       "        vertical-align: top;\n",
       "    }\n",
       "\n",
       "    .dataframe thead th {\n",
       "        text-align: right;\n",
       "    }\n",
       "</style>\n",
       "<table border=\"1\" class=\"dataframe\">\n",
       "  <thead>\n",
       "    <tr style=\"text-align: right;\">\n",
       "      <th></th>\n",
       "      <th>TILENAME</th>\n",
       "      <th>geometry</th>\n",
       "    </tr>\n",
       "    <tr>\n",
       "      <th>TILENAME</th>\n",
       "      <th></th>\n",
       "      <th></th>\n",
       "    </tr>\n",
       "  </thead>\n",
       "  <tbody>\n",
       "    <tr>\n",
       "      <th>/home/g/Dev/NewOrleansElevation/datasets/lazUpperDelta/USGS_LPC_LA_UpperDeltaPlain_2015_15ryp545750.laz</th>\n",
       "      <td>15RYP545750</td>\n",
       "      <td>POLYGON ((754500 3375000, 754500 3376500, 7560...</td>\n",
       "    </tr>\n",
       "    <tr>\n",
       "      <th>/home/g/Dev/NewOrleansElevation/datasets/lazUpperDelta/USGS_LPC_LA_UpperDeltaPlain_2015_15ryp560750.laz</th>\n",
       "      <td>15RYP560750</td>\n",
       "      <td>POLYGON ((756000 3375000, 756000 3376500, 7575...</td>\n",
       "    </tr>\n",
       "    <tr>\n",
       "      <th>/home/g/Dev/NewOrleansElevation/datasets/lazUpperDelta/USGS_LPC_LA_UpperDeltaPlain_2015_15ryp575750.laz</th>\n",
       "      <td>15RYP575750</td>\n",
       "      <td>POLYGON ((757500 3375000, 757500 3376500, 7590...</td>\n",
       "    </tr>\n",
       "    <tr>\n",
       "      <th>/home/g/Dev/NewOrleansElevation/datasets/lazUpperDelta/USGS_LPC_LA_UpperDeltaPlain_2015_15ryp590750.laz</th>\n",
       "      <td>15RYP590750</td>\n",
       "      <td>POLYGON ((759000 3375000, 759000 3376500, 7605...</td>\n",
       "    </tr>\n",
       "    <tr>\n",
       "      <th>/home/g/Dev/NewOrleansElevation/datasets/lazUpperDelta/USGS_LPC_LA_UpperDeltaPlain_2015_15ryp605750.laz</th>\n",
       "      <td>15RYP605750</td>\n",
       "      <td>POLYGON ((760500 3375000, 760500 3376500, 7620...</td>\n",
       "    </tr>\n",
       "  </tbody>\n",
       "</table>\n",
       "</div>"
      ],
      "text/plain": [
       "                                                       TILENAME  \\\n",
       "TILENAME                                                          \n",
       "/home/g/Dev/NewOrleansElevation/datasets/lazUpp...  15RYP545750   \n",
       "/home/g/Dev/NewOrleansElevation/datasets/lazUpp...  15RYP560750   \n",
       "/home/g/Dev/NewOrleansElevation/datasets/lazUpp...  15RYP575750   \n",
       "/home/g/Dev/NewOrleansElevation/datasets/lazUpp...  15RYP590750   \n",
       "/home/g/Dev/NewOrleansElevation/datasets/lazUpp...  15RYP605750   \n",
       "\n",
       "                                                                                             geometry  \n",
       "TILENAME                                                                                               \n",
       "/home/g/Dev/NewOrleansElevation/datasets/lazUpp...  POLYGON ((754500 3375000, 754500 3376500, 7560...  \n",
       "/home/g/Dev/NewOrleansElevation/datasets/lazUpp...  POLYGON ((756000 3375000, 756000 3376500, 7575...  \n",
       "/home/g/Dev/NewOrleansElevation/datasets/lazUpp...  POLYGON ((757500 3375000, 757500 3376500, 7590...  \n",
       "/home/g/Dev/NewOrleansElevation/datasets/lazUpp...  POLYGON ((759000 3375000, 759000 3376500, 7605...  \n",
       "/home/g/Dev/NewOrleansElevation/datasets/lazUpp...  POLYGON ((760500 3375000, 760500 3376500, 7620...  "
      ]
     },
     "execution_count": 16,
     "metadata": {},
     "output_type": "execute_result"
    }
   ],
   "source": [
    "tileIndex = gpd.read_file(f\"{dataPath}UpperDeltaPlainLATileIndex.shp\").to_crs(neighborhoodDf.crs)\n",
    "tileIndex.index = tileIndex['TILENAME'].map(lambda f: f\"/home/g/Dev/NewOrleansElevation/datasets/lazUpperDelta/USGS_LPC_LA_UpperDeltaPlain_2015_{f.lower()}.laz\")\n",
    "tileIndexBroadcast = sc.broadcast(tileIndex)\n",
    "tileIndexBroadcast.value.head()"
   ]
  },
  {
   "cell_type": "code",
   "execution_count": 17,
   "id": "c32b216d-167a-4092-8d02-fb3e4f8bfddd",
   "metadata": {},
   "outputs": [],
   "source": [
    "wgsToUTM = pyproj.transformer.Transformer.from_crs(crs_from=pyproj.CRS.from_string('WGS84'), crs_to=neighborhoodDf.crs)\n",
    "meridianReg = re.compile(r'PARAMETER\\[\"central_meridian\",\\-([0-9]{2})\\]')\n",
    "\n",
    "\n",
    "def processLas(inputTup):\n",
    "    startTime = datetime.now()\n",
    "    \n",
    "    BoxIdx = inputTup[0]\n",
    "    boxBounds = inputTup[1:]\n",
    "    \n",
    "    lp(f\"Processing for box[{BoxIdx}] {boxBounds}\")\n",
    "\n",
    "    altTotal = 0\n",
    "    waterTotal = 0\n",
    "    intTotal = 0\n",
    "    pointTotal = 0\n",
    "    for idx, row in tileIndexBroadcast.value.iterrows():\n",
    "        if not row['geometry'].intersects(shapely.box(*boxBounds)):\n",
    "            #no intersection scip\n",
    "            continue\n",
    "        \n",
    "        try:        \n",
    "            las = laspy.read(idx)\n",
    "        except FileNotFoundError as e:\n",
    "            lp(f\"path {idx} does not exist skipping\" )\n",
    "            #continue\n",
    "            raise e\n",
    "        \n",
    "        \n",
    "        central_meridian = int(meridianReg.findall(las.header.vlrs[0].string)[0]) * -1\n",
    "    \n",
    "        \n",
    "        X = las.X\n",
    "        Y = las.Y\n",
    "        Z = las.Z\n",
    "        intense = las.intensity\n",
    "        cls = las.classification\n",
    "    \n",
    "        groundMask = np.isin(cls, [2,9])\n",
    "        inBoundsMaskX = np.logical_and(X >= (boxBounds[0]*100), (X <= (boxBounds[2]*100)))\n",
    "        inBoundsMaskY = np.logical_and(Y >= (boxBounds[1]*100), (Y <= (boxBounds[3]*100)))\n",
    "        goodPointMask = np.logical_and(groundMask,inBoundsMaskX,inBoundsMaskY)\n",
    "        \n",
    "        x = X[goodPointMask]/100.0 #- bounds[0]\n",
    "        y = (Y[goodPointMask]/100.0 + wgsToUTM.transform(30,central_meridian)[1]) #- bounds[1]\n",
    " \n",
    "        altTotal += int(Z[goodPointMask].sum())\n",
    "        waterTotal += np.count_nonzero(cls[goodPointMask] == 9)\n",
    "        intTotal += int(intense[goodPointMask].sum())\n",
    "        pointTotal += np.count_nonzero(goodPointMask)\n",
    "\n",
    "    return (BoxIdx,altTotal, waterTotal, intTotal, pointTotal, datetime.now() - startTime)\n"
   ]
  },
  {
   "cell_type": "code",
   "execution_count": 18,
   "id": "8fb84dd2-c404-4360-bd88-6502bedd99f4",
   "metadata": {},
   "outputs": [
    {
     "name": "stdout",
     "output_type": "stream",
     "text": [
      "[2025-03-28 21:19:12.687248] Processing for box[1] (784453.0, 3318320.0, 785453.0, 3319320.0)\n"
     ]
    },
    {
     "data": {
      "text/plain": [
       "(1,\n",
       " 226745474,\n",
       " 41618,\n",
       " 22731843752,\n",
       " 2256794,\n",
       " datetime.timedelta(seconds=2, microseconds=741259))"
      ]
     },
     "execution_count": 18,
     "metadata": {},
     "output_type": "execute_result"
    }
   ],
   "source": [
    "#Just for sanity\n",
    "testIdx = 1\n",
    "processLas(list(boxesDf.bounds.itertuples())[testIdx])"
   ]
  },
  {
   "cell_type": "code",
   "execution_count": 19,
   "id": "9d3f3587-2cfd-48a0-877c-543b415bdac4",
   "metadata": {},
   "outputs": [],
   "source": [
    "goodLas = laspy.read('/home/g/Dev/NewOrleansElevation/datasets/lazUpperDelta/USGS_LPC_LA_UpperDeltaPlain_2015_15ryp830180.laz')"
   ]
  },
  {
   "cell_type": "code",
   "execution_count": 20,
   "id": "1d64769b-b4a0-4fae-b73d-cff6dfdcde94",
   "metadata": {},
   "outputs": [
    {
     "data": {
      "text/plain": [
       "(array([ 1,  2,  3,  7,  9, 10, 17], dtype=uint8),\n",
       " array([4195865, 3037257,  832348,     366,   68235,     475,   47606]))"
      ]
     },
     "execution_count": 20,
     "metadata": {},
     "output_type": "execute_result"
    }
   ],
   "source": [
    "np.unique(goodLas.classification, return_counts=1)"
   ]
  },
  {
   "cell_type": "code",
   "execution_count": 21,
   "id": "1bf8a31d-27c2-4da7-8ee9-b1dfa0d2cff7",
   "metadata": {},
   "outputs": [],
   "source": [
    "boxesRdd = sc.parallelize(boxesDf.bounds.itertuples(), 300)"
   ]
  },
  {
   "cell_type": "code",
   "execution_count": 22,
   "id": "388b37c2-e86a-4aef-9f97-a88a414f7da2",
   "metadata": {},
   "outputs": [],
   "source": [
    "boxesProcessedRdd = boxesRdd.map(processLas)"
   ]
  },
  {
   "cell_type": "code",
   "execution_count": 23,
   "id": "1be26364-eb96-4537-8951-a6280868f121",
   "metadata": {},
   "outputs": [
    {
     "name": "stdout",
     "output_type": "stream",
     "text": [
      "[2025-03-28 21:19:16.619498] 16 boxes total\n"
     ]
    }
   ],
   "source": [
    "lp(f\"{boxesDf.shape[0]} boxes total\")"
   ]
  },
  {
   "cell_type": "code",
   "execution_count": 24,
   "id": "51608f63-5621-4edc-b7ca-1ef1a3b1a59c",
   "metadata": {},
   "outputs": [
    {
     "name": "stderr",
     "output_type": "stream",
     "text": [
      "                                                                                "
     ]
    }
   ],
   "source": [
    "output = boxesProcessedRdd.collect()"
   ]
  },
  {
   "cell_type": "code",
   "execution_count": 25,
   "id": "9219c668-2d07-4a6a-a8a1-1bf5a00703eb",
   "metadata": {},
   "outputs": [
    {
     "data": {
      "text/plain": [
       "Index(['geometry', 'AltitudeTotal', 'WaterTotal', 'IntTotal', 'Total',\n",
       "       'RunTime'],\n",
       "      dtype='object')"
      ]
     },
     "execution_count": 25,
     "metadata": {},
     "output_type": "execute_result"
    }
   ],
   "source": [
    "boxesDf.columns"
   ]
  },
  {
   "cell_type": "code",
   "execution_count": 26,
   "id": "a3aa9ae4-0615-481e-9b97-ddbf2d402948",
   "metadata": {},
   "outputs": [],
   "source": [
    "for out in output:\n",
    "    boxesDf.loc[out[0], 'AltitudeTotal'] = out[1]\n",
    "    boxesDf.loc[out[0], 'WaterTotal'] = out[2]\n",
    "    boxesDf.loc[out[0], 'IntTotal'] = out[3]\n",
    "    boxesDf.loc[out[0], 'Total'] = out[4]\n",
    "    boxesDf.loc[out[0], 'RunTime'] = out[5]"
   ]
  },
  {
   "cell_type": "code",
   "execution_count": 27,
   "id": "5e46f3dd-07e1-43f1-8a8e-ae796db25161",
   "metadata": {},
   "outputs": [
    {
     "name": "stdout",
     "output_type": "stream",
     "text": [
      "[2025-03-28 21:20:06.905972] 0 days 00:00:07.728092 avg runtime\t\ttotal:  0 days 00:02:03.649482\n"
     ]
    }
   ],
   "source": [
    "lp(f\"{boxesDf['RunTime'].mean()} avg runtime\\t\\ttotal:  {boxesDf['RunTime'].sum()}\")"
   ]
  },
  {
   "cell_type": "code",
   "execution_count": 28,
   "id": "526e1ec4-4a60-441b-bc9a-259571480a3b",
   "metadata": {},
   "outputs": [
    {
     "data": {
      "text/html": [
       "<div>\n",
       "<style scoped>\n",
       "    .dataframe tbody tr th:only-of-type {\n",
       "        vertical-align: middle;\n",
       "    }\n",
       "\n",
       "    .dataframe tbody tr th {\n",
       "        vertical-align: top;\n",
       "    }\n",
       "\n",
       "    .dataframe thead th {\n",
       "        text-align: right;\n",
       "    }\n",
       "</style>\n",
       "<table border=\"1\" class=\"dataframe\">\n",
       "  <thead>\n",
       "    <tr style=\"text-align: right;\">\n",
       "      <th></th>\n",
       "      <th>geometry</th>\n",
       "      <th>AltitudeTotal</th>\n",
       "      <th>WaterTotal</th>\n",
       "      <th>IntTotal</th>\n",
       "      <th>Total</th>\n",
       "      <th>RunTime</th>\n",
       "    </tr>\n",
       "  </thead>\n",
       "  <tbody>\n",
       "    <tr>\n",
       "      <th>0</th>\n",
       "      <td>POLYGON ((785453 3317320, 785453 3318320, 7844...</td>\n",
       "      <td>614844266.0</td>\n",
       "      <td>111233.0</td>\n",
       "      <td>4.564108e+10</td>\n",
       "      <td>4182954.0</td>\n",
       "      <td>0 days 00:00:11.053880</td>\n",
       "    </tr>\n",
       "    <tr>\n",
       "      <th>1</th>\n",
       "      <td>POLYGON ((785453 3318320, 785453 3319320, 7844...</td>\n",
       "      <td>226745474.0</td>\n",
       "      <td>41618.0</td>\n",
       "      <td>2.273184e+10</td>\n",
       "      <td>2256794.0</td>\n",
       "      <td>0 days 00:00:07.303974</td>\n",
       "    </tr>\n",
       "    <tr>\n",
       "      <th>5</th>\n",
       "      <td>POLYGON ((785453 3322320, 785453 3323320, 7844...</td>\n",
       "      <td>-487154205.0</td>\n",
       "      <td>0.0</td>\n",
       "      <td>6.909655e+10</td>\n",
       "      <td>5832121.0</td>\n",
       "      <td>0 days 00:00:14.124095</td>\n",
       "    </tr>\n",
       "    <tr>\n",
       "      <th>6</th>\n",
       "      <td>POLYGON ((785453 3323320, 785453 3324320, 7844...</td>\n",
       "      <td>-742698096.0</td>\n",
       "      <td>11909.0</td>\n",
       "      <td>7.677315e+10</td>\n",
       "      <td>6168721.0</td>\n",
       "      <td>0 days 00:00:13.178122</td>\n",
       "    </tr>\n",
       "    <tr>\n",
       "      <th>8</th>\n",
       "      <td>POLYGON ((786453 3317320, 786453 3318320, 7854...</td>\n",
       "      <td>517851718.0</td>\n",
       "      <td>58646.0</td>\n",
       "      <td>4.140169e+10</td>\n",
       "      <td>4343536.0</td>\n",
       "      <td>0 days 00:00:09.968421</td>\n",
       "    </tr>\n",
       "  </tbody>\n",
       "</table>\n",
       "</div>"
      ],
      "text/plain": [
       "                                            geometry  AltitudeTotal  \\\n",
       "0  POLYGON ((785453 3317320, 785453 3318320, 7844...    614844266.0   \n",
       "1  POLYGON ((785453 3318320, 785453 3319320, 7844...    226745474.0   \n",
       "5  POLYGON ((785453 3322320, 785453 3323320, 7844...   -487154205.0   \n",
       "6  POLYGON ((785453 3323320, 785453 3324320, 7844...   -742698096.0   \n",
       "8  POLYGON ((786453 3317320, 786453 3318320, 7854...    517851718.0   \n",
       "\n",
       "   WaterTotal      IntTotal      Total                RunTime  \n",
       "0    111233.0  4.564108e+10  4182954.0 0 days 00:00:11.053880  \n",
       "1     41618.0  2.273184e+10  2256794.0 0 days 00:00:07.303974  \n",
       "5         0.0  6.909655e+10  5832121.0 0 days 00:00:14.124095  \n",
       "6     11909.0  7.677315e+10  6168721.0 0 days 00:00:13.178122  \n",
       "8     58646.0  4.140169e+10  4343536.0 0 days 00:00:09.968421  "
      ]
     },
     "execution_count": 28,
     "metadata": {},
     "output_type": "execute_result"
    }
   ],
   "source": [
    "boxesDf.head()"
   ]
  },
  {
   "cell_type": "code",
   "execution_count": 29,
   "id": "92490c67-6664-4c1e-8c94-c8379ae0d761",
   "metadata": {},
   "outputs": [],
   "source": [
    "boxesDf.to_pickle(outputFileName)"
   ]
  },
  {
   "cell_type": "code",
   "execution_count": 30,
   "id": "6486e9aa-6693-42aa-be92-1efb3f67ab0f",
   "metadata": {},
   "outputs": [],
   "source": [
    "with open(f\"{outPath}FinishTime_UpperDelta_{resolution}m.txt\", 'w') as f:\n",
    "    f.write(f\"Finished shape {boxesDf.shape}  stop time {datetime.now()}\")"
   ]
  },
  {
   "cell_type": "code",
   "execution_count": 31,
   "id": "d0e46716-6d73-464e-ab54-9f74c3b96f4a",
   "metadata": {},
   "outputs": [
    {
     "data": {
      "text/plain": [
       "<Axes: >"
      ]
     },
     "execution_count": 31,
     "metadata": {},
     "output_type": "execute_result"
    },
    {
     "data": {
      "image/png": "[encoded data removed]",
      "text/plain": [
       "<Figure size 640x480 with 1 Axes>"
      ]
     },
     "metadata": {},
     "output_type": "display_data"
    }
   ],
   "source": [
    "boxesDf['AltCalc'] = boxesDf['AltitudeTotal'] / boxesDf['Total'] \n",
    "boxesDf.loc[pd.isna(boxesDf['AltCalc']),'AltCalc'] = 0\n",
    "ax = neighborhoodDf.plot(color='pink')\n",
    "boxesDf.plot(column='AltCalc',ax=ax)"
   ]
  },
  {
   "cell_type": "code",
   "execution_count": 32,
   "id": "b2ebead4-8c10-4b7f-b57a-f2a9805f5040",
   "metadata": {},
   "outputs": [
    {
     "data": {
      "text/html": [
       "<div>\n",
       "<style scoped>\n",
       "    .dataframe tbody tr th:only-of-type {\n",
       "        vertical-align: middle;\n",
       "    }\n",
       "\n",
       "    .dataframe tbody tr th {\n",
       "        vertical-align: top;\n",
       "    }\n",
       "\n",
       "    .dataframe thead th {\n",
       "        text-align: right;\n",
       "    }\n",
       "</style>\n",
       "<table border=\"1\" class=\"dataframe\">\n",
       "  <thead>\n",
       "    <tr style=\"text-align: right;\">\n",
       "      <th></th>\n",
       "      <th>AltitudeTotal</th>\n",
       "      <th>WaterTotal</th>\n",
       "      <th>IntTotal</th>\n",
       "      <th>Total</th>\n",
       "      <th>RunTime</th>\n",
       "      <th>AltCalc</th>\n",
       "    </tr>\n",
       "  </thead>\n",
       "  <tbody>\n",
       "    <tr>\n",
       "      <th>count</th>\n",
       "      <td>1.600000e+01</td>\n",
       "      <td>16.000000</td>\n",
       "      <td>1.600000e+01</td>\n",
       "      <td>1.600000e+01</td>\n",
       "      <td>16</td>\n",
       "      <td>16.000000</td>\n",
       "    </tr>\n",
       "    <tr>\n",
       "      <th>mean</th>\n",
       "      <td>-3.779512e+07</td>\n",
       "      <td>34374.625000</td>\n",
       "      <td>4.667218e+10</td>\n",
       "      <td>4.519865e+06</td>\n",
       "      <td>0 days 00:00:07.728092</td>\n",
       "      <td>2.336539</td>\n",
       "    </tr>\n",
       "    <tr>\n",
       "      <th>std</th>\n",
       "      <td>3.898271e+08</td>\n",
       "      <td>38311.994049</td>\n",
       "      <td>1.719655e+10</td>\n",
       "      <td>1.499143e+06</td>\n",
       "      <td>0 days 00:00:04.210060</td>\n",
       "      <td>86.241990</td>\n",
       "    </tr>\n",
       "    <tr>\n",
       "      <th>min</th>\n",
       "      <td>-7.426981e+08</td>\n",
       "      <td>0.000000</td>\n",
       "      <td>2.144643e+10</td>\n",
       "      <td>2.256794e+06</td>\n",
       "      <td>0 days 00:00:01.690656</td>\n",
       "      <td>-120.397420</td>\n",
       "    </tr>\n",
       "    <tr>\n",
       "      <th>25%</th>\n",
       "      <td>-3.075011e+08</td>\n",
       "      <td>2405.500000</td>\n",
       "      <td>3.178234e+10</td>\n",
       "      <td>3.074106e+06</td>\n",
       "      <td>0 days 00:00:04.084313</td>\n",
       "      <td>-71.495016</td>\n",
       "    </tr>\n",
       "    <tr>\n",
       "      <th>50%</th>\n",
       "      <td>1.401034e+06</td>\n",
       "      <td>20993.500000</td>\n",
       "      <td>4.719954e+10</td>\n",
       "      <td>4.654889e+06</td>\n",
       "      <td>0 days 00:00:06.792524</td>\n",
       "      <td>4.036205</td>\n",
       "    </tr>\n",
       "    <tr>\n",
       "      <th>75%</th>\n",
       "      <td>2.332832e+08</td>\n",
       "      <td>59620.500000</td>\n",
       "      <td>5.971753e+10</td>\n",
       "      <td>5.866400e+06</td>\n",
       "      <td>0 days 00:00:11.649544</td>\n",
       "      <td>61.961682</td>\n",
       "    </tr>\n",
       "    <tr>\n",
       "      <th>max</th>\n",
       "      <td>6.148443e+08</td>\n",
       "      <td>111897.000000</td>\n",
       "      <td>7.677315e+10</td>\n",
       "      <td>6.669602e+06</td>\n",
       "      <td>0 days 00:00:14.124095</td>\n",
       "      <td>146.988053</td>\n",
       "    </tr>\n",
       "  </tbody>\n",
       "</table>\n",
       "</div>"
      ],
      "text/plain": [
       "       AltitudeTotal     WaterTotal      IntTotal         Total  \\\n",
       "count   1.600000e+01      16.000000  1.600000e+01  1.600000e+01   \n",
       "mean   -3.779512e+07   34374.625000  4.667218e+10  4.519865e+06   \n",
       "std     3.898271e+08   38311.994049  1.719655e+10  1.499143e+06   \n",
       "min    -7.426981e+08       0.000000  2.144643e+10  2.256794e+06   \n",
       "25%    -3.075011e+08    2405.500000  3.178234e+10  3.074106e+06   \n",
       "50%     1.401034e+06   20993.500000  4.719954e+10  4.654889e+06   \n",
       "75%     2.332832e+08   59620.500000  5.971753e+10  5.866400e+06   \n",
       "max     6.148443e+08  111897.000000  7.677315e+10  6.669602e+06   \n",
       "\n",
       "                      RunTime     AltCalc  \n",
       "count                      16   16.000000  \n",
       "mean   0 days 00:00:07.728092    2.336539  \n",
       "std    0 days 00:00:04.210060   86.241990  \n",
       "min    0 days 00:00:01.690656 -120.397420  \n",
       "25%    0 days 00:00:04.084313  -71.495016  \n",
       "50%    0 days 00:00:06.792524    4.036205  \n",
       "75%    0 days 00:00:11.649544   61.961682  \n",
       "max    0 days 00:00:14.124095  146.988053  "
      ]
     },
     "execution_count": 32,
     "metadata": {},
     "output_type": "execute_result"
    }
   ],
   "source": [
    "boxesDf.describe()"
   ]
  },
  {
   "cell_type": "code",
   "execution_count": 33,
   "id": "6d312921-2bb2-4445-aed1-6180ffb9ec18",
   "metadata": {},
   "outputs": [
    {
     "name": "stdout",
     "output_type": "stream",
     "text": [
      "[2025-03-28 21:20:07.110310] Done!\n"
     ]
    }
   ],
   "source": [
    "lp(\"Done!\")"
   ]
  },
  {
   "cell_type": "code",
   "execution_count": 34,
   "id": "f41a495f-2c39-41ae-bb3a-c013810504a9",
   "metadata": {},
   "outputs": [],
   "source": [
    "#the actual runs where don using ProcessLidar.py because of problems with connection issues and its effects on long running notebooks"
   ]
  },
  {
   "cell_type": "code",
   "execution_count": null,
   "id": "3c86e56c-7fea-4516-94be-4ac042e525fb",
   "metadata": {},
   "outputs": [],
   "source": []
  }
 ],
 "metadata": {
  "kernelspec": {
   "display_name": "Python 3 (ipykernel)",
   "language": "python",
   "name": "python3"
  },
  "language_info": {
   "codemirror_mode": {
    "name": "ipython",
    "version": 3
   },
   "file_extension": ".py",
   "mimetype": "text/x-python",
   "name": "python",
   "nbconvert_exporter": "python",
   "pygments_lexer": "ipython3",
   "version": "3.11.2"
  }
 },
 "nbformat": 4,
 "nbformat_minor": 5
}
