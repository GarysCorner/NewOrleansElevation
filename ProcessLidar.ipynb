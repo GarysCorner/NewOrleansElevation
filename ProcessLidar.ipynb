{
 "cells": [
  {
   "cell_type": "code",
   "execution_count": 1,
   "id": "70d410b0-5f0a-46b2-a10d-05500365728d",
   "metadata": {},
   "outputs": [],
   "source": [
    "import geopandas as gpd\n",
    "import pandas as pd\n",
    "#import geoplot as gplt\n",
    "import laspy\n",
    "import shapely\n",
    "import os\n",
    "from datetime import datetime\n",
    "import numpy as np\n",
    "from itertools import product\n",
    "import math\n",
    "import pyproj\n",
    "import re\n",
    "import pyspark\n",
    "import warnings"
   ]
  },
  {
   "cell_type": "code",
   "execution_count": 2,
   "id": "8c0ea8fe-6d58-4613-954c-f8cdb782473e",
   "metadata": {},
   "outputs": [],
   "source": [
    "resolution = 1000  #grid resolution in meters\n",
    "outPath = f\"{os.curdir}{os.sep}output{os.sep}\"\n",
    "outputFileName = f\"{outPath}AggregateLidarData_{resolution}m.parquet\"\n",
    "captureHoods = []\n"
   ]
  },
  {
   "cell_type": "code",
   "execution_count": 3,
   "id": "86d15394-3831-4798-9634-115aa95c1e07",
   "metadata": {},
   "outputs": [],
   "source": [
    "if not os.path.exists(outPath):\n",
    "    lp(f\"Creating output path {outPath}\")\n",
    "    os.makedirs(outPath)"
   ]
  },
  {
   "cell_type": "code",
   "execution_count": 4,
   "id": "0cdbadae-e28c-45fe-8d41-e4b5497181e5",
   "metadata": {},
   "outputs": [
    {
     "name": "stdout",
     "output_type": "stream",
     "text": [
      "[2025-03-29 13:39:10.451801] Starting...\n"
     ]
    }
   ],
   "source": [
    "def lp(v, suppressOut=False):\n",
    "    if not suppressOut:\n",
    "        print(f\"[{datetime.now()}] {v}\")\n",
    "\n",
    "lp(\"Starting...\")"
   ]
  },
  {
   "cell_type": "code",
   "execution_count": 5,
   "id": "57321308-2639-4f12-a7ae-cad537a4c104",
   "metadata": {},
   "outputs": [
    {
     "name": "stdout",
     "output_type": "stream",
     "text": [
      "[2025-03-29 13:39:10.455734] Creating spark context\n"
     ]
    },
    {
     "name": "stderr",
     "output_type": "stream",
     "text": [
      "25/03/29 14:39:11 WARN Utils: Your hostname, G-ChaosStation resolves to a loopback address: 127.0.1.1; using 192.168.12.163 instead (on interface eno1)\n",
      "25/03/29 14:39:11 WARN Utils: Set SPARK_LOCAL_IP if you need to bind to another address\n",
      "Setting default log level to \"WARN\".\n",
      "To adjust logging level use sc.setLogLevel(newLevel). For SparkR, use setLogLevel(newLevel).\n",
      "25/03/29 14:39:11 WARN NativeCodeLoader: Unable to load native-hadoop library for your platform... using builtin-java classes where applicable\n"
     ]
    }
   ],
   "source": [
    "lp(\"Creating spark context\")\n",
    "conf = pyspark.SparkConf().setAppName(outputFileName).setMaster(\"spark://127.0.0.1:7077\")\n",
    "sc = pyspark.SparkContext(conf=conf)"
   ]
  },
  {
   "cell_type": "code",
   "execution_count": 6,
   "id": "86f50cea-d348-4e9c-b78e-37a393111d11",
   "metadata": {},
   "outputs": [
    {
     "name": "stdout",
     "output_type": "stream",
     "text": [
      "[2025-03-29 13:39:12.849455] Path:  ./datasets/\t\tFullPath:/home/g/Dev/NewOrleansElevation/datasets/\n"
     ]
    }
   ],
   "source": [
    "dataPath = f\"{os.curdir}{os.sep}datasets{os.sep}\"\n",
    "fullDataPath = os.path.realpath(dataPath) + os.sep\n",
    "lp(f\"Path:  {dataPath}\\t\\tFullPath:{fullDataPath}\")"
   ]
  },
  {
   "cell_type": "code",
   "execution_count": 7,
   "id": "54579182-ef03-4fa4-a809-bce80ee6e12e",
   "metadata": {},
   "outputs": [
    {
     "name": "stdout",
     "output_type": "stream",
     "text": [
      "[2025-03-29 13:39:12.857526] Opening USGS_LPC_LA_2021GreaterNewOrleans_C22_w0819n3342.laz to get crs and more\n"
     ]
    }
   ],
   "source": [
    "testLasFileName = os.listdir(f\"{dataPath}laz\")[5]\n",
    "lp(f\"Opening {testLasFileName} to get crs and more\")\n",
    "with laspy.open(f\"{dataPath}laz{os.sep}{testLasFileName}\", 'r') as f: \n",
    "    testLas = f.read()"
   ]
  },
  {
   "cell_type": "code",
   "execution_count": 8,
   "id": "8b2c5b08-6d79-4f2e-bf2a-c1b5f67d1067",
   "metadata": {},
   "outputs": [],
   "source": [
    "neighborhoodDf = gpd.read_file(f\"{dataPath}Neighborhoods.geojson\").to_crs(testLas.vlrs[0].parse_crs())"
   ]
  },
  {
   "cell_type": "code",
   "execution_count": 9,
   "id": "cf47eaff-5a4e-4b92-8f1f-51985ff8191f",
   "metadata": {},
   "outputs": [
    {
     "data": {
      "text/plain": [
       "['ALGIERS POINT',\n",
       " 'AUDUBON',\n",
       " 'B. W. COOPER',\n",
       " 'BAYOU ST. JOHN',\n",
       " 'BEHRMAN',\n",
       " 'BLACK PEARL',\n",
       " 'BROADMOOR',\n",
       " 'BYWATER',\n",
       " 'CENTRAL BUSINESS DISTRICT',\n",
       " 'CENTRAL CITY',\n",
       " 'CITY PARK',\n",
       " 'DESIRE AREA',\n",
       " 'DILLARD',\n",
       " 'DIXON',\n",
       " 'EAST CARROLLTON',\n",
       " 'EAST RIVERSIDE',\n",
       " 'FAIRGROUNDS',\n",
       " 'FILMORE',\n",
       " 'FISCHER DEV',\n",
       " 'FLORIDA AREA',\n",
       " 'FLORIDA DEV',\n",
       " 'FRENCH QUARTER',\n",
       " 'FRERET',\n",
       " 'GARDEN DISTRICT',\n",
       " 'GENTILLY TERRACE',\n",
       " 'GENTILLY WOODS',\n",
       " 'GERT TOWN',\n",
       " 'HOLLYGROVE',\n",
       " 'HOLY CROSS',\n",
       " 'IBERVILLE',\n",
       " 'IRISH CHANNEL',\n",
       " 'LAKE CATHERINE',\n",
       " 'LAKE TERRACE & OAKS',\n",
       " 'LAKESHORE - LAKE VISTA',\n",
       " 'LAKEVIEW',\n",
       " 'LAKEWOOD',\n",
       " 'LEONIDAS',\n",
       " 'LITTLE WOODS',\n",
       " 'LOWER GARDEN DISTRICT',\n",
       " 'LOWER NINTH WARD',\n",
       " 'MARIGNY',\n",
       " 'MARLYVILLE - FONTAINEBLEAU',\n",
       " 'MID-CITY',\n",
       " 'MILAN',\n",
       " 'MILNEBURG',\n",
       " 'McDONOGH',\n",
       " 'NAVARRE',\n",
       " 'NEW AURORA - ENGLISH TURN',\n",
       " 'OLD AURORA',\n",
       " 'PINES VILLAGE',\n",
       " 'PLUM ORCHARD',\n",
       " 'PONTCHARTRAIN PARK',\n",
       " 'READ BLVD EAST',\n",
       " 'READ BLVD WEST',\n",
       " 'SEVENTH WARD',\n",
       " 'ST.  ANTHONY',\n",
       " 'ST. BERNARD AREA',\n",
       " 'ST. CLAUDE',\n",
       " 'ST. ROCH',\n",
       " 'ST. THOMAS DEV',\n",
       " 'TALL TIMBERS - BRECHTEL',\n",
       " 'TOURO',\n",
       " 'TREME - LAFITTE',\n",
       " 'TULANE - GRAVIER',\n",
       " 'U.S. NAVAL BASE',\n",
       " 'UPTOWN',\n",
       " 'VIAVANT - VENETIAN ISLES',\n",
       " 'VILLAGE DE LEST',\n",
       " 'WEST END',\n",
       " 'WEST LAKE FOREST',\n",
       " 'WEST RIVERSIDE',\n",
       " 'WHITNEY']"
      ]
     },
     "execution_count": 9,
     "metadata": {},
     "output_type": "execute_result"
    }
   ],
   "source": [
    "sorted(neighborhoodDf['gnocdc_lab'].unique())"
   ]
  },
  {
   "cell_type": "code",
   "execution_count": 10,
   "id": "254954da-e450-40f6-8c04-18d775b3c435",
   "metadata": {},
   "outputs": [],
   "source": [
    "if len(captureHoods) > 0:\n",
    "    captureHoodsMask = neighborhoodDf['gnocdc_lab'].isin(captureHoods)\n",
    "else:\n",
    "    captureHoodsMask = np.repeat(True, neighborhoodDf.shape[0])"
   ]
  },
  {
   "cell_type": "code",
   "execution_count": 11,
   "id": "68d79663-11ca-47b6-b554-8542d558b24e",
   "metadata": {},
   "outputs": [
    {
     "data": {
      "text/plain": [
       "<Axes: >"
      ]
     },
     "execution_count": 11,
     "metadata": {},
     "output_type": "execute_result"
    },
    {
     "data": {
      "image/png": "[encoded data removed]",
      "text/plain": [
       "<Figure size 640x480 with 1 Axes>"
      ]
     },
     "metadata": {},
     "output_type": "display_data"
    }
   ],
   "source": [
    "ax = neighborhoodDf.plot()\n",
    "neighborhoodDf[captureHoodsMask].plot(ax=ax, color='red')"
   ]
  },
  {
   "cell_type": "code",
   "execution_count": 12,
   "id": "9afe40ea-4343-4896-a498-c87e21c0898f",
   "metadata": {},
   "outputs": [],
   "source": [
    "bounds = [int(b) for b in neighborhoodDf[captureHoodsMask].total_bounds]"
   ]
  },
  {
   "cell_type": "code",
   "execution_count": 13,
   "id": "e1ca7bcf-b693-429e-99fa-969cb317245b",
   "metadata": {},
   "outputs": [
    {
     "name": "stdout",
     "output_type": "stream",
     "text": [
      "[2025-03-29 13:39:14.138194] Resolution will be 48.807 x 34.758  Runtime based on 1696.4337060000003\n"
     ]
    }
   ],
   "source": [
    "xPixels = (bounds[2] - bounds[0]) / resolution\n",
    "yPixels = (bounds[3] - bounds[1]) / resolution\n",
    "lp(f\"Resolution will be {xPixels} x {yPixels}  Runtime based on {xPixels*yPixels}\")"
   ]
  },
  {
   "cell_type": "code",
   "execution_count": 14,
   "id": "3af0d7f2-b4c9-429f-9a0f-1506867d6d12",
   "metadata": {},
   "outputs": [],
   "source": [
    "boxes = [shapely.box(x,y,x+resolution,y+resolution) for x, y in product(range(bounds[0], bounds[2], resolution), range(bounds[1], bounds[3], resolution))]\n",
    "boxesDf = gpd.GeoDataFrame(geometry=boxes).set_crs(neighborhoodDf.crs)\n",
    "boxesDf = boxesDf[boxesDf.intersects(neighborhoodDf[captureHoodsMask].union_all())].copy()\n",
    "boxesDf['AltitudeTotal'] = np.nan\n",
    "boxesDf['WaterTotal'] = np.nan\n",
    "boxesDf['Int'] = np.nan\n",
    "boxesDf['Total'] = np.nan\n",
    "boxesDf['RunTime'] = datetime.now()-datetime.now()\n"
   ]
  },
  {
   "cell_type": "code",
   "execution_count": 15,
   "id": "c9b1e5dc-4573-4dff-8941-10a5491c50a1",
   "metadata": {},
   "outputs": [
    {
     "data": {
      "text/plain": [
       "<Axes: >"
      ]
     },
     "execution_count": 15,
     "metadata": {},
     "output_type": "execute_result"
    },
    {
     "data": {
      "image/png": "[encoded data removed]",
      "text/plain": [
       "<Figure size 640x480 with 1 Axes>"
      ]
     },
     "metadata": {},
     "output_type": "display_data"
    }
   ],
   "source": [
    "ax = neighborhoodDf.plot()\n",
    "boxesDf.plot(edgecolor='red', color=None, ax=ax)"
   ]
  },
  {
   "cell_type": "code",
   "execution_count": 16,
   "id": "c3c291ee-83e0-4bf1-ac32-be62b66aba6e",
   "metadata": {},
   "outputs": [
    {
     "data": {
      "text/html": [
       "<div>\n",
       "<style scoped>\n",
       "    .dataframe tbody tr th:only-of-type {\n",
       "        vertical-align: middle;\n",
       "    }\n",
       "\n",
       "    .dataframe tbody tr th {\n",
       "        vertical-align: top;\n",
       "    }\n",
       "\n",
       "    .dataframe thead th {\n",
       "        text-align: right;\n",
       "    }\n",
       "</style>\n",
       "<table border=\"1\" class=\"dataframe\">\n",
       "  <thead>\n",
       "    <tr style=\"text-align: right;\">\n",
       "      <th></th>\n",
       "      <th>Name</th>\n",
       "      <th>Comment</th>\n",
       "      <th>PRJ_ID</th>\n",
       "      <th>WU_ID</th>\n",
       "      <th>WU_Name</th>\n",
       "      <th>geometry</th>\n",
       "    </tr>\n",
       "    <tr>\n",
       "      <th>Name</th>\n",
       "      <th></th>\n",
       "      <th></th>\n",
       "      <th></th>\n",
       "      <th></th>\n",
       "      <th></th>\n",
       "      <th></th>\n",
       "    </tr>\n",
       "  </thead>\n",
       "  <tbody>\n",
       "    <tr>\n",
       "      <th>/home/g/Dev/NewOrleansElevation/datasets/laz/USGS_LPC_LA_2021GreaterNewOrleans_C22_w0809n3329.laz</th>\n",
       "      <td>w0809n3329</td>\n",
       "      <td>None</td>\n",
       "      <td>300052</td>\n",
       "      <td>300052</td>\n",
       "      <td>LA_2021GNO_1_C22</td>\n",
       "      <td>POLYGON ((810000 3329000, 809000 3329000, 8090...</td>\n",
       "    </tr>\n",
       "    <tr>\n",
       "      <th>/home/g/Dev/NewOrleansElevation/datasets/laz/USGS_LPC_LA_2021GreaterNewOrleans_C22_w0755n3296.laz</th>\n",
       "      <td>w0755n3296</td>\n",
       "      <td>None</td>\n",
       "      <td>300052</td>\n",
       "      <td>300052</td>\n",
       "      <td>LA_2021GNO_1_C22</td>\n",
       "      <td>POLYGON ((756000 3296000, 755000 3296000, 7550...</td>\n",
       "    </tr>\n",
       "    <tr>\n",
       "      <th>/home/g/Dev/NewOrleansElevation/datasets/laz/USGS_LPC_LA_2021GreaterNewOrleans_C22_w0673n3303.laz</th>\n",
       "      <td>w0673n3303</td>\n",
       "      <td>None</td>\n",
       "      <td>300052</td>\n",
       "      <td>300052</td>\n",
       "      <td>LA_2021GNO_1_C22</td>\n",
       "      <td>POLYGON ((674000 3303000, 673500 3303000, 6735...</td>\n",
       "    </tr>\n",
       "    <tr>\n",
       "      <th>/home/g/Dev/NewOrleansElevation/datasets/laz/USGS_LPC_LA_2021GreaterNewOrleans_C22_w0704n3295.laz</th>\n",
       "      <td>w0704n3295</td>\n",
       "      <td>None</td>\n",
       "      <td>300052</td>\n",
       "      <td>300052</td>\n",
       "      <td>LA_2021GNO_1_C22</td>\n",
       "      <td>POLYGON ((705000 3295000, 704000 3295000, 7040...</td>\n",
       "    </tr>\n",
       "    <tr>\n",
       "      <th>/home/g/Dev/NewOrleansElevation/datasets/laz/USGS_LPC_LA_2021GreaterNewOrleans_C22_w0748n3320.laz</th>\n",
       "      <td>w0748n3320</td>\n",
       "      <td>None</td>\n",
       "      <td>300052</td>\n",
       "      <td>300052</td>\n",
       "      <td>LA_2021GNO_1_C22</td>\n",
       "      <td>POLYGON ((749000 3320000, 748000 3320000, 7480...</td>\n",
       "    </tr>\n",
       "  </tbody>\n",
       "</table>\n",
       "</div>"
      ],
      "text/plain": [
       "                                                          Name Comment  \\\n",
       "Name                                                                     \n",
       "/home/g/Dev/NewOrleansElevation/datasets/laz/US...  w0809n3329    None   \n",
       "/home/g/Dev/NewOrleansElevation/datasets/laz/US...  w0755n3296    None   \n",
       "/home/g/Dev/NewOrleansElevation/datasets/laz/US...  w0673n3303    None   \n",
       "/home/g/Dev/NewOrleansElevation/datasets/laz/US...  w0704n3295    None   \n",
       "/home/g/Dev/NewOrleansElevation/datasets/laz/US...  w0748n3320    None   \n",
       "\n",
       "                                                    PRJ_ID   WU_ID  \\\n",
       "Name                                                                 \n",
       "/home/g/Dev/NewOrleansElevation/datasets/laz/US...  300052  300052   \n",
       "/home/g/Dev/NewOrleansElevation/datasets/laz/US...  300052  300052   \n",
       "/home/g/Dev/NewOrleansElevation/datasets/laz/US...  300052  300052   \n",
       "/home/g/Dev/NewOrleansElevation/datasets/laz/US...  300052  300052   \n",
       "/home/g/Dev/NewOrleansElevation/datasets/laz/US...  300052  300052   \n",
       "\n",
       "                                                             WU_Name  \\\n",
       "Name                                                                   \n",
       "/home/g/Dev/NewOrleansElevation/datasets/laz/US...  LA_2021GNO_1_C22   \n",
       "/home/g/Dev/NewOrleansElevation/datasets/laz/US...  LA_2021GNO_1_C22   \n",
       "/home/g/Dev/NewOrleansElevation/datasets/laz/US...  LA_2021GNO_1_C22   \n",
       "/home/g/Dev/NewOrleansElevation/datasets/laz/US...  LA_2021GNO_1_C22   \n",
       "/home/g/Dev/NewOrleansElevation/datasets/laz/US...  LA_2021GNO_1_C22   \n",
       "\n",
       "                                                                                             geometry  \n",
       "Name                                                                                                   \n",
       "/home/g/Dev/NewOrleansElevation/datasets/laz/US...  POLYGON ((810000 3329000, 809000 3329000, 8090...  \n",
       "/home/g/Dev/NewOrleansElevation/datasets/laz/US...  POLYGON ((756000 3296000, 755000 3296000, 7550...  \n",
       "/home/g/Dev/NewOrleansElevation/datasets/laz/US...  POLYGON ((674000 3303000, 673500 3303000, 6735...  \n",
       "/home/g/Dev/NewOrleansElevation/datasets/laz/US...  POLYGON ((705000 3295000, 704000 3295000, 7040...  \n",
       "/home/g/Dev/NewOrleansElevation/datasets/laz/US...  POLYGON ((749000 3320000, 748000 3320000, 7480...  "
      ]
     },
     "execution_count": 16,
     "metadata": {},
     "output_type": "execute_result"
    }
   ],
   "source": [
    "tileIndex = gpd.read_file(f\"{dataPath}USGS_LA_2021GNO_1_C22_TileIndex{os.sep}USGS_LA_2021GNO_1_C22_TileIndex.shp\").to_crs(neighborhoodDf.crs)\n",
    "tileIndex.index = tileIndex['Name'].map(lambda f: f\"{fullDataPath}laz{os.sep}USGS_LPC_LA_2021GreaterNewOrleans_C22_{f}.laz\")\n",
    "tileIndexBroadcast = sc.broadcast(tileIndex)\n",
    "tileIndexBroadcast.value.head()"
   ]
  },
  {
   "cell_type": "code",
   "execution_count": 17,
   "id": "c32b216d-167a-4092-8d02-fb3e4f8bfddd",
   "metadata": {},
   "outputs": [],
   "source": [
    "\n",
    "def processLas(inputTup, suppressOut=True):\n",
    "    startTime = datetime.now()\n",
    "    \n",
    "    BoxIdx = inputTup[0]\n",
    "    boxBounds = inputTup[1:]\n",
    "    \n",
    "    lp(f\"Processing[{BoxIdx}] bounds {boxBounds}\",suppressOut)\n",
    "\n",
    "    altTotal = 0\n",
    "    waterTotal = 0\n",
    "    pointTotal = 0\n",
    "    intenseTotal = 0\n",
    "    for idx, row in tileIndexBroadcast.value.iterrows():\n",
    "        if not row['geometry'].intersects(shapely.box(*boxBounds)):\n",
    "            #no intersection scip\n",
    "            continue\n",
    "\n",
    "        try:\n",
    "            with laspy.open(idx, 'r') as f:\n",
    "                las = f.read()\n",
    "        except FileNotFoundError:\n",
    "            warnings.warn(f\"path {idx} does not exist skipping\" )\n",
    "            continue\n",
    "        \n",
    "        transBoxBounds = (  int((boxBounds[0] - las.header.offsets[0]) / las.header.scales[0]),\\\n",
    "                            int((boxBounds[1] - las.header.offsets[1]) / las.header.scales[1]),\\\n",
    "                            int((boxBounds[2] - las.header.offsets[0]) / las.header.scales[0]),\\\n",
    "                            int((boxBounds[3] - las.header.offsets[1]) / las.header.scales[1]),)\n",
    "\n",
    "        \n",
    "        lp(f\"LAZ Bounds         = ({las.header.mins[0]},{las.header.mins[1]},{las.header.maxs[0]},{las.header.maxs[1]})\",suppressOut)\n",
    "        lp(f\"LAZ Unscale Bounds = ({las.X.min()},{las.Y.min()},{las.X.max()},{las.y.max()})\",suppressOut)\n",
    "        lp(f\"newBox:  {transBoxBounds}\", suppressOut)\n",
    "        \n",
    "        X = las.X\n",
    "        Y = las.Y\n",
    "        Z = las.Z\n",
    "        cls = las.classification\n",
    "        intense = las.intensity\n",
    "\n",
    "                \n",
    "        groundMask = np.isin(cls, [2,9])\n",
    "        inBoundsMaskX = np.logical_and(X >= (transBoxBounds[0]), (X <= (transBoxBounds[2])))\n",
    "        lp(f\"InBoundsX:  {np.count_nonzero(inBoundsMaskX)}\", suppressOut)\n",
    "        inBoundsMaskY = np.logical_and(Y >= (transBoxBounds[1]), (Y <= (transBoxBounds[3])))\n",
    "        lp(f\"InBoundsY:  {np.count_nonzero(inBoundsMaskY)}\", suppressOut)\n",
    "        inBoundsMask = np.logical_and(inBoundsMaskX,inBoundsMaskY)\n",
    "        lp(f\"InBounds:  {np.count_nonzero(inBoundsMask)}\", suppressOut)\n",
    "        goodPointMask = np.logical_and( groundMask, inBoundsMask)\n",
    "        \n",
    "        lp(f\"Good points / Total {np.count_nonzero(goodPointMask)}/{goodPointMask.shape[0]}\", suppressOut)\n",
    " \n",
    "        altTotal += int(Z[goodPointMask].sum())\n",
    "        waterTotal += np.count_nonzero(cls[goodPointMask] == 9)\n",
    "        intenseTotal += int(intense[goodPointMask].sum())\n",
    "        pointTotal += np.count_nonzero(goodPointMask)\n",
    "\n",
    "    return (BoxIdx,altTotal, waterTotal, intenseTotal, pointTotal, datetime.now() - startTime)\n"
   ]
  },
  {
   "cell_type": "code",
   "execution_count": 18,
   "id": "8fb84dd2-c404-4360-bd88-6502bedd99f4",
   "metadata": {},
   "outputs": [
    {
     "name": "stdout",
     "output_type": "stream",
     "text": [
      "[2025-03-29 13:39:15.234147] Sanity checks for indexes:  []\n",
      "[2025-03-29 13:39:15.235815] Processing[4] bounds (776039.0, 3311888.0, 777039.0, 3312888.0)\n",
      "[2025-03-29 13:39:16.068573] LAZ Bounds         = (777000.001,3312000.001,778000.0,3312999.9990000003)\n",
      "[2025-03-29 13:39:16.114626] LAZ Unscale Bounds = (777000001,-499999,778000000,3312999.999)\n",
      "[2025-03-29 13:39:16.114714] newBox:  (776039000, -612000, 777039000, 388000)\n",
      "[2025-03-29 13:39:16.203627] InBoundsX:  166270\n",
      "[2025-03-29 13:39:16.234171] InBoundsY:  3234959\n",
      "[2025-03-29 13:39:16.237481] InBounds:  109534\n",
      "[2025-03-29 13:39:16.239317] Good points / Total 31475/4611641\n",
      "[2025-03-29 13:39:17.108753] LAZ Bounds         = (776000.0,3312000.0,777000.0,3312999.9990000003)\n",
      "[2025-03-29 13:39:17.160830] LAZ Unscale Bounds = (776000000,-500000,777000000,3312999.999)\n",
      "[2025-03-29 13:39:17.160880] newBox:  (776039000, -612000, 777039000, 388000)\n",
      "[2025-03-29 13:39:17.265036] InBoundsX:  5796870\n",
      "[2025-03-29 13:39:17.293231] InBoundsY:  5826931\n",
      "[2025-03-29 13:39:17.295002] InBounds:  5499959\n",
      "[2025-03-29 13:39:17.296607] Good points / Total 1557355/6162259\n"
     ]
    },
    {
     "name": "stderr",
     "output_type": "stream",
     "text": [
      "/tmp/ipykernel_416390/1954683479.py:22: UserWarning: path /home/g/Dev/NewOrleansElevation/datasets/laz/USGS_LPC_LA_2021GreaterNewOrleans_C22_w0776n3311.laz does not exist skipping\n",
      "  warnings.warn(f\"path {idx} does not exist skipping\" )\n",
      "/tmp/ipykernel_416390/1954683479.py:22: UserWarning: path /home/g/Dev/NewOrleansElevation/datasets/laz/USGS_LPC_LA_2021GreaterNewOrleans_C22_w0777n3311.laz does not exist skipping\n",
      "  warnings.warn(f\"path {idx} does not exist skipping\" )\n"
     ]
    },
    {
     "name": "stdout",
     "output_type": "stream",
     "text": [
      "0 = (4, 3124952105, 845, 1218623103, 1588830, datetime.timedelta(seconds=2, microseconds=344735))\n",
      "[2025-03-29 13:39:17.582482] Processing[5] bounds (776039.0, 3312888.0, 777039.0, 3313888.0)\n",
      "[2025-03-29 13:39:19.672263] LAZ Bounds         = (777000.001,3313000.0,778000.0,3313999.9990000003)\n",
      "[2025-03-29 13:39:19.836262] LAZ Unscale Bounds = (777000001,-500000,778000000,3313999.999)\n",
      "[2025-03-29 13:39:19.836311] newBox:  (776039000, -612000, 777039000, 388000)\n",
      "[2025-03-29 13:39:20.016565] InBoundsX:  470261\n",
      "[2025-03-29 13:39:20.088167] InBoundsY:  13047825\n",
      "[2025-03-29 13:39:20.092564] InBounds:  425096\n",
      "[2025-03-29 13:39:20.096998] Good points / Total 87965/14847494\n",
      "[2025-03-29 13:39:20.745263] LAZ Bounds         = (777000.001,3312000.001,778000.0,3312999.9990000003)\n",
      "[2025-03-29 13:39:20.788693] LAZ Unscale Bounds = (777000001,-499999,778000000,3312999.999)\n",
      "[2025-03-29 13:39:20.788744] newBox:  (776039000, 388000, 777039000, 1388000)\n",
      "[2025-03-29 13:39:20.850148] InBoundsX:  166270\n",
      "[2025-03-29 13:39:20.871172] InBoundsY:  1376692\n",
      "[2025-03-29 13:39:20.872331] InBounds:  56736\n",
      "[2025-03-29 13:39:20.873531] Good points / Total 14612/4611641\n",
      "[2025-03-29 13:39:21.724709] LAZ Bounds         = (776000.0,3312000.0,777000.0,3312999.9990000003)\n",
      "[2025-03-29 13:39:21.779790] LAZ Unscale Bounds = (776000000,-500000,777000000,3312999.999)\n",
      "[2025-03-29 13:39:21.779855] newBox:  (776039000, 388000, 777039000, 1388000)\n",
      "[2025-03-29 13:39:21.877083] InBoundsX:  5796870\n",
      "[2025-03-29 13:39:21.907938] InBoundsY:  335332\n",
      "[2025-03-29 13:39:21.909886] InBounds:  296914\n",
      "[2025-03-29 13:39:21.911681] Good points / Total 93050/6162259\n",
      "[2025-03-29 13:39:22.561062] LAZ Bounds         = (776000.0,3313000.0,777000.0,3313999.9990000003)\n",
      "[2025-03-29 13:39:22.599256] LAZ Unscale Bounds = (776000000,-500000,777000000,3313999.999)\n",
      "[2025-03-29 13:39:22.599305] newBox:  (776039000, -612000, 777039000, 388000)\n",
      "[2025-03-29 13:39:22.663470] InBoundsX:  4653269\n",
      "[2025-03-29 13:39:22.684592] InBoundsY:  4023139\n",
      "[2025-03-29 13:39:22.685804] InBounds:  3999848\n",
      "[2025-03-29 13:39:22.689047] Good points / Total 1093516/4676560\n",
      "1 = (5, 6639286643, 911, 1180151691, 1289143, datetime.timedelta(seconds=5, microseconds=263905))\n",
      "[2025-03-29 13:39:22.848259] Processing[6] bounds (776039.0, 3313888.0, 777039.0, 3314888.0)\n",
      "[2025-03-29 13:39:24.728972] LAZ Bounds         = (777000.001,3314000.0,778000.0,3314999.9990000003)\n",
      "[2025-03-29 13:39:24.853299] LAZ Unscale Bounds = (777000001,-500000,778000000,3314999.999)\n",
      "[2025-03-29 13:39:24.853349] newBox:  (776039000, -612000, 777039000, 388000)\n",
      "[2025-03-29 13:39:25.043913] InBoundsX:  481310\n",
      "[2025-03-29 13:39:25.110158] InBoundsY:  12999309\n",
      "[2025-03-29 13:39:25.114267] InBounds:  429059\n",
      "[2025-03-29 13:39:25.118519] Good points / Total 78515/14658538\n",
      "[2025-03-29 13:39:26.987409] LAZ Bounds         = (777000.001,3313000.0,778000.0,3313999.9990000003)\n",
      "[2025-03-29 13:39:27.114237] LAZ Unscale Bounds = (777000001,-500000,778000000,3313999.999)\n",
      "[2025-03-29 13:39:27.114284] newBox:  (776039000, 388000, 777039000, 1388000)\n",
      "[2025-03-29 13:39:27.295142] InBoundsX:  470261\n",
      "[2025-03-29 13:39:27.367270] InBoundsY:  1799682\n",
      "[2025-03-29 13:39:27.371521] InBounds:  45166\n",
      "[2025-03-29 13:39:27.376894] Good points / Total 17469/14847494\n",
      "[2025-03-29 13:39:28.205866] LAZ Bounds         = (776093.437,3314000.0,777000.0,3314999.9990000003)\n",
      "[2025-03-29 13:39:28.256991] LAZ Unscale Bounds = (776093437,-500000,777000000,3314999.999)\n",
      "[2025-03-29 13:39:28.257039] newBox:  (776039000, -612000, 777039000, 388000)\n",
      "[2025-03-29 13:39:28.334814] InBoundsX:  5489318\n",
      "[2025-03-29 13:39:28.361291] InBoundsY:  4838682\n",
      "[2025-03-29 13:39:28.362837] InBounds:  4838682\n",
      "[2025-03-29 13:39:28.364453] Good points / Total 1090514/5489318\n",
      "[2025-03-29 13:39:29.135722] LAZ Bounds         = (776000.0,3313000.0,777000.0,3313999.9990000003)\n",
      "[2025-03-29 13:39:29.176302] LAZ Unscale Bounds = (776000000,-500000,777000000,3313999.999)\n",
      "[2025-03-29 13:39:29.176351] newBox:  (776039000, 388000, 777039000, 1388000)\n",
      "[2025-03-29 13:39:29.245893] InBoundsX:  4653269\n",
      "[2025-03-29 13:39:29.270178] InBoundsY:  653428\n",
      "[2025-03-29 13:39:29.271416] InBounds:  653428\n",
      "[2025-03-29 13:39:29.272713] Good points / Total 173248/4676560\n",
      "2 = (6, 4592979709, 7657, 955301611, 1359746, datetime.timedelta(seconds=6, microseconds=551496))\n",
      "[2025-03-29 13:39:29.401760] Processing[7] bounds (776039.0, 3314888.0, 777039.0, 3315888.0)\n",
      "[2025-03-29 13:39:31.499376] LAZ Bounds         = (777000.001,3315000.0,778000.0,3315999.9990000003)\n",
      "[2025-03-29 13:39:31.653276] LAZ Unscale Bounds = (777000001,-500000,778000000,3315999.999)\n",
      "[2025-03-29 13:39:31.653370] newBox:  (776039000, -612000, 777039000, 388000)\n",
      "[2025-03-29 13:39:31.857038] InBoundsX:  462008\n",
      "[2025-03-29 13:39:31.946806] InBoundsY:  13195332\n",
      "[2025-03-29 13:39:31.952625] InBounds:  402970\n",
      "[2025-03-29 13:39:31.959062] Good points / Total 44929/14832738\n",
      "[2025-03-29 13:39:33.895824] LAZ Bounds         = (777000.001,3314000.0,778000.0,3314999.9990000003)\n",
      "[2025-03-29 13:39:34.014103] LAZ Unscale Bounds = (777000001,-500000,778000000,3314999.999)\n",
      "[2025-03-29 13:39:34.014152] newBox:  (776039000, 388000, 777039000, 1388000)\n",
      "[2025-03-29 13:39:34.210739] InBoundsX:  481310\n",
      "[2025-03-29 13:39:34.277548] InBoundsY:  1659246\n",
      "[2025-03-29 13:39:34.281507] InBounds:  52255\n",
      "[2025-03-29 13:39:34.285520] Good points / Total 7268/14658538\n",
      "[2025-03-29 13:39:34.999724] LAZ Bounds         = (776093.437,3314000.0,777000.0,3314999.9990000003)\n",
      "[2025-03-29 13:39:35.058074] LAZ Unscale Bounds = (776093437,-500000,777000000,3314999.999)\n",
      "[2025-03-29 13:39:35.058167] newBox:  (776039000, 388000, 777039000, 1388000)\n",
      "[2025-03-29 13:39:35.136144] InBoundsX:  5489318\n",
      "[2025-03-29 13:39:35.163381] InBoundsY:  650646\n",
      "[2025-03-29 13:39:35.164931] InBounds:  650646\n",
      "[2025-03-29 13:39:35.166735] Good points / Total 118753/5489318\n",
      "[2025-03-29 13:39:36.269028] LAZ Bounds         = (776032.439,3315000.0,777000.0,3315999.9990000003)\n",
      "[2025-03-29 13:39:36.330245] LAZ Unscale Bounds = (776032439,-500000,777000000,3315999.999)\n",
      "[2025-03-29 13:39:36.330303] newBox:  (776039000, -612000, 777039000, 388000)\n",
      "[2025-03-29 13:39:36.418876] InBoundsX:  6735798\n",
      "[2025-03-29 13:39:36.452519] InBoundsY:  5796311\n",
      "[2025-03-29 13:39:36.454411] InBounds:  5796072\n",
      "[2025-03-29 13:39:36.456823] Good points / Total 994951/6736037\n",
      "3 = (7, 3447445693, 1599, 730120809, 1165901, datetime.timedelta(seconds=7, microseconds=111249))\n",
      "[2025-03-29 13:39:36.518065] Processing[8] bounds (776039.0, 3315888.0, 777039.0, 3316888.0)\n",
      "[2025-03-29 13:39:38.476719] LAZ Bounds         = (777000.001,3315000.0,778000.0,3315999.9990000003)\n",
      "[2025-03-29 13:39:38.603585] LAZ Unscale Bounds = (777000001,-500000,778000000,3315999.999)\n",
      "[2025-03-29 13:39:38.603638] newBox:  (776039000, 388000, 777039000, 1388000)\n",
      "[2025-03-29 13:39:38.802611] InBoundsX:  462008\n",
      "[2025-03-29 13:39:38.897567] InBoundsY:  1637417\n",
      "[2025-03-29 13:39:38.903857] InBounds:  59038\n",
      "[2025-03-29 13:39:38.908550] Good points / Total 7121/14832738\n",
      "[2025-03-29 13:39:40.223038] LAZ Bounds         = (776004.826,3316000.0,777000.0,3317000.0)\n",
      "[2025-03-29 13:39:40.304530] LAZ Unscale Bounds = (776004826,-500000,777000000,3317000.0)\n",
      "[2025-03-29 13:39:40.304581] newBox:  (776039000, -612000, 777039000, 388000)\n",
      "[2025-03-29 13:39:40.435775] InBoundsX:  9246250\n",
      "[2025-03-29 13:39:40.486690] InBoundsY:  8105732\n",
      "[2025-03-29 13:39:40.489361] InBounds:  8105716\n",
      "[2025-03-29 13:39:40.492057] Good points / Total 1393435/9246266\n",
      "[2025-03-29 13:39:42.521336] LAZ Bounds         = (777000.001,3316000.0,778000.0,3317000.0)\n",
      "[2025-03-29 13:39:42.638987] LAZ Unscale Bounds = (777000001,-500000,778000000,3317000.0)\n",
      "[2025-03-29 13:39:42.639039] newBox:  (776039000, -612000, 777039000, 388000)\n",
      "[2025-03-29 13:39:42.813639] InBoundsX:  426489\n",
      "[2025-03-29 13:39:42.880493] InBoundsY:  12986786\n",
      "[2025-03-29 13:39:42.884566] InBounds:  383200\n",
      "[2025-03-29 13:39:42.888658] Good points / Total 59649/14637103\n",
      "[2025-03-29 13:39:43.761881] LAZ Bounds         = (776032.439,3315000.0,777000.0,3315999.9990000003)\n",
      "[2025-03-29 13:39:43.820265] LAZ Unscale Bounds = (776032439,-500000,777000000,3315999.999)\n",
      "[2025-03-29 13:39:43.820318] newBox:  (776039000, 388000, 777039000, 1388000)\n",
      "[2025-03-29 13:39:43.904098] InBoundsX:  6735798\n",
      "[2025-03-29 13:39:43.934657] InBoundsY:  939733\n",
      "[2025-03-29 13:39:43.938041] InBounds:  939733\n",
      "[2025-03-29 13:39:43.939988] Good points / Total 160200/6736037\n",
      "4 = (8, 3901735825, 2183, 866172352, 1620405, datetime.timedelta(seconds=7, microseconds=435061))\n",
      "[2025-03-29 13:39:43.955246] Processing[78] bounds (778039.0, 3315888.0, 779039.0, 3316888.0)\n",
      "[2025-03-29 13:39:45.750854] LAZ Bounds         = (778000.001,3315000.0,779000.0,3315999.9990000003)\n",
      "[2025-03-29 13:39:45.867301] LAZ Unscale Bounds = (778000001,-500000,779000000,3315999.999)\n",
      "[2025-03-29 13:39:45.867352] newBox:  (778039000, 388000, 779039000, 1388000)\n",
      "[2025-03-29 13:39:46.040654] InBoundsX:  13888132\n",
      "[2025-03-29 13:39:46.114980] InBoundsY:  1618514\n",
      "[2025-03-29 13:39:46.119160] InBounds:  1556484\n",
      "[2025-03-29 13:39:46.124660] Good points / Total 244519/14338857\n",
      "[2025-03-29 13:39:47.608543] LAZ Bounds         = (779000.001,3315000.0,780000.0,3315999.9990000003)\n",
      "[2025-03-29 13:39:47.692911] LAZ Unscale Bounds = (779000001,-500000,780000000,3315999.999)\n",
      "[2025-03-29 13:39:47.692987] newBox:  (778039000, 388000, 779039000, 1388000)\n",
      "[2025-03-29 13:39:47.835875] InBoundsX:  372177\n",
      "[2025-03-29 13:39:47.886861] InBoundsY:  1146264\n",
      "[2025-03-29 13:39:47.889585] InBounds:  40408\n",
      "[2025-03-29 13:39:47.892850] Good points / Total 10016/9611955\n",
      "[2025-03-29 13:39:49.372387] LAZ Bounds         = (779000.001,3316000.0,780000.0,3317000.0)\n",
      "[2025-03-29 13:39:49.472245] LAZ Unscale Bounds = (779000001,-500000,780000000,3317000.0)\n",
      "[2025-03-29 13:39:49.472295] newBox:  (778039000, -612000, 779039000, 388000)\n",
      "[2025-03-29 13:39:49.608257] InBoundsX:  390182\n",
      "[2025-03-29 13:39:49.654615] InBoundsY:  9219775\n",
      "[2025-03-29 13:39:49.657464] InBounds:  343212\n",
      "[2025-03-29 13:39:49.660372] Good points / Total 58944/10312327\n",
      "[2025-03-29 13:39:51.632413] LAZ Bounds         = (778000.001,3316000.0,779000.0,3317000.0)\n",
      "[2025-03-29 13:39:51.753949] LAZ Unscale Bounds = (778000001,-500000,779000000,3317000.0)\n",
      "[2025-03-29 13:39:51.754005] newBox:  (778039000, -612000, 779039000, 388000)\n",
      "[2025-03-29 13:39:51.955669] InBoundsX:  13570770\n",
      "[2025-03-29 13:39:52.046487] InBoundsY:  12310537\n",
      "[2025-03-29 13:39:52.050947] InBounds:  11879021\n",
      "[2025-03-29 13:39:52.057539] Good points / Total 1797643/14062046\n",
      "25 = (78, -1289621533, 0, 1138043258, 2111122, datetime.timedelta(seconds=8, microseconds=401500))\n",
      "[2025-03-29 13:39:52.361453] Processing[258] bounds (783039.0, 3320888.0, 784039.0, 3321888.0)\n",
      "[2025-03-29 13:39:53.985368] LAZ Bounds         = (783000.001,3321000.001,784000.0,3322000.0)\n",
      "[2025-03-29 13:39:54.095855] LAZ Unscale Bounds = (783000001,-500999,784000000,3322000.0)\n",
      "[2025-03-29 13:39:54.095945] newBox:  (783039000, -613000, 784039000, 387000)\n",
      "[2025-03-29 13:39:54.259452] InBoundsX:  11757435\n",
      "[2025-03-29 13:39:54.320512] InBoundsY:  10739934\n",
      "[2025-03-29 13:39:54.324000] InBounds:  10378772\n",
      "[2025-03-29 13:39:54.327476] Good points / Total 2074290/12182846\n",
      "[2025-03-29 13:39:56.147796] LAZ Bounds         = (784000.001,3320000.001,784999.9990000001,3321000.0)\n",
      "[2025-03-29 13:39:56.251080] LAZ Unscale Bounds = (784000001,-500999,784999999,3321000.0)\n",
      "[2025-03-29 13:39:56.251150] newBox:  (783039000, 387000, 784039000, 1387000)\n",
      "[2025-03-29 13:39:56.414110] InBoundsX:  351920\n",
      "[2025-03-29 13:39:56.469400] InBoundsY:  1310055\n",
      "[2025-03-29 13:39:56.472712] InBounds:  44916\n",
      "[2025-03-29 13:39:56.476028] Good points / Total 8920/11906300\n",
      "[2025-03-29 13:39:58.025490] LAZ Bounds         = (783000.001,3320000.001,784000.0,3321000.0)\n",
      "[2025-03-29 13:39:58.116937] LAZ Unscale Bounds = (783000001,-500999,784000000,3321000.0)\n",
      "[2025-03-29 13:39:58.116985] newBox:  (783039000, 387000, 784039000, 1387000)\n",
      "[2025-03-29 13:39:58.270264] InBoundsX:  11034627\n",
      "[2025-03-29 13:39:58.321360] InBoundsY:  1285975\n",
      "[2025-03-29 13:39:58.324476] InBounds:  1244674\n",
      "[2025-03-29 13:39:58.327645] Good points / Total 267355/11401791\n",
      "[2025-03-29 13:40:00.030893] LAZ Bounds         = (784000.001,3321000.001,784999.9990000001,3322000.0)\n",
      "[2025-03-29 13:40:00.145561] LAZ Unscale Bounds = (784000001,-500999,784999999,3322000.0)\n",
      "[2025-03-29 13:40:00.145610] newBox:  (783039000, -613000, 784039000, 387000)\n",
      "[2025-03-29 13:40:00.318425] InBoundsX:  376410\n",
      "[2025-03-29 13:40:00.372502] InBoundsY:  10390929\n",
      "[2025-03-29 13:40:00.375856] InBounds:  334321\n",
      "[2025-03-29 13:40:00.379208] Good points / Total 81655/11761174\n",
      "100 = (258, -1565371529, 22, 1254389389, 2432220, datetime.timedelta(seconds=8, microseconds=225724))\n",
      "[2025-03-29 13:40:00.591526] Processing[495] bounds (790039.0, 3312888.0, 791039.0, 3313888.0)\n",
      "[2025-03-29 13:40:02.479626] LAZ Bounds         = (790000.0,3313000.0,790999.9990000001,3313999.9990000003)\n",
      "[2025-03-29 13:40:02.586394] LAZ Unscale Bounds = (790000000,-500000,790999999,3313999.999)\n",
      "[2025-03-29 13:40:02.586442] newBox:  (790039000, -612000, 791039000, 388000)\n",
      "[2025-03-29 13:40:02.759222] InBoundsX:  12450832\n",
      "[2025-03-29 13:40:02.819106] InBoundsY:  11503629\n",
      "[2025-03-29 13:40:02.822706] InBounds:  11107254\n",
      "[2025-03-29 13:40:02.826603] Good points / Total 1761952/12898993\n",
      "[2025-03-29 13:40:04.314396] LAZ Bounds         = (790000.0,3312000.0,790999.9990000001,3312999.9990000003)\n",
      "[2025-03-29 13:40:04.401781] LAZ Unscale Bounds = (790000000,-500000,790999999,3312999.999)\n",
      "[2025-03-29 13:40:04.401827] newBox:  (790039000, 388000, 791039000, 1388000)\n",
      "[2025-03-29 13:40:04.565946] InBoundsX:  10382746\n",
      "[2025-03-29 13:40:04.615641] InBoundsY:  1376044\n",
      "[2025-03-29 13:40:04.618676] InBounds:  1331440\n",
      "[2025-03-29 13:40:04.621677] Good points / Total 250644/10840986\n",
      "[2025-03-29 13:40:05.968483] LAZ Bounds         = (791000.0,3313000.0,791999.998,3313999.9990000003)\n",
      "[2025-03-29 13:40:06.047027] LAZ Unscale Bounds = (791000000,-500000,791999998,3313999.999)\n",
      "[2025-03-29 13:40:06.047085] newBox:  (790039000, -612000, 791039000, 388000)\n",
      "[2025-03-29 13:40:06.187156] InBoundsX:  376145\n",
      "[2025-03-29 13:40:06.236976] InBoundsY:  7857848\n",
      "[2025-03-29 13:40:06.239514] InBounds:  337166\n",
      "[2025-03-29 13:40:06.241905] Good points / Total 92992/8840932\n",
      "[2025-03-29 13:40:07.366446] LAZ Bounds         = (791000.0,3312000.0,791999.9990000001,3312999.9990000003)\n",
      "[2025-03-29 13:40:07.436215] LAZ Unscale Bounds = (791000000,-500000,791999999,3312999.999)\n",
      "[2025-03-29 13:40:07.436269] newBox:  (790039000, 388000, 791039000, 1388000)\n",
      "[2025-03-29 13:40:07.554043] InBoundsX:  644026\n",
      "[2025-03-29 13:40:07.592048] InBoundsY:  925428\n",
      "[2025-03-29 13:40:07.596592] InBounds:  78242\n",
      "[2025-03-29 13:40:07.600539] Good points / Total 7575/7964149\n",
      "200 = (495, -649359774, 0, 987303433, 2113163, datetime.timedelta(seconds=7, microseconds=120910))\n",
      "[2025-03-29 13:40:07.715205] Processing[541] bounds (791039.0, 3323888.0, 792039.0, 3324888.0)\n",
      "[2025-03-29 13:40:09.194563] LAZ Bounds         = (792000.0,3323000.001,792999.9990000001,3323999.9990000003)\n",
      "[2025-03-29 13:40:09.309790] LAZ Unscale Bounds = (792000000,-499999,792999999,3323999.999)\n",
      "[2025-03-29 13:40:09.309842] newBox:  (791039000, 388000, 792039000, 1388000)\n",
      "[2025-03-29 13:40:09.511842] InBoundsX:  910844\n",
      "[2025-03-29 13:40:09.576130] InBoundsY:  1316752\n",
      "[2025-03-29 13:40:09.580571] InBounds:  105041\n",
      "[2025-03-29 13:40:09.585176] Good points / Total 13711/11754373\n",
      "[2025-03-29 13:40:10.953987] LAZ Bounds         = (792000.0,3324000.0,792999.9990000001,3324999.9990000003)\n",
      "[2025-03-29 13:40:11.042725] LAZ Unscale Bounds = (792000000,-500000,792999999,3324999.999)\n",
      "[2025-03-29 13:40:11.042775] newBox:  (791039000, -612000, 792039000, 388000)\n",
      "[2025-03-29 13:40:11.204457] InBoundsX:  546479\n",
      "[2025-03-29 13:40:11.258498] InBoundsY:  9588952\n",
      "[2025-03-29 13:40:11.262034] InBounds:  503712\n",
      "[2025-03-29 13:40:11.265503] Good points / Total 129842/10742701\n",
      "[2025-03-29 13:40:12.865811] LAZ Bounds         = (791000.0,3323000.001,791999.9990000001,3323999.9990000003)\n",
      "[2025-03-29 13:40:12.962515] LAZ Unscale Bounds = (791000000,-499999,791999999,3323999.999)\n",
      "[2025-03-29 13:40:12.962562] newBox:  (791039000, 388000, 792039000, 1388000)\n",
      "[2025-03-29 13:40:13.142770] InBoundsX:  10793643\n",
      "[2025-03-29 13:40:13.197087] InBoundsY:  1413888\n",
      "[2025-03-29 13:40:13.200298] InBounds:  1366168\n",
      "[2025-03-29 13:40:13.203646] Good points / Total 273031/11167713\n",
      "[2025-03-29 13:40:14.649243] LAZ Bounds         = (791000.0,3324000.0,791999.9990000001,3324999.9990000003)\n",
      "[2025-03-29 13:40:14.761040] LAZ Unscale Bounds = (791000000,-500000,791999999,3324999.999)\n",
      "[2025-03-29 13:40:14.761093] newBox:  (791039000, -612000, 792039000, 388000)\n",
      "[2025-03-29 13:40:14.925683] InBoundsX:  10709334\n",
      "[2025-03-29 13:40:14.975423] InBoundsY:  9843289\n",
      "[2025-03-29 13:40:14.978720] InBounds:  9523027\n",
      "[2025-03-29 13:40:14.981957] Good points / Total 1984101/11066618\n",
      "220 = (541, 137484355, 0, 1396202760, 2400685, datetime.timedelta(seconds=7, microseconds=451673))\n"
     ]
    }
   ],
   "source": [
    "#Just for sanity\n",
    "values = [0,1,2,3,4,25,100,200,220]\n",
    "lp(f\"Sanity checks for indexes:  {values}\")\n",
    "for i in values:\n",
    "    print(f\"{i} = {processLas(list(boxesDf.bounds.itertuples())[i], False)}\")\n"
   ]
  },
  {
   "cell_type": "code",
   "execution_count": 19,
   "id": "1bf8a31d-27c2-4da7-8ee9-b1dfa0d2cff7",
   "metadata": {},
   "outputs": [],
   "source": [
    "boxesRdd = sc.parallelize(boxesDf.bounds.itertuples(), 300)"
   ]
  },
  {
   "cell_type": "code",
   "execution_count": 20,
   "id": "388b37c2-e86a-4aef-9f97-a88a414f7da2",
   "metadata": {},
   "outputs": [],
   "source": [
    "boxesProcessedRdd = boxesRdd.map(processLas)"
   ]
  },
  {
   "cell_type": "code",
   "execution_count": 21,
   "id": "1be26364-eb96-4537-8951-a6280868f121",
   "metadata": {},
   "outputs": [
    {
     "name": "stdout",
     "output_type": "stream",
     "text": [
      "[2025-03-29 13:40:15.396222] 648 boxes total\n"
     ]
    }
   ],
   "source": [
    "lp(f\"{boxesDf.shape[0]} boxes total\")"
   ]
  },
  {
   "cell_type": "code",
   "execution_count": 22,
   "id": "51608f63-5621-4edc-b7ca-1ef1a3b1a59c",
   "metadata": {},
   "outputs": [
    {
     "name": "stderr",
     "output_type": "stream",
     "text": [
      "                                                                                "
     ]
    }
   ],
   "source": [
    "output = boxesProcessedRdd.collect()"
   ]
  },
  {
   "cell_type": "code",
   "execution_count": 23,
   "id": "fa5d7b50-4fa2-4183-ab3a-012c7de604b7",
   "metadata": {},
   "outputs": [],
   "source": [
    "sc.stop()"
   ]
  },
  {
   "cell_type": "code",
   "execution_count": 24,
   "id": "ccda7494-355e-46fc-93b2-b0918064699d",
   "metadata": {},
   "outputs": [
    {
     "data": {
      "text/plain": [
       "(4,\n",
       " 3124952105,\n",
       " 845,\n",
       " 1218623103,\n",
       " 1588830,\n",
       " datetime.timedelta(seconds=7, microseconds=233485))"
      ]
     },
     "execution_count": 24,
     "metadata": {},
     "output_type": "execute_result"
    }
   ],
   "source": [
    "output[0]"
   ]
  },
  {
   "cell_type": "code",
   "execution_count": 25,
   "id": "a3aa9ae4-0615-481e-9b97-ddbf2d402948",
   "metadata": {},
   "outputs": [],
   "source": [
    "for out in output:\n",
    "    boxesDf.loc[out[0], 'AltitudeTotal'] = out[1]\n",
    "    boxesDf.loc[out[0], 'WaterTotal'] = out[2]\n",
    "    boxesDf.loc[out[0], 'Int'] = out[3]\n",
    "    boxesDf.loc[out[0], 'Total'] = out[4]\n",
    "    boxesDf.loc[out[0], 'RunTime'] = out[5]"
   ]
  },
  {
   "cell_type": "code",
   "execution_count": 26,
   "id": "5e46f3dd-07e1-43f1-8a8e-ae796db25161",
   "metadata": {},
   "outputs": [
    {
     "name": "stdout",
     "output_type": "stream",
     "text": [
      "[2025-03-29 14:22:19.896292] 0 days 00:00:15.416313 avg runtime\t\ttotal:  0 days 02:46:29.771214\n"
     ]
    }
   ],
   "source": [
    "lp(f\"{boxesDf['RunTime'].mean()} avg runtime\\t\\ttotal:  {boxesDf['RunTime'].sum()}\")"
   ]
  },
  {
   "cell_type": "code",
   "execution_count": 27,
   "id": "526e1ec4-4a60-441b-bc9a-259571480a3b",
   "metadata": {},
   "outputs": [
    {
     "data": {
      "text/html": [
       "<div>\n",
       "<style scoped>\n",
       "    .dataframe tbody tr th:only-of-type {\n",
       "        vertical-align: middle;\n",
       "    }\n",
       "\n",
       "    .dataframe tbody tr th {\n",
       "        vertical-align: top;\n",
       "    }\n",
       "\n",
       "    .dataframe thead th {\n",
       "        text-align: right;\n",
       "    }\n",
       "</style>\n",
       "<table border=\"1\" class=\"dataframe\">\n",
       "  <thead>\n",
       "    <tr style=\"text-align: right;\">\n",
       "      <th></th>\n",
       "      <th>geometry</th>\n",
       "      <th>AltitudeTotal</th>\n",
       "      <th>WaterTotal</th>\n",
       "      <th>Int</th>\n",
       "      <th>Total</th>\n",
       "      <th>RunTime</th>\n",
       "    </tr>\n",
       "  </thead>\n",
       "  <tbody>\n",
       "    <tr>\n",
       "      <th>4</th>\n",
       "      <td>POLYGON ((777039 3311888, 777039 3312888, 7760...</td>\n",
       "      <td>3.124952e+09</td>\n",
       "      <td>845.0</td>\n",
       "      <td>1.218623e+09</td>\n",
       "      <td>1588830.0</td>\n",
       "      <td>0 days 00:00:07.233485</td>\n",
       "    </tr>\n",
       "    <tr>\n",
       "      <th>5</th>\n",
       "      <td>POLYGON ((777039 3312888, 777039 3313888, 7760...</td>\n",
       "      <td>6.639287e+09</td>\n",
       "      <td>911.0</td>\n",
       "      <td>1.180152e+09</td>\n",
       "      <td>1289143.0</td>\n",
       "      <td>0 days 00:00:16.606501</td>\n",
       "    </tr>\n",
       "    <tr>\n",
       "      <th>6</th>\n",
       "      <td>POLYGON ((777039 3313888, 777039 3314888, 7760...</td>\n",
       "      <td>4.592980e+09</td>\n",
       "      <td>7657.0</td>\n",
       "      <td>9.553016e+08</td>\n",
       "      <td>1359746.0</td>\n",
       "      <td>0 days 00:00:23.685434</td>\n",
       "    </tr>\n",
       "    <tr>\n",
       "      <th>7</th>\n",
       "      <td>POLYGON ((777039 3314888, 777039 3315888, 7760...</td>\n",
       "      <td>3.447446e+09</td>\n",
       "      <td>1599.0</td>\n",
       "      <td>7.301208e+08</td>\n",
       "      <td>1165901.0</td>\n",
       "      <td>0 days 00:00:22.202606</td>\n",
       "    </tr>\n",
       "    <tr>\n",
       "      <th>8</th>\n",
       "      <td>POLYGON ((777039 3315888, 777039 3316888, 7760...</td>\n",
       "      <td>3.901736e+09</td>\n",
       "      <td>2183.0</td>\n",
       "      <td>8.661724e+08</td>\n",
       "      <td>1620405.0</td>\n",
       "      <td>0 days 00:00:24.130045</td>\n",
       "    </tr>\n",
       "  </tbody>\n",
       "</table>\n",
       "</div>"
      ],
      "text/plain": [
       "                                            geometry  AltitudeTotal  \\\n",
       "4  POLYGON ((777039 3311888, 777039 3312888, 7760...   3.124952e+09   \n",
       "5  POLYGON ((777039 3312888, 777039 3313888, 7760...   6.639287e+09   \n",
       "6  POLYGON ((777039 3313888, 777039 3314888, 7760...   4.592980e+09   \n",
       "7  POLYGON ((777039 3314888, 777039 3315888, 7760...   3.447446e+09   \n",
       "8  POLYGON ((777039 3315888, 777039 3316888, 7760...   3.901736e+09   \n",
       "\n",
       "   WaterTotal           Int      Total                RunTime  \n",
       "4       845.0  1.218623e+09  1588830.0 0 days 00:00:07.233485  \n",
       "5       911.0  1.180152e+09  1289143.0 0 days 00:00:16.606501  \n",
       "6      7657.0  9.553016e+08  1359746.0 0 days 00:00:23.685434  \n",
       "7      1599.0  7.301208e+08  1165901.0 0 days 00:00:22.202606  \n",
       "8      2183.0  8.661724e+08  1620405.0 0 days 00:00:24.130045  "
      ]
     },
     "execution_count": 27,
     "metadata": {},
     "output_type": "execute_result"
    }
   ],
   "source": [
    "boxesDf.head()"
   ]
  },
  {
   "cell_type": "code",
   "execution_count": 28,
   "id": "92490c67-6664-4c1e-8c94-c8379ae0d761",
   "metadata": {},
   "outputs": [],
   "source": [
    "boxesDf.to_parquet(outputFileName)"
   ]
  },
  {
   "cell_type": "code",
   "execution_count": 29,
   "id": "6486e9aa-6693-42aa-be92-1efb3f67ab0f",
   "metadata": {},
   "outputs": [],
   "source": [
    "with open(f\"{outPath}FinishTime_{resolution}m.txt\", 'w') as f:\n",
    "    f.write(f\"Finished shape {boxesDf.shape}  stop time {datetime.now()}\")"
   ]
  },
  {
   "cell_type": "code",
   "execution_count": 31,
   "id": "d0e46716-6d73-464e-ab54-9f74c3b96f4a",
   "metadata": {},
   "outputs": [
    {
     "data": {
      "text/plain": [
       "<Axes: >"
      ]
     },
     "execution_count": 31,
     "metadata": {},
     "output_type": "execute_result"
    },
    {
     "data": {
      "image/png": "[encoded data removed]",
      "text/plain": [
       "<Figure size 640x480 with 1 Axes>"
      ]
     },
     "metadata": {},
     "output_type": "display_data"
    }
   ],
   "source": [
    "boxesDf['AltCalc'] = boxesDf['AltitudeTotal'] / boxesDf['Total']\n",
    "boxesDf.loc[pd.isna(boxesDf['AltCalc']),'AltCalc'] = 0\n",
    "ax = neighborhoodDf.plot(color='pink')\n",
    "boxesDf.plot(column='AltCalc',ax=ax)"
   ]
  },
  {
   "cell_type": "code",
   "execution_count": 32,
   "id": "2b18d550-5a2b-4117-b06c-b4234f6a7119",
   "metadata": {},
   "outputs": [
    {
     "data": {
      "text/plain": [
       "<Axes: >"
      ]
     },
     "execution_count": 32,
     "metadata": {},
     "output_type": "execute_result"
    },
    {
     "data": {
      "image/png": "[encoded data removed]",
      "text/plain": [
       "<Figure size 640x480 with 1 Axes>"
      ]
     },
     "metadata": {},
     "output_type": "display_data"
    }
   ],
   "source": [
    "boxesDf['IntCalc'] = boxesDf['Int'] / boxesDf['Total']\n",
    "boxesDf.loc[pd.isna(boxesDf['IntCalc']),'IntCalc'] = 0\n",
    "ax = neighborhoodDf.plot(color='pink')\n",
    "boxesDf.plot(column='IntCalc',ax=ax)"
   ]
  },
  {
   "cell_type": "code",
   "execution_count": 33,
   "id": "6d312921-2bb2-4445-aed1-6180ffb9ec18",
   "metadata": {},
   "outputs": [
    {
     "name": "stdout",
     "output_type": "stream",
     "text": [
      "[2025-03-29 14:22:51.550060] Done!\n"
     ]
    }
   ],
   "source": [
    "lp(\"Done!\")"
   ]
  },
  {
   "cell_type": "code",
   "execution_count": 35,
   "id": "b2ebead4-8c10-4b7f-b57a-f2a9805f5040",
   "metadata": {},
   "outputs": [
    {
     "name": "stdout",
     "output_type": "stream",
     "text": [
      "upload: output/AggregateLidarData_1000m.parquet to s3://requesterpays.garyscorner.net/datasets/NewOrleansElevation/AggregateLidarData_1000m.parquet\n"
     ]
    }
   ],
   "source": [
    "!aws s3 cp $outputFileName s3://requesterpays.garyscorner.net/datasets/NewOrleansElevation/"
   ]
  },
  {
   "cell_type": "code",
   "execution_count": null,
   "id": "6ed8bc6c-8944-4190-b8d8-7722c5c31cdd",
   "metadata": {},
   "outputs": [],
   "source": []
  }
 ],
 "metadata": {
  "kernelspec": {
   "display_name": "Python 3 (ipykernel)",
   "language": "python",
   "name": "python3"
  },
  "language_info": {
   "codemirror_mode": {
    "name": "ipython",
    "version": 3
   },
   "file_extension": ".py",
   "mimetype": "text/x-python",
   "name": "python",
   "nbconvert_exporter": "python",
   "pygments_lexer": "ipython3",
   "version": "3.11.2"
  }
 },
 "nbformat": 4,
 "nbformat_minor": 5
}
