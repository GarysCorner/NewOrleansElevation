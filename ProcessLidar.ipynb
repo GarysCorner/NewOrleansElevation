{
 "cells": [
  {
   "cell_type": "code",
   "execution_count": null,
   "id": "70d410b0-5f0a-46b2-a10d-05500365728d",
   "metadata": {},
   "outputs": [],
   "source": [
    "import geopandas as gpd\n",
    "import pandas as pd\n",
    "import geoplot as gplt\n",
    "import laspy\n",
    "import shapely\n",
    "import os\n",
    "from datetime import datetime\n",
    "import numpy as np\n",
    "from itertools import product\n",
    "import math\n",
    "import pyproj\n",
    "import re\n",
    "import pyspark"
   ]
  },
  {
   "cell_type": "code",
   "execution_count": null,
   "id": "8c0ea8fe-6d58-4613-954c-f8cdb782473e",
   "metadata": {},
   "outputs": [],
   "source": [
    "resolution = 2000  #grid resolution in meters"
   ]
  },
  {
   "cell_type": "code",
   "execution_count": null,
   "id": "0cdbadae-e28c-45fe-8d41-e4b5497181e5",
   "metadata": {},
   "outputs": [],
   "source": [
    "def lp(v):\n",
    "    print(f\"[{datetime.now()}] {v}\")\n",
    "\n",
    "lp(\"Starting...\")"
   ]
  },
  {
   "cell_type": "code",
   "execution_count": null,
   "id": "57321308-2639-4f12-a7ae-cad537a4c104",
   "metadata": {},
   "outputs": [],
   "source": [
    "lp(\"Creating spark context\")\n",
    "conf = pyspark.SparkConf().setAppName(\"ProcessLidar\").setMaster(\"spark://G-ChaosStation:7077\")\n",
    "sc = pyspark.SparkContext(conf=conf)"
   ]
  },
  {
   "cell_type": "code",
   "execution_count": null,
   "id": "86f50cea-d348-4e9c-b78e-37a393111d11",
   "metadata": {},
   "outputs": [],
   "source": [
    "dataPath = f\"{os.curdir}{os.sep}datasets{os.sep}\"\n",
    "fullDataPath = os.path.realpath(dataPath) + os.sep\n",
    "lp(f\"Path:  {dataPath}\\t\\tFullPath:{fullDataPath}\")"
   ]
  },
  {
   "cell_type": "code",
   "execution_count": null,
   "id": "54579182-ef03-4fa4-a809-bce80ee6e12e",
   "metadata": {},
   "outputs": [],
   "source": [
    "testLasFileName = os.listdir(f\"{dataPath}laz\")[5]\n",
    "lp(f\"Opening {testLasFileName} to get crs and more\")\n",
    "testLas = laspy.read(f\"{dataPath}laz{os.sep}{testLasFileName}\")"
   ]
  },
  {
   "cell_type": "code",
   "execution_count": null,
   "id": "8b2c5b08-6d79-4f2e-bf2a-c1b5f67d1067",
   "metadata": {},
   "outputs": [],
   "source": [
    "neighborhoodDf = gpd.read_file(f\"{dataPath}Neighborhoods.geojson\").to_crs(testLas.vlrs[0].parse_crs())"
   ]
  },
  {
   "cell_type": "code",
   "execution_count": null,
   "id": "68d79663-11ca-47b6-b554-8542d558b24e",
   "metadata": {},
   "outputs": [],
   "source": [
    "neighborhoodDf.plot()"
   ]
  },
  {
   "cell_type": "code",
   "execution_count": null,
   "id": "9afe40ea-4343-4896-a498-c87e21c0898f",
   "metadata": {},
   "outputs": [],
   "source": [
    "bounds = [int(b) for b in neighborhoodDf.total_bounds]"
   ]
  },
  {
   "cell_type": "code",
   "execution_count": null,
   "id": "e1ca7bcf-b693-429e-99fa-969cb317245b",
   "metadata": {},
   "outputs": [],
   "source": [
    "xPixels = (bounds[2] - bounds[0]) / resolution\n",
    "yPixels = (bounds[3] - bounds[1]) / resolution\n",
    "lp(f\"Resolution will be {xPixels} x {yPixels}\")"
   ]
  },
  {
   "cell_type": "code",
   "execution_count": null,
   "id": "3af0d7f2-b4c9-429f-9a0f-1506867d6d12",
   "metadata": {},
   "outputs": [],
   "source": [
    "boxes = [shapely.box(x,y,x+resolution,y+resolution) for x, y in product(range(bounds[0], bounds[2], resolution), range(bounds[1], bounds[3], resolution))]\n",
    "boxesDf = gpd.GeoDataFrame(geometry=boxes).set_crs(neighborhoodDf.crs)\n",
    "boxesDf = boxesDf[boxesDf.intersects(neighborhoodDf.union_all())].copy()\n",
    "boxesDf['AltitudeTotal'] = np.nan\n",
    "boxesDf['WaterTotal'] = np.nan\n",
    "boxesDf['Total'] = np.nan\n",
    "boxesDf['RunTime'] = dateetime.now()-datetime.now()\n"
   ]
  },
  {
   "cell_type": "code",
   "execution_count": null,
   "id": "c9b1e5dc-4573-4dff-8941-10a5491c50a1",
   "metadata": {},
   "outputs": [],
   "source": [
    "boxesDf.plot()\n"
   ]
  },
  {
   "cell_type": "code",
   "execution_count": null,
   "id": "c32b216d-167a-4092-8d02-fb3e4f8bfddd",
   "metadata": {},
   "outputs": [],
   "source": [
    "wgsToUTM = pyproj.transformer.Transformer.from_crs(crs_from=pyproj.CRS.from_string('WGS84'), crs_to=neighborhoodDf.crs)\n",
    "meridianReg = re.compile(r'PARAMETER\\[\"central_meridian\",\\-([0-9]{2})\\]')\n",
    "\n",
    "\n",
    "def processLas(las, boxBounds):\n",
    "    lp(f\"Processing for box {boxBounds}\")\n",
    "        \n",
    "    central_meridian = int(meridianReg.findall(las.header.vlrs[0].string)[0]) * -1\n",
    "        \n",
    "    groundMask = np.isin(las.classification, [2,9])\n",
    "    inBoundsMaskX = np.logical_and(las.X >= (boxBounds[0]*1000), (las.X <= (boxBounds[2]*1000)))\n",
    "    inBoundsMaskY = np.logical_and(las.Y >= (boxBounds[1]*1000), (las.Y <= (boxBounds[3]*1000)))\n",
    "    goodPointMask = np.logical_and(groundMask,inBoundsMaskX,inBoundsMaskY)\n",
    "    #lp(f\"{np.count_nonzero( goodPointMask )}, {np.count_nonzero( groundMask )}, {np.count_nonzero( inBoundsMaskX )} ,{np.count_nonzero( inBoundsMaskY )} in {fileName}\")\n",
    "    \n",
    "    \n",
    "    x = las.X[goodPointMask]/1000.0 #- bounds[0]\n",
    "    y = (las.Y[goodPointMask]/1000.0 + wgsToUTM.transform(30,central_meridian)[1]) #- bounds[1]\n",
    " \n",
    "    return (int(las.Z[goodPointMask].sum()), np.count_nonzero(las.classification[goodPointMask] == 9) , np.count_nonzero(goodPointMask))\n"
   ]
  },
  {
   "cell_type": "code",
   "execution_count": null,
   "id": "8fb84dd2-c404-4360-bd88-6502bedd99f4",
   "metadata": {},
   "outputs": [],
   "source": [
    "processLas(laspy.read('datasets/laz/USGS_LPC_LA_2021GreaterNewOrleans_C22_w0776n3318.laz'), boxesDf.iloc[0]['geometry'].bounds)"
   ]
  },
  {
   "cell_type": "code",
   "execution_count": null,
   "id": "86d15394-3831-4798-9634-115aa95c1e07",
   "metadata": {},
   "outputs": [],
   "source": [
    "outPath = f\"{os.curdir}{os.sep}output{os.sep}\"\n",
    "if not os.path.exists(outPath):\n",
    "    lp(f\"Creating output path {outPath}\")\n",
    "    os.makedirs(outPath)"
   ]
  },
  {
   "cell_type": "code",
   "execution_count": null,
   "id": "1bf8a31d-27c2-4da7-8ee9-b1dfa0d2cff7",
   "metadata": {},
   "outputs": [],
   "source": [
    "lasPaths = [f\"{fullDataPath}laz{os.sep}{f}\" for f in os.listdir(f\"{dataPath}laz\")]\n",
    "lasPathRdd = sc.parallelize(lasPaths)\n",
    "lasDataRdd = lasPathRdd.map(laspy.read)  #.cache() #you got the ram for this hotshot"
   ]
  },
  {
   "cell_type": "code",
   "execution_count": null,
   "id": "6b18d356-c45f-4f36-aae4-ab47c6d110ab",
   "metadata": {},
   "outputs": [],
   "source": [
    "\n",
    "\n",
    "seqOp = lambda x, y: (x[0]+y[0], x[1]+y[1], x[2] + y[2])\n",
    "total = 0\n",
    "for idx, row in boxesDf.iterrows():\n",
    "    startTime = datetime.now()\n",
    "    lp(f\"Processing [{idx}]({total+1}/{boxesDf.shape[0]}) for bounded box {row['geometry'].bounds}\")\n",
    "    \n",
    "    outputRdd = lasDataRdd.map(lambda x: processLas(x, row['geometry'].bounds))\n",
    "    output = outputRdd.aggregate((0,0,0), seqOp, seqOp)\n",
    "\n",
    "    boxesDf.loc[idx, 'AltitudeTotal'] = output[0]\n",
    "    boxesDf.loc[idx, 'WaterTotal'] = output[1]\n",
    "    boxesDf.loc[idx, 'Total'] = output[2]\n",
    "\n",
    "    total += 1\n",
    "    runTime = datetime.now() - startTime\n",
    "    boxesDf.loc[idx,'RunTime'] = runTime\n",
    "    lp(f\"({total}/{boxesDf.shape[0]}) Output {output} for bounded box[{idx}] {row['geometry'].bounds}  done in {runTime}\")\n",
    "    \n",
    "    \n",
    "    \n",
    "    "
   ]
  },
  {
   "cell_type": "code",
   "execution_count": null,
   "id": "92490c67-6664-4c1e-8c94-c8379ae0d761",
   "metadata": {},
   "outputs": [],
   "source": [
    "boxesDf.to_pickle(f\"{outPath}AggregateLidarData_{resolution}m.pickle\")\n"
   ]
  },
  {
   "cell_type": "code",
   "execution_count": null,
   "id": "6486e9aa-6693-42aa-be92-1efb3f67ab0f",
   "metadata": {},
   "outputs": [],
   "source": [
    "with open(f\"{outPath}FinishTime_{resolution}m.txt\", 'w') as f:\n",
    "    f.write(f\"Finished shape {boxesDf.shape}  stop time {datetime.now()}\")"
   ]
  },
  {
   "cell_type": "code",
   "execution_count": null,
   "id": "6d312921-2bb2-4445-aed1-6180ffb9ec18",
   "metadata": {},
   "outputs": [],
   "source": [
    "lp(\"Done!\")"
   ]
  },
  {
   "cell_type": "code",
   "execution_count": null,
   "id": "f41a495f-2c39-41ae-bb3a-c013810504a9",
   "metadata": {},
   "outputs": [],
   "source": []
  }
 ],
 "metadata": {
  "kernelspec": {
   "display_name": "Python 3 (ipykernel)",
   "language": "python",
   "name": "python3"
  },
  "language_info": {
   "codemirror_mode": {
    "name": "ipython",
    "version": 3
   },
   "file_extension": ".py",
   "mimetype": "text/x-python",
   "name": "python",
   "nbconvert_exporter": "python",
   "pygments_lexer": "ipython3",
   "version": "3.11.2"
  }
 },
 "nbformat": 4,
 "nbformat_minor": 5
}
