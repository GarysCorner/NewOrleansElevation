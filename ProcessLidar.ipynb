{
 "cells": [
  {
   "cell_type": "markdown",
   "id": "064f08ea-508b-4cbd-a230-982bfdc8fb8c",
   "metadata": {},
   "source": [
    "# Process Lidar\n",
    "\n",
    "This run was done with 8 m6a.4xlarge EC2 Instance.  Got them on that spot pricing dude!"
   ]
  },
  {
   "cell_type": "code",
   "execution_count": 1,
   "id": "70d410b0-5f0a-46b2-a10d-05500365728d",
   "metadata": {},
   "outputs": [],
   "source": [
    "import geopandas as gpd\n",
    "import pandas as pd\n",
    "#import geoplot as gplt\n",
    "import laspy\n",
    "import shapely\n",
    "import os\n",
    "from datetime import datetime, timedelta\n",
    "import numpy as np\n",
    "from itertools import product\n",
    "import math\n",
    "import pyproj\n",
    "import re\n",
    "import pyspark\n",
    "import warnings\n",
    "from collections import defaultdict"
   ]
  },
  {
   "cell_type": "code",
   "execution_count": 2,
   "id": "0cdbadae-e28c-45fe-8d41-e4b5497181e5",
   "metadata": {},
   "outputs": [
    {
     "name": "stdout",
     "output_type": "stream",
     "text": [
      "[2025-03-30 12:00:29.408309] Starting...\n"
     ]
    }
   ],
   "source": [
    "def lp(v, suppressOut=False):\n",
    "    if not suppressOut:\n",
    "        print(f\"[{datetime.now()}] {v}\")\n",
    "\n",
    "lp(\"Starting...\")"
   ]
  },
  {
   "cell_type": "code",
   "execution_count": 3,
   "id": "8c0ea8fe-6d58-4613-954c-f8cdb782473e",
   "metadata": {},
   "outputs": [
    {
     "name": "stdout",
     "output_type": "stream",
     "text": [
      "[2025-03-30 12:00:29.413196] lazPath:  /home/g/Dev/NewOrleansElevation/datasets/laz/\n"
     ]
    }
   ],
   "source": [
    "resolution = 1000  #grid resolution in meters\n",
    "outPath = f\"{os.curdir}{os.sep}output{os.sep}\"\n",
    "lazPath = f\"{os.path.realpath(os.curdir)}{os.sep}datasets{os.sep}laz{os.sep}\"\n",
    "lp(f\"lazPath:  {lazPath}\")\n",
    "assert os.path.exists(lazPath), f\"{lazPath} does not exists PANIC!\"\n",
    "\n",
    "outputFileName = f\"{outPath}AggregateLidarData_test_{resolution}m.parquet\"\n",
    "boxesFile = f\"{outPath}boxesDf_{resolution}m.parquet\"\n",
    "\n",
    "captureHoods = []\n"
   ]
  },
  {
   "cell_type": "code",
   "execution_count": 4,
   "id": "aeab4662-d512-49c5-ad31-8aeef2adf98b",
   "metadata": {},
   "outputs": [
    {
     "name": "stdout",
     "output_type": "stream",
     "text": [
      "[2025-03-30 12:00:29.419374] <pyspark.conf.SparkConf object at 0x7f7dbd696cd0>\n"
     ]
    }
   ],
   "source": [
    "executorRam = \"8g\"\n",
    "conf = pyspark.SparkConf().setAppName(outputFileName).set(\"spark.executor.memory\", executorRam).setMaster(\"spark://127.0.0.1:7077\")\n",
    "lp(conf)"
   ]
  },
  {
   "cell_type": "code",
   "execution_count": 5,
   "id": "86d15394-3831-4798-9634-115aa95c1e07",
   "metadata": {},
   "outputs": [],
   "source": [
    "if not os.path.exists(outPath):\n",
    "    lp(f\"Creating output path {outPath}\")\n",
    "    os.makedirs(outPath)"
   ]
  },
  {
   "cell_type": "code",
   "execution_count": 6,
   "id": "86f50cea-d348-4e9c-b78e-37a393111d11",
   "metadata": {},
   "outputs": [
    {
     "name": "stdout",
     "output_type": "stream",
     "text": [
      "[2025-03-30 12:00:29.427970] Path:  ./datasets/\t\tFullPath:/home/g/Dev/NewOrleansElevation/datasets/\n"
     ]
    }
   ],
   "source": [
    "dataPath = f\"{os.curdir}{os.sep}datasets{os.sep}\"\n",
    "fullDataPath = os.path.realpath(dataPath) + os.sep\n",
    "lp(f\"Path:  {dataPath}\\t\\tFullPath:{fullDataPath}\")"
   ]
  },
  {
   "cell_type": "code",
   "execution_count": 7,
   "id": "54579182-ef03-4fa4-a809-bce80ee6e12e",
   "metadata": {},
   "outputs": [
    {
     "name": "stdout",
     "output_type": "stream",
     "text": [
      "[2025-03-30 12:00:29.432601] Opening USGS_LPC_LA_2021GreaterNewOrleans_C22_w0819n3342.laz to get crs and more\n"
     ]
    }
   ],
   "source": [
    "testLasFileName = os.listdir(f\"{dataPath}laz\")[5]\n",
    "lp(f\"Opening {testLasFileName} to get crs and more\")\n",
    "with laspy.open(f\"{dataPath}laz{os.sep}{testLasFileName}\", 'r') as f: \n",
    "    testLas = f.read()"
   ]
  },
  {
   "cell_type": "code",
   "execution_count": 8,
   "id": "8b2c5b08-6d79-4f2e-bf2a-c1b5f67d1067",
   "metadata": {},
   "outputs": [],
   "source": [
    "neighborhoodDf = gpd.read_file(f\"{dataPath}Neighborhoods.geojson\").to_crs(testLas.vlrs[0].parse_crs())"
   ]
  },
  {
   "cell_type": "code",
   "execution_count": 9,
   "id": "cf47eaff-5a4e-4b92-8f1f-51985ff8191f",
   "metadata": {},
   "outputs": [
    {
     "data": {
      "text/plain": [
       "['ALGIERS POINT',\n",
       " 'AUDUBON',\n",
       " 'B. W. COOPER',\n",
       " 'BAYOU ST. JOHN',\n",
       " 'BEHRMAN',\n",
       " 'BLACK PEARL',\n",
       " 'BROADMOOR',\n",
       " 'BYWATER',\n",
       " 'CENTRAL BUSINESS DISTRICT',\n",
       " 'CENTRAL CITY',\n",
       " 'CITY PARK',\n",
       " 'DESIRE AREA',\n",
       " 'DILLARD',\n",
       " 'DIXON',\n",
       " 'EAST CARROLLTON',\n",
       " 'EAST RIVERSIDE',\n",
       " 'FAIRGROUNDS',\n",
       " 'FILMORE',\n",
       " 'FISCHER DEV',\n",
       " 'FLORIDA AREA',\n",
       " 'FLORIDA DEV',\n",
       " 'FRENCH QUARTER',\n",
       " 'FRERET',\n",
       " 'GARDEN DISTRICT',\n",
       " 'GENTILLY TERRACE',\n",
       " 'GENTILLY WOODS',\n",
       " 'GERT TOWN',\n",
       " 'HOLLYGROVE',\n",
       " 'HOLY CROSS',\n",
       " 'IBERVILLE',\n",
       " 'IRISH CHANNEL',\n",
       " 'LAKE CATHERINE',\n",
       " 'LAKE TERRACE & OAKS',\n",
       " 'LAKESHORE - LAKE VISTA',\n",
       " 'LAKEVIEW',\n",
       " 'LAKEWOOD',\n",
       " 'LEONIDAS',\n",
       " 'LITTLE WOODS',\n",
       " 'LOWER GARDEN DISTRICT',\n",
       " 'LOWER NINTH WARD',\n",
       " 'MARIGNY',\n",
       " 'MARLYVILLE - FONTAINEBLEAU',\n",
       " 'MID-CITY',\n",
       " 'MILAN',\n",
       " 'MILNEBURG',\n",
       " 'McDONOGH',\n",
       " 'NAVARRE',\n",
       " 'NEW AURORA - ENGLISH TURN',\n",
       " 'OLD AURORA',\n",
       " 'PINES VILLAGE',\n",
       " 'PLUM ORCHARD',\n",
       " 'PONTCHARTRAIN PARK',\n",
       " 'READ BLVD EAST',\n",
       " 'READ BLVD WEST',\n",
       " 'SEVENTH WARD',\n",
       " 'ST.  ANTHONY',\n",
       " 'ST. BERNARD AREA',\n",
       " 'ST. CLAUDE',\n",
       " 'ST. ROCH',\n",
       " 'ST. THOMAS DEV',\n",
       " 'TALL TIMBERS - BRECHTEL',\n",
       " 'TOURO',\n",
       " 'TREME - LAFITTE',\n",
       " 'TULANE - GRAVIER',\n",
       " 'U.S. NAVAL BASE',\n",
       " 'UPTOWN',\n",
       " 'VIAVANT - VENETIAN ISLES',\n",
       " 'VILLAGE DE LEST',\n",
       " 'WEST END',\n",
       " 'WEST LAKE FOREST',\n",
       " 'WEST RIVERSIDE',\n",
       " 'WHITNEY']"
      ]
     },
     "execution_count": 9,
     "metadata": {},
     "output_type": "execute_result"
    }
   ],
   "source": [
    "sorted(neighborhoodDf['gnocdc_lab'].unique())"
   ]
  },
  {
   "cell_type": "code",
   "execution_count": 10,
   "id": "254954da-e450-40f6-8c04-18d775b3c435",
   "metadata": {},
   "outputs": [],
   "source": [
    "if len(captureHoods) > 0:\n",
    "    captureHoodsMask = neighborhoodDf['gnocdc_lab'].isin(captureHoods)\n",
    "else:\n",
    "    captureHoodsMask = np.repeat(True, neighborhoodDf.shape[0])"
   ]
  },
  {
   "cell_type": "code",
   "execution_count": 11,
   "id": "9afe40ea-4343-4896-a498-c87e21c0898f",
   "metadata": {},
   "outputs": [],
   "source": [
    "bounds = [int(b) for b in neighborhoodDf[captureHoodsMask].total_bounds]"
   ]
  },
  {
   "cell_type": "code",
   "execution_count": 12,
   "id": "e1ca7bcf-b693-429e-99fa-969cb317245b",
   "metadata": {},
   "outputs": [
    {
     "name": "stdout",
     "output_type": "stream",
     "text": [
      "[2025-03-30 12:00:29.897817] Resolution will be 48.807 x 34.758  Runtime based on 1696.4337060000003\n"
     ]
    }
   ],
   "source": [
    "xPixels = (bounds[2] - bounds[0]) / resolution\n",
    "yPixels = (bounds[3] - bounds[1]) / resolution\n",
    "lp(f\"Resolution will be {xPixels} x {yPixels}  Runtime based on {xPixels*yPixels}\")"
   ]
  },
  {
   "cell_type": "code",
   "execution_count": 13,
   "id": "3af0d7f2-b4c9-429f-9a0f-1506867d6d12",
   "metadata": {},
   "outputs": [
    {
     "ename": "FileNotFoundError",
     "evalue": "[Errno 2] Failed to open local file './output/boxesDf_1000m.parquet'. Detail: [errno 2] No such file or directory",
     "output_type": "error",
     "traceback": [
      "\u001b[31m---------------------------------------------------------------------------\u001b[39m",
      "\u001b[31mFileNotFoundError\u001b[39m                         Traceback (most recent call last)",
      "\u001b[36mFile \u001b[39m\u001b[32m~/.local/share/virtualenvs/NewOrleansElevation-1OW7m-mh/lib/python3.11/site-packages/geopandas/io/arrow.py:653\u001b[39m, in \u001b[36m_read_parquet_schema_and_metadata\u001b[39m\u001b[34m(path, filesystem)\u001b[39m\n\u001b[32m    652\u001b[39m \u001b[38;5;28;01mtry\u001b[39;00m:\n\u001b[32m--> \u001b[39m\u001b[32m653\u001b[39m     schema = \u001b[43mparquet\u001b[49m\u001b[43m.\u001b[49m\u001b[43mParquetDataset\u001b[49m\u001b[43m(\u001b[49m\u001b[43mpath\u001b[49m\u001b[43m,\u001b[49m\u001b[43m \u001b[49m\u001b[43mfilesystem\u001b[49m\u001b[43m=\u001b[49m\u001b[43mfilesystem\u001b[49m\u001b[43m,\u001b[49m\u001b[43m \u001b[49m\u001b[43m*\u001b[49m\u001b[43m*\u001b[49m\u001b[43mkwargs\u001b[49m\u001b[43m)\u001b[49m.schema\n\u001b[32m    654\u001b[39m \u001b[38;5;28;01mexcept\u001b[39;00m \u001b[38;5;167;01mException\u001b[39;00m:\n",
      "\u001b[36mFile \u001b[39m\u001b[32m~/.local/share/virtualenvs/NewOrleansElevation-1OW7m-mh/lib/python3.11/site-packages/pyarrow/parquet/core.py:1371\u001b[39m, in \u001b[36mParquetDataset.__init__\u001b[39m\u001b[34m(self, path_or_paths, filesystem, schema, filters, read_dictionary, memory_map, buffer_size, partitioning, ignore_prefixes, pre_buffer, coerce_int96_timestamp_unit, decryption_properties, thrift_string_size_limit, thrift_container_size_limit, page_checksum_verification, use_legacy_dataset)\u001b[39m\n\u001b[32m   1368\u001b[39m     partitioning = ds.HivePartitioning.discover(\n\u001b[32m   1369\u001b[39m         infer_dictionary=\u001b[38;5;28;01mTrue\u001b[39;00m)\n\u001b[32m-> \u001b[39m\u001b[32m1371\u001b[39m \u001b[38;5;28mself\u001b[39m._dataset = \u001b[43mds\u001b[49m\u001b[43m.\u001b[49m\u001b[43mdataset\u001b[49m\u001b[43m(\u001b[49m\u001b[43mpath_or_paths\u001b[49m\u001b[43m,\u001b[49m\u001b[43m \u001b[49m\u001b[43mfilesystem\u001b[49m\u001b[43m=\u001b[49m\u001b[43mfilesystem\u001b[49m\u001b[43m,\u001b[49m\n\u001b[32m   1372\u001b[39m \u001b[43m                           \u001b[49m\u001b[43mschema\u001b[49m\u001b[43m=\u001b[49m\u001b[43mschema\u001b[49m\u001b[43m,\u001b[49m\u001b[43m \u001b[49m\u001b[38;5;28;43mformat\u001b[39;49m\u001b[43m=\u001b[49m\u001b[43mparquet_format\u001b[49m\u001b[43m,\u001b[49m\n\u001b[32m   1373\u001b[39m \u001b[43m                           \u001b[49m\u001b[43mpartitioning\u001b[49m\u001b[43m=\u001b[49m\u001b[43mpartitioning\u001b[49m\u001b[43m,\u001b[49m\n\u001b[32m   1374\u001b[39m \u001b[43m                           \u001b[49m\u001b[43mignore_prefixes\u001b[49m\u001b[43m=\u001b[49m\u001b[43mignore_prefixes\u001b[49m\u001b[43m)\u001b[49m\n",
      "\u001b[36mFile \u001b[39m\u001b[32m~/.local/share/virtualenvs/NewOrleansElevation-1OW7m-mh/lib/python3.11/site-packages/pyarrow/dataset.py:794\u001b[39m, in \u001b[36mdataset\u001b[39m\u001b[34m(source, schema, format, filesystem, partitioning, partition_base_dir, exclude_invalid_files, ignore_prefixes)\u001b[39m\n\u001b[32m    793\u001b[39m \u001b[38;5;28;01mif\u001b[39;00m _is_path_like(source):\n\u001b[32m--> \u001b[39m\u001b[32m794\u001b[39m     \u001b[38;5;28;01mreturn\u001b[39;00m \u001b[43m_filesystem_dataset\u001b[49m\u001b[43m(\u001b[49m\u001b[43msource\u001b[49m\u001b[43m,\u001b[49m\u001b[43m \u001b[49m\u001b[43m*\u001b[49m\u001b[43m*\u001b[49m\u001b[43mkwargs\u001b[49m\u001b[43m)\u001b[49m\n\u001b[32m    795\u001b[39m \u001b[38;5;28;01melif\u001b[39;00m \u001b[38;5;28misinstance\u001b[39m(source, (\u001b[38;5;28mtuple\u001b[39m, \u001b[38;5;28mlist\u001b[39m)):\n",
      "\u001b[36mFile \u001b[39m\u001b[32m~/.local/share/virtualenvs/NewOrleansElevation-1OW7m-mh/lib/python3.11/site-packages/pyarrow/dataset.py:476\u001b[39m, in \u001b[36m_filesystem_dataset\u001b[39m\u001b[34m(source, schema, filesystem, partitioning, format, partition_base_dir, exclude_invalid_files, selector_ignore_prefixes)\u001b[39m\n\u001b[32m    475\u001b[39m \u001b[38;5;28;01melse\u001b[39;00m:\n\u001b[32m--> \u001b[39m\u001b[32m476\u001b[39m     fs, paths_or_selector = \u001b[43m_ensure_single_source\u001b[49m\u001b[43m(\u001b[49m\u001b[43msource\u001b[49m\u001b[43m,\u001b[49m\u001b[43m \u001b[49m\u001b[43mfilesystem\u001b[49m\u001b[43m)\u001b[49m\n\u001b[32m    478\u001b[39m options = FileSystemFactoryOptions(\n\u001b[32m    479\u001b[39m     partitioning=partitioning,\n\u001b[32m    480\u001b[39m     partition_base_dir=partition_base_dir,\n\u001b[32m    481\u001b[39m     exclude_invalid_files=exclude_invalid_files,\n\u001b[32m    482\u001b[39m     selector_ignore_prefixes=selector_ignore_prefixes\n\u001b[32m    483\u001b[39m )\n",
      "\u001b[36mFile \u001b[39m\u001b[32m~/.local/share/virtualenvs/NewOrleansElevation-1OW7m-mh/lib/python3.11/site-packages/pyarrow/dataset.py:441\u001b[39m, in \u001b[36m_ensure_single_source\u001b[39m\u001b[34m(path, filesystem)\u001b[39m\n\u001b[32m    440\u001b[39m \u001b[38;5;28;01melse\u001b[39;00m:\n\u001b[32m--> \u001b[39m\u001b[32m441\u001b[39m     \u001b[38;5;28;01mraise\u001b[39;00m \u001b[38;5;167;01mFileNotFoundError\u001b[39;00m(path)\n\u001b[32m    443\u001b[39m \u001b[38;5;28;01mreturn\u001b[39;00m filesystem, paths_or_selector\n",
      "\u001b[31mFileNotFoundError\u001b[39m: ./output/boxesDf_1000m.parquet",
      "\nDuring handling of the above exception, another exception occurred:\n",
      "\u001b[31mFileNotFoundError\u001b[39m                         Traceback (most recent call last)",
      "\u001b[36mCell\u001b[39m\u001b[36m \u001b[39m\u001b[32mIn[13]\u001b[39m\u001b[32m, line 1\u001b[39m\n\u001b[32m----> \u001b[39m\u001b[32m1\u001b[39m boxesDf = \u001b[43mgpd\u001b[49m\u001b[43m.\u001b[49m\u001b[43mread_parquet\u001b[49m\u001b[43m(\u001b[49m\u001b[43mboxesFile\u001b[49m\u001b[43m)\u001b[49m\n",
      "\u001b[36mFile \u001b[39m\u001b[32m~/.local/share/virtualenvs/NewOrleansElevation-1OW7m-mh/lib/python3.11/site-packages/geopandas/io/arrow.py:751\u001b[39m, in \u001b[36m_read_parquet\u001b[39m\u001b[34m(path, columns, storage_options, bbox, **kwargs)\u001b[39m\n\u001b[32m    747\u001b[39m filesystem, path = _get_filesystem_path(\n\u001b[32m    748\u001b[39m     path, filesystem=filesystem, storage_options=storage_options\n\u001b[32m    749\u001b[39m )\n\u001b[32m    750\u001b[39m path = _expand_user(path)\n\u001b[32m--> \u001b[39m\u001b[32m751\u001b[39m schema, metadata = \u001b[43m_read_parquet_schema_and_metadata\u001b[49m\u001b[43m(\u001b[49m\u001b[43mpath\u001b[49m\u001b[43m,\u001b[49m\u001b[43m \u001b[49m\u001b[43mfilesystem\u001b[49m\u001b[43m)\u001b[49m\n\u001b[32m    753\u001b[39m geo_metadata = _validate_and_decode_metadata(metadata)\n\u001b[32m    755\u001b[39m bbox_filter = (\n\u001b[32m    756\u001b[39m     _get_parquet_bbox_filter(geo_metadata, bbox) \u001b[38;5;28;01mif\u001b[39;00m bbox \u001b[38;5;129;01mis\u001b[39;00m \u001b[38;5;129;01mnot\u001b[39;00m \u001b[38;5;28;01mNone\u001b[39;00m \u001b[38;5;28;01melse\u001b[39;00m \u001b[38;5;28;01mNone\u001b[39;00m\n\u001b[32m    757\u001b[39m )\n",
      "\u001b[36mFile \u001b[39m\u001b[32m~/.local/share/virtualenvs/NewOrleansElevation-1OW7m-mh/lib/python3.11/site-packages/geopandas/io/arrow.py:655\u001b[39m, in \u001b[36m_read_parquet_schema_and_metadata\u001b[39m\u001b[34m(path, filesystem)\u001b[39m\n\u001b[32m    653\u001b[39m     schema = parquet.ParquetDataset(path, filesystem=filesystem, **kwargs).schema\n\u001b[32m    654\u001b[39m \u001b[38;5;28;01mexcept\u001b[39;00m \u001b[38;5;167;01mException\u001b[39;00m:\n\u001b[32m--> \u001b[39m\u001b[32m655\u001b[39m     schema = \u001b[43mparquet\u001b[49m\u001b[43m.\u001b[49m\u001b[43mread_schema\u001b[49m\u001b[43m(\u001b[49m\u001b[43mpath\u001b[49m\u001b[43m,\u001b[49m\u001b[43m \u001b[49m\u001b[43mfilesystem\u001b[49m\u001b[43m=\u001b[49m\u001b[43mfilesystem\u001b[49m\u001b[43m)\u001b[49m\n\u001b[32m    657\u001b[39m metadata = schema.metadata\n\u001b[32m    659\u001b[39m \u001b[38;5;66;03m# read metadata separately to get the raw Parquet FileMetaData metadata\u001b[39;00m\n\u001b[32m    660\u001b[39m \u001b[38;5;66;03m# (pyarrow doesn't properly exposes those in schema.metadata for files\u001b[39;00m\n\u001b[32m    661\u001b[39m \u001b[38;5;66;03m# created by GDAL - https://issues.apache.org/jira/browse/ARROW-16688)\u001b[39;00m\n",
      "\u001b[36mFile \u001b[39m\u001b[32m~/.local/share/virtualenvs/NewOrleansElevation-1OW7m-mh/lib/python3.11/site-packages/pyarrow/parquet/core.py:2342\u001b[39m, in \u001b[36mread_schema\u001b[39m\u001b[34m(where, memory_map, decryption_properties, filesystem)\u001b[39m\n\u001b[32m   2340\u001b[39m file_ctx = nullcontext()\n\u001b[32m   2341\u001b[39m \u001b[38;5;28;01mif\u001b[39;00m filesystem \u001b[38;5;129;01mis\u001b[39;00m \u001b[38;5;129;01mnot\u001b[39;00m \u001b[38;5;28;01mNone\u001b[39;00m:\n\u001b[32m-> \u001b[39m\u001b[32m2342\u001b[39m     file_ctx = where = \u001b[43mfilesystem\u001b[49m\u001b[43m.\u001b[49m\u001b[43mopen_input_file\u001b[49m\u001b[43m(\u001b[49m\u001b[43mwhere\u001b[49m\u001b[43m)\u001b[49m\n\u001b[32m   2344\u001b[39m \u001b[38;5;28;01mwith\u001b[39;00m file_ctx:\n\u001b[32m   2345\u001b[39m     file = ParquetFile(\n\u001b[32m   2346\u001b[39m         where, memory_map=memory_map,\n\u001b[32m   2347\u001b[39m         decryption_properties=decryption_properties)\n",
      "\u001b[36mFile \u001b[39m\u001b[32m~/.local/share/virtualenvs/NewOrleansElevation-1OW7m-mh/lib/python3.11/site-packages/pyarrow/_fs.pyx:789\u001b[39m, in \u001b[36mpyarrow._fs.FileSystem.open_input_file\u001b[39m\u001b[34m()\u001b[39m\n",
      "\u001b[36mFile \u001b[39m\u001b[32m~/.local/share/virtualenvs/NewOrleansElevation-1OW7m-mh/lib/python3.11/site-packages/pyarrow/error.pxi:155\u001b[39m, in \u001b[36mpyarrow.lib.pyarrow_internal_check_status\u001b[39m\u001b[34m()\u001b[39m\n",
      "\u001b[36mFile \u001b[39m\u001b[32m~/.local/share/virtualenvs/NewOrleansElevation-1OW7m-mh/lib/python3.11/site-packages/pyarrow/error.pxi:92\u001b[39m, in \u001b[36mpyarrow.lib.check_status\u001b[39m\u001b[34m()\u001b[39m\n",
      "\u001b[31mFileNotFoundError\u001b[39m: [Errno 2] Failed to open local file './output/boxesDf_1000m.parquet'. Detail: [errno 2] No such file or directory"
     ]
    }
   ],
   "source": [
    "boxesDf = gpd.read_parquet(boxesFile)"
   ]
  },
  {
   "cell_type": "code",
   "execution_count": null,
   "id": "57321308-2639-4f12-a7ae-cad537a4c104",
   "metadata": {},
   "outputs": [],
   "source": [
    "lp(\"Creating spark context\")\n",
    "sc = pyspark.SparkContext(conf=conf)"
   ]
  },
  {
   "cell_type": "code",
   "execution_count": null,
   "id": "91c73419-a2ca-405d-8ac4-fa17b9013a29",
   "metadata": {},
   "outputs": [],
   "source": [
    "lp(\"Broadcasting boxes\")\n",
    "boxesBroadcast = sc.broadcast( np.array(list(boxesDf['geometry'].bounds.itertuples(name=None) )))"
   ]
  },
  {
   "cell_type": "code",
   "execution_count": null,
   "id": "83628596-e02e-4875-bfd2-ec7b66353ff1",
   "metadata": {},
   "outputs": [],
   "source": [
    "boxesBroadcast.value[0]"
   ]
  },
  {
   "cell_type": "code",
   "execution_count": null,
   "id": "2511f9e0-3574-4a9f-be51-8636866435ee",
   "metadata": {},
   "outputs": [],
   "source": [
    "len(boxesBroadcast.value)"
   ]
  },
  {
   "cell_type": "code",
   "execution_count": null,
   "id": "6d3f666c-10aa-4427-8ea6-eb56ac1d1a6d",
   "metadata": {},
   "outputs": [],
   "source": [
    "tileIndex = gpd.read_file(f\"{dataPath}USGS_LA_2021GNO_1_C22_TileIndex{os.sep}USGS_LA_2021GNO_1_C22_TileIndex.shp\").to_crs(neighborhoodDf.crs)\n",
    "tileIndex.index = tileIndex['Name'].map(lambda f: f\"{fullDataPath}laz{os.sep}USGS_LPC_LA_2021GreaterNewOrleans_C22_{f}.laz\")\n",
    "tileIndexBroadcast = sc.broadcast(tileIndex['geometry'].map(lambda g: g.bounds).to_dict())\n",
    "tileIndexBroadcast.value[tileIndex.index[0]]\n",
    "lp(f\"tileIndexBroadcast length:  {len(tileIndexBroadcast.value)}\")"
   ]
  },
  {
   "cell_type": "code",
   "execution_count": null,
   "id": "c32b216d-167a-4092-8d02-fb3e4f8bfddd",
   "metadata": {},
   "outputs": [],
   "source": [
    "def processLas(lasFileName, suppressOut=True):\n",
    "    startLazTime = datetime.now()\n",
    "\n",
    "    lp(f\"Processing {lasFileName}...\",suppressOut)\n",
    "    \n",
    "    with laspy.open(lasFileName, 'r') as f:\n",
    "        las = f.read()\n",
    "\n",
    "    \n",
    "\n",
    "    outDict = {}\n",
    "\n",
    "    lazBox = shapely.box(*tileIndexBroadcast.value[lasFileName])\n",
    "    boxMask = gpd.GeoSeries(map(lambda b: shapely.box(*b[1:]), boxesBroadcast.value)).intersects(lazBox)\n",
    "    \n",
    "    for inputTup in boxesBroadcast.value[boxMask]:\n",
    "        startTime = datetime.now()\n",
    "        \n",
    "        altTotal = 0\n",
    "        waterTotal = 0\n",
    "        pointTotal = 0\n",
    "        intenseTotal = 0\n",
    "    \n",
    "    \n",
    "\n",
    "        BoxIdx = inputTup[0]\n",
    "        boxBounds = inputTup[1:]\n",
    "            \n",
    "        transBoxBounds = (  int((boxBounds[0] - las.header.offsets[0]) / las.header.scales[0]),\\\n",
    "                            int((boxBounds[1] - las.header.offsets[1]) / las.header.scales[1]),\\\n",
    "                            int((boxBounds[2] - las.header.offsets[0]) / las.header.scales[0]),\\\n",
    "                            int((boxBounds[3] - las.header.offsets[1]) / las.header.scales[1]),)\n",
    "\n",
    "        \n",
    "        lp(f\"LAZ Bounds         = ({las.header.mins[0]},{las.header.mins[1]},{las.header.maxs[0]},{las.header.maxs[1]})\",suppressOut)\n",
    "        lp(f\"LAZ Unscale Bounds = ({las.X.min()},{las.Y.min()},{las.X.max()},{las.y.max()})\",suppressOut)\n",
    "        lp(f\"newBox:  {transBoxBounds}\", suppressOut)\n",
    "        \n",
    "        X = las.X\n",
    "        Y = las.Y\n",
    "        Z = las.Z\n",
    "        cls = las.classification\n",
    "        intense = las.intensity\n",
    "\n",
    "                \n",
    "        groundMask = np.isin(cls, [2,9])\n",
    "        inBoundsMaskX = np.logical_and(X >= (transBoxBounds[0]), (X <= (transBoxBounds[2])))\n",
    "        lp(f\"InBoundsX:  {np.count_nonzero(inBoundsMaskX)}\", suppressOut)\n",
    "        inBoundsMaskY = np.logical_and(Y >= (transBoxBounds[1]), (Y <= (transBoxBounds[3])))\n",
    "        lp(f\"InBoundsY:  {np.count_nonzero(inBoundsMaskY)}\", suppressOut)\n",
    "        inBoundsMask = np.logical_and(inBoundsMaskX,inBoundsMaskY)\n",
    "        lp(f\"InBounds:  {np.count_nonzero(inBoundsMask)}\", suppressOut)\n",
    "        goodPointMask = np.logical_and( groundMask, inBoundsMask)\n",
    "        \n",
    "        lp(f\"Good points / Total {np.count_nonzero(goodPointMask)}/{goodPointMask.shape[0]}\", suppressOut)\n",
    " \n",
    "        altTotal += int(Z[goodPointMask].sum())\n",
    "        waterTotal += np.count_nonzero(cls[goodPointMask] == 9)\n",
    "        intenseTotal += int(intense[goodPointMask].sum())\n",
    "        pointTotal += np.count_nonzero(goodPointMask)\n",
    "\n",
    "        outDict[BoxIdx] = (altTotal, waterTotal, intenseTotal, pointTotal, datetime.now() - startTime)\n",
    "        \n",
    "\n",
    "    lp(f\"LAZ:  {lasFileName} processed in {datetime.now()-startLazTime}\")\n",
    "\n",
    "    return (lasFileName, outDict)\n"
   ]
  },
  {
   "cell_type": "code",
   "execution_count": null,
   "id": "79068369-6244-4c88-bb42-21719ae05c39",
   "metadata": {},
   "outputs": [],
   "source": [
    "def seqOp(x1, x2):\n",
    "    outDict = defaultdict(lambda: (0,0,0,0, timedelta(0)), x1)\n",
    "    x2Dict = x2[1]\n",
    "    \n",
    "    for key, value in x2Dict.items():\n",
    "        outDict[key] = tuple((outDict[key][i] + value[i] for i in range(5) ))\n",
    "\n",
    "    return dict(outDict)\n",
    "\n",
    "def comboOp(x1,x2):\n",
    "    outDict = {}\n",
    "    x1Dict =defaultdict(lambda: (0,0,0,0, timedelta(0)), x1)\n",
    "    x2Dict =defaultdict(lambda: (0,0,0,0, timedelta(0)), x2)\n",
    "    for boxTup in boxesBroadcast.value:\n",
    "        idx = boxTup[0]\n",
    "        outDict[idx] = tuple((x1Dict[idx][i] + x2Dict[idx][i] for i in range(5)))\n",
    "\n",
    "    return outDict\n",
    "\n",
    "\n",
    "#testing\n",
    "if False:\n",
    "    \n",
    "    test1 = processLas(os.path.realpath(\"datasets/laz/USGS_LPC_LA_2021GreaterNewOrleans_C22_w0776n3315.laz\"), suppressOut=False)\n",
    "    test2 = processLas(os.path.realpath(\"datasets/laz/USGS_LPC_LA_2021GreaterNewOrleans_C22_w0780n3324.laz\"), suppressOut=False)\n",
    "    testSeq1 = seqOp({}, test1)   \n",
    "    testSeq2 = seqOp(testSeq1, test2)\n",
    "    print(testSeq2)\n",
    "                     \n",
    "    out = comboOp(comboOp(testSeq1, testSeq2), testSeq1)\n",
    "\n",
    "    print(out)"
   ]
  },
  {
   "cell_type": "code",
   "execution_count": null,
   "id": "00eab0b8-7125-4e3e-8ed4-e9d7f95268a6",
   "metadata": {},
   "outputs": [],
   "source": [
    "lazFiles = [lazPath + p for p in os.listdir(lazPath) if p[-4:]=='.laz'][:10]"
   ]
  },
  {
   "cell_type": "code",
   "execution_count": null,
   "id": "1bf8a31d-27c2-4da7-8ee9-b1dfa0d2cff7",
   "metadata": {},
   "outputs": [],
   "source": [
    "partitions = round(len(lazFiles) / 3)\n",
    "lp(f\"Partitions:  {partitions}\")\n",
    "boxesRdd = sc.parallelize(lazFiles, partitions)"
   ]
  },
  {
   "cell_type": "code",
   "execution_count": null,
   "id": "388b37c2-e86a-4aef-9f97-a88a414f7da2",
   "metadata": {},
   "outputs": [],
   "source": [
    "boxesProcessedRdd = boxesRdd.map(processLas)"
   ]
  },
  {
   "cell_type": "code",
   "execution_count": null,
   "id": "1be26364-eb96-4537-8951-a6280868f121",
   "metadata": {},
   "outputs": [],
   "source": [
    "lp(f\"{boxesDf.shape[0]} boxes total\")"
   ]
  },
  {
   "cell_type": "code",
   "execution_count": null,
   "id": "51608f63-5621-4edc-b7ca-1ef1a3b1a59c",
   "metadata": {},
   "outputs": [],
   "source": [
    "sparkTime = datetime.now()\n",
    "output = boxesProcessedRdd.aggregate({}, seqOp, comboOp)\n",
    "lp(f\"Spark completed in {datetime.now() - sparkTime}\")"
   ]
  },
  {
   "cell_type": "code",
   "execution_count": null,
   "id": "fa5d7b50-4fa2-4183-ab3a-012c7de604b7",
   "metadata": {},
   "outputs": [],
   "source": [
    "sc.stop()"
   ]
  },
  {
   "cell_type": "code",
   "execution_count": null,
   "id": "50460232-e5c1-4ba1-bd1a-f30abc37a5c4",
   "metadata": {},
   "outputs": [],
   "source": [
    "#If those code were to fail after reteiving all of the reduced data\n",
    "#we would be soooooo sad\n",
    "#to wit this is a simplified output meathod by date\n",
    "#which can be used to recreate the dataset if the unthinkable\n",
    "failSafeOutFile = outPath + datetime.now().strftime('%Y-%m-%d_%H%M%S') + '.data'\n",
    "lp(f\"Writing failsafe data to {failSafeOutFile}\")\n",
    "with open(failSafeOutFile, 'w') as f:\n",
    "    for i in range(len(output)):\n",
    "        f.write(str(output[i]))\n",
    "        f.write(\"\\n\")\n",
    "\n",
    "lp(f\"Done failsafe data to {failSafeOutFile}!\")"
   ]
  },
  {
   "cell_type": "code",
   "execution_count": null,
   "id": "a3aa9ae4-0615-481e-9b97-ddbf2d402948",
   "metadata": {},
   "outputs": [],
   "source": [
    "lp(\"Starting boxesDf load\")\n",
    "for key,value in output.items():\n",
    "\n",
    "    boxesDf.loc[key, 'AltitudeTotal'] = value[0]\n",
    "    boxesDf.loc[key, 'WaterTotal'] = value[1]\n",
    "    boxesDf.loc[key, 'Int'] = value[2]\n",
    "    boxesDf.loc[key, 'Total'] = value[3]\n",
    "    boxesDf.loc[key, 'RunTime'] = value[4]\n",
    "\n",
    "lp(\"Finished boxesDf load\")"
   ]
  },
  {
   "cell_type": "code",
   "execution_count": null,
   "id": "526e1ec4-4a60-441b-bc9a-259571480a3b",
   "metadata": {},
   "outputs": [],
   "source": [
    "boxesDf.head()"
   ]
  },
  {
   "cell_type": "code",
   "execution_count": null,
   "id": "00b81081-5830-4291-8787-08b7a5c6d1cb",
   "metadata": {},
   "outputs": [],
   "source": [
    "lp(f\"Sending boxesDf to {outputFileName}\")\n",
    "boxesDf.to_parquet( outputFileName )\n",
    "lp(f\"Done boxesDf to {outputFileName}\")"
   ]
  },
  {
   "cell_type": "code",
   "execution_count": null,
   "id": "50eb7962-10d8-48ac-8470-e0c705934cc8",
   "metadata": {},
   "outputs": [],
   "source": [
    "lp(f\"Mean runtime:  {boxesDf['RunTime'].mean()}\")\n",
    "lp(f\"Max runtime:  {boxesDf['RunTime'].max()}\")\n",
    "lp(f\"Total runtime:  {boxesDf['RunTime'].sum()}\")\n",
    "lp(f\"Totals Min/Mean/Max\\t\\t{boxesDf['Total'].min()} / {boxesDf['Total'].mean()} / {boxesDf['Total'].max()}\")"
   ]
  },
  {
   "cell_type": "code",
   "execution_count": null,
   "id": "d0e46716-6d73-464e-ab54-9f74c3b96f4a",
   "metadata": {},
   "outputs": [],
   "source": [
    "if True:\n",
    "    boxesDf['AltCalc'] = boxesDf['AltitudeTotal'] / boxesDf['Total']\n",
    "    boxesDf.loc[pd.isna(boxesDf['AltCalc']),'AltCalc'] = 0\n",
    "    ax = neighborhoodDf.plot(color='pink')\n",
    "    boxesDf.plot(column='AltCalc',ax=ax)"
   ]
  },
  {
   "cell_type": "code",
   "execution_count": null,
   "id": "2b18d550-5a2b-4117-b06c-b4234f6a7119",
   "metadata": {},
   "outputs": [],
   "source": [
    "if True:\n",
    "    boxesDf['IntCalc'] = boxesDf['Int'] / boxesDf['Total']\n",
    "    boxesDf.loc[pd.isna(boxesDf['IntCalc']),'IntCalc'] = 0\n",
    "    ax = neighborhoodDf.plot(color='pink')\n",
    "    boxesDf.plot(column='IntCalc',ax=ax)"
   ]
  },
  {
   "cell_type": "code",
   "execution_count": null,
   "id": "6d312921-2bb2-4445-aed1-6180ffb9ec18",
   "metadata": {},
   "outputs": [],
   "source": [
    "lp(\"Done!\")"
   ]
  },
  {
   "cell_type": "code",
   "execution_count": null,
   "id": "ba97f8f0-bd5e-4cae-91c1-50b346a8cd49",
   "metadata": {},
   "outputs": [],
   "source": [
    "#!aws s3 cp $outputFileName s3://requesterpays.garyscorner.net/datasets/NewOrleansElevation/ --dryrun"
   ]
  },
  {
   "cell_type": "code",
   "execution_count": null,
   "id": "99a32a7e-ddab-4a5f-a3f5-6c7884c75b62",
   "metadata": {},
   "outputs": [],
   "source": []
  }
 ],
 "metadata": {
  "kernelspec": {
   "display_name": "Python 3 (ipykernel)",
   "language": "python",
   "name": "python3"
  },
  "language_info": {
   "codemirror_mode": {
    "name": "ipython",
    "version": 3
   },
   "file_extension": ".py",
   "mimetype": "text/x-python",
   "name": "python",
   "nbconvert_exporter": "python",
   "pygments_lexer": "ipython3",
   "version": "3.11.2"
  }
 },
 "nbformat": 4,
 "nbformat_minor": 5
}
