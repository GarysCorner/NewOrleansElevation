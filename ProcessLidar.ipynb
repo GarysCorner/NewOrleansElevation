{
 "cells": [
  {
   "cell_type": "markdown",
   "id": "064f08ea-508b-4cbd-a230-982bfdc8fb8c",
   "metadata": {},
   "source": [
    "# Process Lidar\n",
    "\n",
    "This run at 10m was done with 12 r6a.4xlarge EC2 Instance."
   ]
  },
  {
   "cell_type": "code",
   "execution_count": 1,
   "id": "70d410b0-5f0a-46b2-a10d-05500365728d",
   "metadata": {},
   "outputs": [],
   "source": [
    "import geopandas as gpd\n",
    "import pandas as pd\n",
    "#import geoplot as gplt\n",
    "import laspy\n",
    "import shapely\n",
    "import os\n",
    "from datetime import datetime, timedelta\n",
    "import numpy as np\n",
    "from itertools import product\n",
    "import math\n",
    "import pyproj\n",
    "import re\n",
    "import pyspark\n",
    "import warnings\n",
    "from collections import defaultdict"
   ]
  },
  {
   "cell_type": "code",
   "execution_count": 2,
   "id": "0cdbadae-e28c-45fe-8d41-e4b5497181e5",
   "metadata": {},
   "outputs": [
    {
     "name": "stdout",
     "output_type": "stream",
     "text": [
      "[2025-04-01 14:26:30.957125] Starting...\n"
     ]
    }
   ],
   "source": [
    "def lp(v, suppressOut=False):\n",
    "    if not suppressOut:\n",
    "        print(f\"[{datetime.now()}] {v}\")\n",
    "\n",
    "lp(\"Starting...\")"
   ]
  },
  {
   "cell_type": "code",
   "execution_count": 3,
   "id": "8c0ea8fe-6d58-4613-954c-f8cdb782473e",
   "metadata": {},
   "outputs": [
    {
     "name": "stdout",
     "output_type": "stream",
     "text": [
      "[2025-04-01 14:26:30.962779] lazPath:  /home/ec2-user/notebooks/NewOrleansElevation/datasets/laz/\n"
     ]
    }
   ],
   "source": [
    "resolution = 10  #grid resolution in meters\n",
    "outPath = f\"{os.curdir}{os.sep}output{os.sep}\"\n",
    "lazPath = f\"{os.path.realpath(os.curdir)}{os.sep}datasets{os.sep}laz{os.sep}\"\n",
    "lp(f\"lazPath:  {lazPath}\")\n",
    "assert os.path.exists(lazPath), f\"{lazPath} does not exists PANIC!\"\n",
    "\n",
    "outputFileName = f\"{outPath}AggregateLidarData_{resolution}m.parquet\"\n",
    "boxesFile = f\"{outPath}boxesDf_{resolution}m.parquet\"\n",
    "\n",
    "captureHoods = []\n"
   ]
  },
  {
   "cell_type": "code",
   "execution_count": 4,
   "id": "aeab4662-d512-49c5-ad31-8aeef2adf98b",
   "metadata": {},
   "outputs": [
    {
     "name": "stdout",
     "output_type": "stream",
     "text": [
      "[2025-04-01 14:26:30.967297] <pyspark.conf.SparkConf object at 0x7f24043d4fd0>\n"
     ]
    }
   ],
   "source": [
    "conf = pyspark.SparkConf()\\\n",
    "                .set(\"spark.executor.memory\", \"110g\")\\\n",
    "                .setAppName(outputFileName)\\\n",
    "                .setMaster(\"spark://ip-10-0-4-166.ec2.internal:7077\")\n",
    "lp(conf)"
   ]
  },
  {
   "cell_type": "code",
   "execution_count": 5,
   "id": "86d15394-3831-4798-9634-115aa95c1e07",
   "metadata": {},
   "outputs": [],
   "source": [
    "if not os.path.exists(outPath):\n",
    "    lp(f\"Creating output path {outPath}\")\n",
    "    os.makedirs(outPath)"
   ]
  },
  {
   "cell_type": "code",
   "execution_count": 6,
   "id": "86f50cea-d348-4e9c-b78e-37a393111d11",
   "metadata": {},
   "outputs": [
    {
     "name": "stdout",
     "output_type": "stream",
     "text": [
      "[2025-04-01 14:26:30.976342] Path:  ./datasets/\t\tFullPath:/home/ec2-user/notebooks/NewOrleansElevation/datasets/\n"
     ]
    }
   ],
   "source": [
    "dataPath = f\"{os.curdir}{os.sep}datasets{os.sep}\"\n",
    "fullDataPath = os.path.realpath(dataPath) + os.sep\n",
    "lp(f\"Path:  {dataPath}\\t\\tFullPath:{fullDataPath}\")"
   ]
  },
  {
   "cell_type": "code",
   "execution_count": 7,
   "id": "54579182-ef03-4fa4-a809-bce80ee6e12e",
   "metadata": {},
   "outputs": [
    {
     "name": "stdout",
     "output_type": "stream",
     "text": [
      "[2025-04-01 14:26:30.982135] Opening USGS_LPC_LA_2021GreaterNewOrleans_C22_w0801n3325.laz to get crs and more\n"
     ]
    }
   ],
   "source": [
    "testLasFileName = os.listdir(f\"{dataPath}laz\")[5]\n",
    "lp(f\"Opening {testLasFileName} to get crs and more\")\n",
    "with laspy.open(f\"{dataPath}laz{os.sep}{testLasFileName}\", 'r') as f: \n",
    "    testLas = f.read()"
   ]
  },
  {
   "cell_type": "code",
   "execution_count": 8,
   "id": "8b2c5b08-6d79-4f2e-bf2a-c1b5f67d1067",
   "metadata": {},
   "outputs": [],
   "source": [
    "neighborhoodDf = gpd.read_file(f\"{dataPath}Neighborhoods.geojson\").to_crs(testLas.vlrs[0].parse_crs())"
   ]
  },
  {
   "cell_type": "code",
   "execution_count": 9,
   "id": "cf47eaff-5a4e-4b92-8f1f-51985ff8191f",
   "metadata": {},
   "outputs": [
    {
     "data": {
      "text/plain": [
       "['ALGIERS POINT',\n",
       " 'AUDUBON',\n",
       " 'B. W. COOPER',\n",
       " 'BAYOU ST. JOHN',\n",
       " 'BEHRMAN',\n",
       " 'BLACK PEARL',\n",
       " 'BROADMOOR',\n",
       " 'BYWATER',\n",
       " 'CENTRAL BUSINESS DISTRICT',\n",
       " 'CENTRAL CITY',\n",
       " 'CITY PARK',\n",
       " 'DESIRE AREA',\n",
       " 'DILLARD',\n",
       " 'DIXON',\n",
       " 'EAST CARROLLTON',\n",
       " 'EAST RIVERSIDE',\n",
       " 'FAIRGROUNDS',\n",
       " 'FILMORE',\n",
       " 'FISCHER DEV',\n",
       " 'FLORIDA AREA',\n",
       " 'FLORIDA DEV',\n",
       " 'FRENCH QUARTER',\n",
       " 'FRERET',\n",
       " 'GARDEN DISTRICT',\n",
       " 'GENTILLY TERRACE',\n",
       " 'GENTILLY WOODS',\n",
       " 'GERT TOWN',\n",
       " 'HOLLYGROVE',\n",
       " 'HOLY CROSS',\n",
       " 'IBERVILLE',\n",
       " 'IRISH CHANNEL',\n",
       " 'LAKE CATHERINE',\n",
       " 'LAKE TERRACE & OAKS',\n",
       " 'LAKESHORE - LAKE VISTA',\n",
       " 'LAKEVIEW',\n",
       " 'LAKEWOOD',\n",
       " 'LEONIDAS',\n",
       " 'LITTLE WOODS',\n",
       " 'LOWER GARDEN DISTRICT',\n",
       " 'LOWER NINTH WARD',\n",
       " 'MARIGNY',\n",
       " 'MARLYVILLE - FONTAINEBLEAU',\n",
       " 'MID-CITY',\n",
       " 'MILAN',\n",
       " 'MILNEBURG',\n",
       " 'McDONOGH',\n",
       " 'NAVARRE',\n",
       " 'NEW AURORA - ENGLISH TURN',\n",
       " 'OLD AURORA',\n",
       " 'PINES VILLAGE',\n",
       " 'PLUM ORCHARD',\n",
       " 'PONTCHARTRAIN PARK',\n",
       " 'READ BLVD EAST',\n",
       " 'READ BLVD WEST',\n",
       " 'SEVENTH WARD',\n",
       " 'ST.  ANTHONY',\n",
       " 'ST. BERNARD AREA',\n",
       " 'ST. CLAUDE',\n",
       " 'ST. ROCH',\n",
       " 'ST. THOMAS DEV',\n",
       " 'TALL TIMBERS - BRECHTEL',\n",
       " 'TOURO',\n",
       " 'TREME - LAFITTE',\n",
       " 'TULANE - GRAVIER',\n",
       " 'U.S. NAVAL BASE',\n",
       " 'UPTOWN',\n",
       " 'VIAVANT - VENETIAN ISLES',\n",
       " 'VILLAGE DE LEST',\n",
       " 'WEST END',\n",
       " 'WEST LAKE FOREST',\n",
       " 'WEST RIVERSIDE',\n",
       " 'WHITNEY']"
      ]
     },
     "execution_count": 9,
     "metadata": {},
     "output_type": "execute_result"
    }
   ],
   "source": [
    "sorted(neighborhoodDf['gnocdc_lab'].unique())"
   ]
  },
  {
   "cell_type": "code",
   "execution_count": 10,
   "id": "254954da-e450-40f6-8c04-18d775b3c435",
   "metadata": {},
   "outputs": [],
   "source": [
    "if len(captureHoods) > 0:\n",
    "    captureHoodsMask = neighborhoodDf['gnocdc_lab'].isin(captureHoods)\n",
    "else:\n",
    "    captureHoodsMask = np.repeat(True, neighborhoodDf.shape[0])"
   ]
  },
  {
   "cell_type": "code",
   "execution_count": 11,
   "id": "9afe40ea-4343-4896-a498-c87e21c0898f",
   "metadata": {},
   "outputs": [],
   "source": [
    "bounds = [int(b) for b in neighborhoodDf[captureHoodsMask].total_bounds]"
   ]
  },
  {
   "cell_type": "code",
   "execution_count": 12,
   "id": "e1ca7bcf-b693-429e-99fa-969cb317245b",
   "metadata": {},
   "outputs": [
    {
     "name": "stdout",
     "output_type": "stream",
     "text": [
      "[2025-04-01 14:26:31.311526] Resolution will be 4880.7 x 3475.8  Runtime based on 16964337.06\n"
     ]
    }
   ],
   "source": [
    "xPixels = (bounds[2] - bounds[0]) / resolution\n",
    "yPixels = (bounds[3] - bounds[1]) / resolution\n",
    "lp(f\"Resolution will be {xPixels} x {yPixels}  Runtime based on {xPixels*yPixels}\")"
   ]
  },
  {
   "cell_type": "code",
   "execution_count": 13,
   "id": "3af0d7f2-b4c9-429f-9a0f-1506867d6d12",
   "metadata": {},
   "outputs": [],
   "source": [
    "boxesDf = gpd.read_parquet(boxesFile)"
   ]
  },
  {
   "cell_type": "code",
   "execution_count": 14,
   "id": "57321308-2639-4f12-a7ae-cad537a4c104",
   "metadata": {},
   "outputs": [
    {
     "name": "stdout",
     "output_type": "stream",
     "text": [
      "[2025-04-01 14:26:35.392337] Creating spark context\n"
     ]
    },
    {
     "name": "stderr",
     "output_type": "stream",
     "text": [
      "Setting default log level to \"WARN\".\n",
      "To adjust logging level use sc.setLogLevel(newLevel). For SparkR, use setLogLevel(newLevel).\n",
      "25/04/01 14:26:37 WARN NativeCodeLoader: Unable to load native-hadoop library for your platform... using builtin-java classes where applicable\n"
     ]
    }
   ],
   "source": [
    "lp(\"Creating spark context\")\n",
    "sc = pyspark.SparkContext(conf=conf)"
   ]
  },
  {
   "cell_type": "code",
   "execution_count": 15,
   "id": "91c73419-a2ca-405d-8ac4-fa17b9013a29",
   "metadata": {},
   "outputs": [
    {
     "name": "stdout",
     "output_type": "stream",
     "text": [
      "[2025-04-01 14:26:38.022349] Broadcasting boxes\n"
     ]
    }
   ],
   "source": [
    "lp(\"Broadcasting boxes\")\n",
    "boxesBroadcast = sc.broadcast( np.array(list(boxesDf['geometry'].bounds.itertuples(name=None) )))"
   ]
  },
  {
   "cell_type": "code",
   "execution_count": 16,
   "id": "83628596-e02e-4875-bfd2-ec7b66353ff1",
   "metadata": {},
   "outputs": [
    {
     "data": {
      "text/plain": [
       "array([8.450000e+02, 7.760390e+05, 3.316338e+06, 7.760490e+05,\n",
       "       3.316348e+06])"
      ]
     },
     "execution_count": 16,
     "metadata": {},
     "output_type": "execute_result"
    }
   ],
   "source": [
    "boxesBroadcast.value[0]"
   ]
  },
  {
   "cell_type": "code",
   "execution_count": 17,
   "id": "2511f9e0-3574-4a9f-be51-8636866435ee",
   "metadata": {},
   "outputs": [
    {
     "data": {
      "text/plain": [
       "5394495"
      ]
     },
     "execution_count": 17,
     "metadata": {},
     "output_type": "execute_result"
    }
   ],
   "source": [
    "len(boxesBroadcast.value)"
   ]
  },
  {
   "cell_type": "code",
   "execution_count": 18,
   "id": "6d3f666c-10aa-4427-8ea6-eb56ac1d1a6d",
   "metadata": {},
   "outputs": [
    {
     "name": "stdout",
     "output_type": "stream",
     "text": [
      "[2025-04-01 14:26:43.012242] tileIndexBroadcast length:  7589\n"
     ]
    }
   ],
   "source": [
    "tileIndex = gpd.read_file(f\"{dataPath}USGS_LA_2021GNO_1_C22_TileIndex{os.sep}USGS_LA_2021GNO_1_C22_TileIndex.shp\").to_crs(neighborhoodDf.crs)\n",
    "tileIndex.index = tileIndex['Name'].map(lambda f: f\"{fullDataPath}laz{os.sep}USGS_LPC_LA_2021GreaterNewOrleans_C22_{f}.laz\")\n",
    "tileIndexBroadcast = sc.broadcast(tileIndex['geometry'].map(lambda g: g.bounds).to_dict())\n",
    "tileIndexBroadcast.value[tileIndex.index[0]]\n",
    "lp(f\"tileIndexBroadcast length:  {len(tileIndexBroadcast.value)}\")"
   ]
  },
  {
   "cell_type": "code",
   "execution_count": 19,
   "id": "c32b216d-167a-4092-8d02-fb3e4f8bfddd",
   "metadata": {},
   "outputs": [],
   "source": [
    "def processLas(lasFileName, suppressOut=True):\n",
    "    startLazTime = datetime.now()\n",
    "\n",
    "    lp(f\"Processing {lasFileName}...\",suppressOut)\n",
    "    \n",
    "    with laspy.open(lasFileName, 'r') as f:\n",
    "        las = f.read()\n",
    "\n",
    "    \n",
    "\n",
    "    outDict = {}\n",
    "\n",
    "    lazBox = shapely.box(*tileIndexBroadcast.value[lasFileName])\n",
    "    boxMask = gpd.GeoSeries(map(lambda b: shapely.box(*b[1:]), boxesBroadcast.value)).intersects(lazBox)\n",
    "    \n",
    "    for inputTup in boxesBroadcast.value[boxMask]:\n",
    "        startTime = datetime.now()\n",
    "        \n",
    "        altTotal = 0\n",
    "        waterTotal = 0\n",
    "        pointTotal = 0\n",
    "        intenseTotal = 0\n",
    "    \n",
    "    \n",
    "\n",
    "        BoxIdx = inputTup[0]\n",
    "        boxBounds = inputTup[1:]\n",
    "            \n",
    "        transBoxBounds = (  int((boxBounds[0] - las.header.offsets[0]) / las.header.scales[0]),\\\n",
    "                            int((boxBounds[1] - las.header.offsets[1]) / las.header.scales[1]),\\\n",
    "                            int((boxBounds[2] - las.header.offsets[0]) / las.header.scales[0]),\\\n",
    "                            int((boxBounds[3] - las.header.offsets[1]) / las.header.scales[1]),)\n",
    "\n",
    "        \n",
    "        lp(f\"LAZ Bounds         = ({las.header.mins[0]},{las.header.mins[1]},{las.header.maxs[0]},{las.header.maxs[1]})\",suppressOut)\n",
    "        lp(f\"LAZ Unscale Bounds = ({las.X.min()},{las.Y.min()},{las.X.max()},{las.y.max()})\",suppressOut)\n",
    "        lp(f\"newBox:  {transBoxBounds}\", suppressOut)\n",
    "        \n",
    "        X = las.X\n",
    "        Y = las.Y\n",
    "        Z = las.Z\n",
    "        cls = las.classification\n",
    "        intense = las.intensity\n",
    "\n",
    "                \n",
    "        groundMask = np.isin(cls, [2,9])\n",
    "        inBoundsMaskX = np.logical_and(X >= (transBoxBounds[0]), (X <= (transBoxBounds[2])))\n",
    "        lp(f\"InBoundsX:  {np.count_nonzero(inBoundsMaskX)}\", suppressOut)\n",
    "        inBoundsMaskY = np.logical_and(Y >= (transBoxBounds[1]), (Y <= (transBoxBounds[3])))\n",
    "        lp(f\"InBoundsY:  {np.count_nonzero(inBoundsMaskY)}\", suppressOut)\n",
    "        inBoundsMask = np.logical_and(inBoundsMaskX,inBoundsMaskY)\n",
    "        lp(f\"InBounds:  {np.count_nonzero(inBoundsMask)}\", suppressOut)\n",
    "        goodPointMask = np.logical_and( groundMask, inBoundsMask)\n",
    "        \n",
    "        lp(f\"Good points / Total {np.count_nonzero(goodPointMask)}/{goodPointMask.shape[0]}\", suppressOut)\n",
    " \n",
    "        altTotal += int(Z[goodPointMask].sum())\n",
    "        waterTotal += np.count_nonzero(cls[goodPointMask] == 9)\n",
    "        intenseTotal += int(intense[goodPointMask].sum())\n",
    "        pointTotal += np.count_nonzero(goodPointMask)\n",
    "\n",
    "        outDict[BoxIdx] = (altTotal, waterTotal, intenseTotal, pointTotal, datetime.now() - startTime)\n",
    "        \n",
    "\n",
    "    lp(f\"LAZ:  {lasFileName} processed in {datetime.now()-startLazTime}\")\n",
    "\n",
    "    return (lasFileName, outDict)\n"
   ]
  },
  {
   "cell_type": "code",
   "execution_count": 20,
   "id": "79068369-6244-4c88-bb42-21719ae05c39",
   "metadata": {},
   "outputs": [],
   "source": [
    "def seqOp(x1, x2):\n",
    "    outDict = defaultdict(lambda: (0,0,0,0, timedelta(0)), x1)\n",
    "    x2Dict = x2[1]\n",
    "    \n",
    "    for key, value in x2Dict.items():\n",
    "        outDict[key] = tuple((outDict[key][i] + value[i] for i in range(5) ))\n",
    "\n",
    "    return dict(outDict)\n",
    "\n",
    "def comboOp(x1,x2):\n",
    "    outDict = {}\n",
    "    x1Dict =defaultdict(lambda: (0,0,0,0, timedelta(0)), x1)\n",
    "    x2Dict =defaultdict(lambda: (0,0,0,0, timedelta(0)), x2)\n",
    "    for boxTup in boxesBroadcast.value:\n",
    "        idx = boxTup[0]\n",
    "        outDict[idx] = tuple((x1Dict[idx][i] + x2Dict[idx][i] for i in range(5)))\n",
    "\n",
    "    return outDict\n"
   ]
  },
  {
   "cell_type": "code",
   "execution_count": 21,
   "id": "a99424ef-8ba9-4d65-95ae-21f3830bcee1",
   "metadata": {},
   "outputs": [],
   "source": [
    "#testing\n",
    "if False:\n",
    "    \n",
    "    test1 = processLas(os.path.realpath(\"datasets/laz/USGS_LPC_LA_2021GreaterNewOrleans_C22_w0776n3315.laz\"), suppressOut=False)\n",
    "    test2 = processLas(os.path.realpath(\"datasets/laz/USGS_LPC_LA_2021GreaterNewOrleans_C22_w0780n3324.laz\"), suppressOut=False)\n",
    "    testSeq1 = seqOp({}, test1)   \n",
    "    testSeq2 = seqOp(testSeq1, test2)\n",
    "    #print(testSeq2)\n",
    "                     \n",
    "    out = comboOp(comboOp(testSeq1, testSeq2), testSeq1)\n",
    "\n",
    "    print(out)"
   ]
  },
  {
   "cell_type": "code",
   "execution_count": 22,
   "id": "00eab0b8-7125-4e3e-8ed4-e9d7f95268a6",
   "metadata": {},
   "outputs": [
    {
     "name": "stdout",
     "output_type": "stream",
     "text": [
      "[2025-04-01 14:26:43.038018] 617 .laz files found in /home/ec2-user/notebooks/NewOrleansElevation/datasets/laz/]\n"
     ]
    }
   ],
   "source": [
    "lazFiles = [lazPath + p for p in os.listdir(lazPath) if p[-4:]=='.laz']\n",
    "lp(f\"{len(lazFiles)} .laz files found in {lazPath}]\")"
   ]
  },
  {
   "cell_type": "code",
   "execution_count": 23,
   "id": "1bf8a31d-27c2-4da7-8ee9-b1dfa0d2cff7",
   "metadata": {},
   "outputs": [
    {
     "name": "stdout",
     "output_type": "stream",
     "text": [
      "[2025-04-01 14:26:43.041881] Partitions:  206\n"
     ]
    }
   ],
   "source": [
    "partitions = round(len(lazFiles) / 3)\n",
    "lp(f\"Partitions:  {partitions}\")\n",
    "boxesRdd = sc.parallelize(lazFiles, partitions)"
   ]
  },
  {
   "cell_type": "code",
   "execution_count": 24,
   "id": "388b37c2-e86a-4aef-9f97-a88a414f7da2",
   "metadata": {},
   "outputs": [],
   "source": [
    "boxesProcessedRdd = boxesRdd.map(processLas)"
   ]
  },
  {
   "cell_type": "code",
   "execution_count": 25,
   "id": "1be26364-eb96-4537-8951-a6280868f121",
   "metadata": {},
   "outputs": [
    {
     "name": "stdout",
     "output_type": "stream",
     "text": [
      "[2025-04-01 14:26:43.220795] 5394495 boxes total\n"
     ]
    }
   ],
   "source": [
    "lp(f\"{boxesDf.shape[0]} boxes total\")"
   ]
  },
  {
   "cell_type": "code",
   "execution_count": 26,
   "id": "51608f63-5621-4edc-b7ca-1ef1a3b1a59c",
   "metadata": {},
   "outputs": [
    {
     "name": "stderr",
     "output_type": "stream",
     "text": [
      "                                                                                \r"
     ]
    },
    {
     "name": "stdout",
     "output_type": "stream",
     "text": [
      "[2025-04-02 02:31:14.694237] Spark completed in 12:04:31.468376\n"
     ]
    }
   ],
   "source": [
    "sparkTime = datetime.now()\n",
    "output = boxesProcessedRdd.aggregate({}, seqOp, comboOp)\n",
    "lp(f\"Spark completed in {datetime.now() - sparkTime}\")"
   ]
  },
  {
   "cell_type": "code",
   "execution_count": 27,
   "id": "fa5d7b50-4fa2-4183-ab3a-012c7de604b7",
   "metadata": {},
   "outputs": [
    {
     "name": "stdout",
     "output_type": "stream",
     "text": [
      "[2025-04-02 02:31:15.695658] !!!!Done with Spark you can shut off the workers now!!!!\n"
     ]
    },
    {
     "name": "stderr",
     "output_type": "stream",
     "text": [
      "/tmp/ipykernel_4845/3052325517.py:4: UserWarning: !!!!Done with Spark you can shut off the workers now!!!!\n",
      "  _ = warnings.warn(sparkDoneMSG)\n"
     ]
    }
   ],
   "source": [
    "sc.stop()\n",
    "sparkDoneMSG = \"!!!!Done with Spark you can shut off the workers now!!!!\"\n",
    "lp(sparkDoneMSG)\n",
    "_ = warnings.warn(sparkDoneMSG)"
   ]
  },
  {
   "cell_type": "code",
   "execution_count": 28,
   "id": "50460232-e5c1-4ba1-bd1a-f30abc37a5c4",
   "metadata": {},
   "outputs": [
    {
     "name": "stdout",
     "output_type": "stream",
     "text": [
      "[2025-04-02 02:31:15.700292] Writing failsafe data to ./output/2025-04-02_023115.csv\n",
      "[2025-04-02 02:31:22.501086] Done failsafe data to ./output/2025-04-02_023115.csv  [161.829623MB]!\n"
     ]
    }
   ],
   "source": [
    "#If those code were to fail after reteiving all of the reduced data\n",
    "#we would be soooooo sad\n",
    "#to wit this is a simplified output meathod by date\n",
    "#which can be used to recreate the dataset if the unthinkable\n",
    "failSafeOutFile = outPath + datetime.now().strftime('%Y-%m-%d_%H%M%S') + '.csv'\n",
    "lp(f\"Writing failsafe data to {failSafeOutFile}\")\n",
    "with open(failSafeOutFile, 'w') as f:\n",
    "    for key in output.keys():\n",
    "        f.write(str(key))\n",
    "        f.write(',')\n",
    "        f.write(str(output[key][:-1])[1:-1]) #drop runtime not so important and parens\n",
    "        f.write(\"\\n\")\n",
    "        \n",
    "\n",
    "lp(f\"Done failsafe data to {failSafeOutFile}  [{os.path.getsize(failSafeOutFile)/1E6}MB]!\")"
   ]
  },
  {
   "cell_type": "code",
   "execution_count": 29,
   "id": "8a8ebb9c-d9ab-4faa-abb3-a776f67c0166",
   "metadata": {},
   "outputs": [
    {
     "name": "stdout",
     "output_type": "stream",
     "text": [
      "upload: output/2025-04-02_023115.csv to s3://requesterpays.garyscorner.net/datasets/NewOrleansElevation/2025-04-02_023115.csv\n"
     ]
    }
   ],
   "source": [
    "!aws s3 cp $failSafeOutFile s3://requesterpays.garyscorner.net/datasets/NewOrleansElevation/"
   ]
  },
  {
   "cell_type": "code",
   "execution_count": 30,
   "id": "5ad0962f-22d2-487c-8360-4735d9129a03",
   "metadata": {},
   "outputs": [
    {
     "name": "stdout",
     "output_type": "stream",
     "text": [
      "[2025-04-02 02:31:24.554681] Starting boxesDf load\n",
      "[2025-04-02 02:31:36.722228] Finished boxesDf load time:  0:00:12.167476\n"
     ]
    }
   ],
   "source": [
    "lp(\"Starting boxesDf load\")\n",
    "startBoxLoadTime = datetime.now()\n",
    "outCols = ['AltitudeTotal','WaterTotal','Int','Total','RunTime']\n",
    "boxesDf.drop(columns=outCols, errors='ignore', inplace=True)\n",
    "boxesDf = boxesDf.join(pd.DataFrame.from_dict(output, orient='index',columns=outCols))\n",
    "lp(f\"Finished boxesDf load time:  {datetime.now()-startBoxLoadTime}\")"
   ]
  },
  {
   "cell_type": "code",
   "execution_count": 31,
   "id": "526e1ec4-4a60-441b-bc9a-259571480a3b",
   "metadata": {},
   "outputs": [
    {
     "data": {
      "text/html": [
       "<div>\n",
       "<style scoped>\n",
       "    .dataframe tbody tr th:only-of-type {\n",
       "        vertical-align: middle;\n",
       "    }\n",
       "\n",
       "    .dataframe tbody tr th {\n",
       "        vertical-align: top;\n",
       "    }\n",
       "\n",
       "    .dataframe thead th {\n",
       "        text-align: right;\n",
       "    }\n",
       "</style>\n",
       "<table border=\"1\" class=\"dataframe\">\n",
       "  <thead>\n",
       "    <tr style=\"text-align: right;\">\n",
       "      <th></th>\n",
       "      <th>geometry</th>\n",
       "      <th>AltitudeTotal</th>\n",
       "      <th>WaterTotal</th>\n",
       "      <th>Int</th>\n",
       "      <th>Total</th>\n",
       "      <th>RunTime</th>\n",
       "    </tr>\n",
       "  </thead>\n",
       "  <tbody>\n",
       "    <tr>\n",
       "      <th>845.0</th>\n",
       "      <td>POLYGON ((776049 3316338, 776049 3316348, 7760...</td>\n",
       "      <td>0</td>\n",
       "      <td>0</td>\n",
       "      <td>0</td>\n",
       "      <td>0</td>\n",
       "      <td>0 days 00:00:01.203105</td>\n",
       "    </tr>\n",
       "    <tr>\n",
       "      <th>846.0</th>\n",
       "      <td>POLYGON ((776049 3316348, 776049 3316358, 7760...</td>\n",
       "      <td>0</td>\n",
       "      <td>0</td>\n",
       "      <td>0</td>\n",
       "      <td>0</td>\n",
       "      <td>0 days 00:00:01.202179</td>\n",
       "    </tr>\n",
       "    <tr>\n",
       "      <th>847.0</th>\n",
       "      <td>POLYGON ((776049 3316358, 776049 3316368, 7760...</td>\n",
       "      <td>0</td>\n",
       "      <td>0</td>\n",
       "      <td>0</td>\n",
       "      <td>0</td>\n",
       "      <td>0 days 00:00:01.199199</td>\n",
       "    </tr>\n",
       "    <tr>\n",
       "      <th>848.0</th>\n",
       "      <td>POLYGON ((776049 3316368, 776049 3316378, 7760...</td>\n",
       "      <td>0</td>\n",
       "      <td>0</td>\n",
       "      <td>0</td>\n",
       "      <td>0</td>\n",
       "      <td>0 days 00:00:01.223570</td>\n",
       "    </tr>\n",
       "    <tr>\n",
       "      <th>849.0</th>\n",
       "      <td>POLYGON ((776049 3316378, 776049 3316388, 7760...</td>\n",
       "      <td>0</td>\n",
       "      <td>0</td>\n",
       "      <td>0</td>\n",
       "      <td>0</td>\n",
       "      <td>0 days 00:00:01.194712</td>\n",
       "    </tr>\n",
       "  </tbody>\n",
       "</table>\n",
       "</div>"
      ],
      "text/plain": [
       "                                                geometry  AltitudeTotal  \\\n",
       "845.0  POLYGON ((776049 3316338, 776049 3316348, 7760...              0   \n",
       "846.0  POLYGON ((776049 3316348, 776049 3316358, 7760...              0   \n",
       "847.0  POLYGON ((776049 3316358, 776049 3316368, 7760...              0   \n",
       "848.0  POLYGON ((776049 3316368, 776049 3316378, 7760...              0   \n",
       "849.0  POLYGON ((776049 3316378, 776049 3316388, 7760...              0   \n",
       "\n",
       "       WaterTotal  Int  Total                RunTime  \n",
       "845.0           0    0      0 0 days 00:00:01.203105  \n",
       "846.0           0    0      0 0 days 00:00:01.202179  \n",
       "847.0           0    0      0 0 days 00:00:01.199199  \n",
       "848.0           0    0      0 0 days 00:00:01.223570  \n",
       "849.0           0    0      0 0 days 00:00:01.194712  "
      ]
     },
     "execution_count": 31,
     "metadata": {},
     "output_type": "execute_result"
    }
   ],
   "source": [
    "boxesDf.head()"
   ]
  },
  {
   "cell_type": "code",
   "execution_count": 32,
   "id": "00b81081-5830-4291-8787-08b7a5c6d1cb",
   "metadata": {},
   "outputs": [
    {
     "name": "stdout",
     "output_type": "stream",
     "text": [
      "[2025-04-02 02:31:36.736768] Sending boxesDf to ./output/AggregateLidarData_10m.parquet\n",
      "[2025-04-02 02:31:42.029622] Done boxesDf to ./output/AggregateLidarData_10m.parquet\n"
     ]
    }
   ],
   "source": [
    "lp(f\"Sending boxesDf to {outputFileName}\")\n",
    "boxesDf.to_parquet( outputFileName )\n",
    "lp(f\"Done boxesDf to {outputFileName}\")"
   ]
  },
  {
   "cell_type": "code",
   "execution_count": 33,
   "id": "50eb7962-10d8-48ac-8470-e0c705934cc8",
   "metadata": {},
   "outputs": [
    {
     "name": "stdout",
     "output_type": "stream",
     "text": [
      "[2025-04-02 02:31:42.040421] Mean runtime:  0 days 00:00:00.866326127\n",
      "[2025-04-02 02:31:42.045385] Max runtime:  0 days 00:00:07.243506\n",
      "[2025-04-02 02:31:42.050255] Total runtime:  54 days 02:09:51.962585\n",
      "[2025-04-02 02:31:42.056788] Totals Min/Mean/Max\t\t0 / 216.38568540706777 / 2659\n"
     ]
    }
   ],
   "source": [
    "lp(f\"Mean runtime:  {boxesDf['RunTime'].mean()}\")\n",
    "lp(f\"Max runtime:  {boxesDf['RunTime'].max()}\")\n",
    "lp(f\"Total runtime:  {boxesDf['RunTime'].sum()}\")\n",
    "lp(f\"Totals Min/Mean/Max\\t\\t{boxesDf['Total'].min()} / {boxesDf['Total'].mean()} / {boxesDf['Total'].max()}\")"
   ]
  },
  {
   "cell_type": "code",
   "execution_count": 34,
   "id": "d0e46716-6d73-464e-ab54-9f74c3b96f4a",
   "metadata": {},
   "outputs": [],
   "source": [
    "if False:\n",
    "    lp(\"Altitude plot\")\n",
    "    boxesDf['AltCalc'] = boxesDf['AltitudeTotal'] / boxesDf['Total']\n",
    "    boxesDf.loc[pd.isna(boxesDf['AltCalc']),'AltCalc'] = 0\n",
    "    ax = neighborhoodDf.plot(color='pink')\n",
    "    boxesDf.plot(column='AltCalc',ax=ax)"
   ]
  },
  {
   "cell_type": "code",
   "execution_count": 35,
   "id": "2b18d550-5a2b-4117-b06c-b4234f6a7119",
   "metadata": {},
   "outputs": [],
   "source": [
    "if False:\n",
    "    lp(\"Intense plot\")\n",
    "    boxesDf['IntCalc'] = boxesDf['Int'] / boxesDf['Total']\n",
    "    boxesDf.loc[pd.isna(boxesDf['IntCalc']),'IntCalc'] = 0\n",
    "    ax = neighborhoodDf.plot(color='pink')\n",
    "    boxesDf.plot(column='IntCalc',ax=ax)"
   ]
  },
  {
   "cell_type": "code",
   "execution_count": 36,
   "id": "ba97f8f0-bd5e-4cae-91c1-50b346a8cd49",
   "metadata": {},
   "outputs": [
    {
     "name": "stdout",
     "output_type": "stream",
     "text": [
      "[2025-04-02 02:31:42.068168] Uploading to AWS\n",
      "upload: output/AggregateLidarData_10m.parquet to s3://requesterpays.garyscorner.net/datasets/NewOrleansElevation/AggregateLidarData_10m.parquet\n"
     ]
    }
   ],
   "source": [
    "lp(\"Uploading to AWS\")\n",
    "!aws s3 cp $outputFileName s3://requesterpays.garyscorner.net/datasets/NewOrleansElevation/"
   ]
  },
  {
   "cell_type": "code",
   "execution_count": 37,
   "id": "6d312921-2bb2-4445-aed1-6180ffb9ec18",
   "metadata": {},
   "outputs": [
    {
     "name": "stdout",
     "output_type": "stream",
     "text": [
      "[2025-04-02 02:31:44.000579] Done!\n"
     ]
    }
   ],
   "source": [
    "lp(\"Done!\")"
   ]
  },
  {
   "cell_type": "code",
   "execution_count": null,
   "id": "99a32a7e-ddab-4a5f-a3f5-6c7884c75b62",
   "metadata": {},
   "outputs": [],
   "source": []
  }
 ],
 "metadata": {
  "kernelspec": {
   "display_name": "Python 3 (ipykernel)",
   "language": "python",
   "name": "python3"
  },
  "language_info": {
   "codemirror_mode": {
    "name": "ipython",
    "version": 3
   },
   "file_extension": ".py",
   "mimetype": "text/x-python",
   "name": "python",
   "nbconvert_exporter": "python",
   "pygments_lexer": "ipython3",
   "version": "3.9.16"
  }
 },
 "nbformat": 4,
 "nbformat_minor": 5
}
