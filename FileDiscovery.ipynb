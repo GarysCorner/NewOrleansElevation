{
 "cells": [
  {
   "cell_type": "markdown",
   "metadata": {},
   "source": [
    "### File Discovery\n",
    "\n",
    "* ftp://rockyftp.cr.usgs.gov/vdelivery/Datasets/Staged/Elevation/LPC/Projects/USGS_LPC_LA_UpperDeltaPlain_2017_LAS_2018/\n",
    "\n",
    "This notebook is for finding a list of relavent  elevation files for New Orleans, using the metatdata supplied"
   ]
  },
  {
   "cell_type": "code",
   "execution_count": 1,
   "metadata": {},
   "outputs": [],
   "source": [
    "import numpy as np\n",
    "import pandas as pd\n",
    "import geopandas as gpd\n",
    "import geoplot as gplt\n",
    "import matplotlib.pyplot as plt\n",
    "from os import listdir\n",
    "from os.path import exists\n",
    "from shapely.geometry import Point, Polygon\n",
    "\n",
    "import xml.etree.ElementTree as et"
   ]
  },
  {
   "cell_type": "code",
   "execution_count": 2,
   "metadata": {},
   "outputs": [],
   "source": [
    "epsg = 4289\n",
    "\n",
    "newOrleansBounds = {}\n",
    "newOrleansBounds['north'] = 30.16\n",
    "newOrleansBounds['south'] = 29.89\n",
    "newOrleansBounds['west'] = -90.145\n",
    "newOrleansBounds['east'] = -89.769\n",
    "\n",
    "metatDataPath = './USGS_LPC_LA_UpperDeltaPlain_2017_LAS_2018/metadata/'\n",
    "shapeFilePath = './USGS_LPC_LA_UpperDeltaPlain_2017_LAS_2018/las/tiled/'\n",
    "\n",
    "neighborhoodDf = gpd.read_file('zip://./NewOrleansShapeFiles/Neighborhood_Statistical_Areas.zip!Neighborhood_Statistical_Areas.shp').to_crs(epsg=epsg)\n",
    "waterDf = gpd.read_file('zip://./NewOrleansShapeFiles/water.zip!WATER2.SHP')"
   ]
  },
  {
   "cell_type": "code",
   "execution_count": 3,
   "metadata": {},
   "outputs": [],
   "source": [
    "def getBounds(name, elem):\n",
    "    return float(elem.find(name).text)\n",
    "\n",
    "def metaDataInBounds(xmlFileName, debug=False, bounds = newOrleansBounds, forceXmlBounds = False):\n",
    "    tree = et.parse(xmlFileName)\n",
    "    treeRoot = tree.getroot()\n",
    "    idinfoElem = treeRoot.find('idinfo')\n",
    "    spdomElem = idinfoElem.find('spdom')\n",
    "    boundsElem = spdomElem.find('bounding')\n",
    "    \n",
    "    fileElem = treeRoot\n",
    "    targetPath = ['distinfo','stdorder', 'digform', 'digtopt', 'onlinopt', 'computer','networka','networkr']\n",
    "    for target in targetPath:\n",
    "        if debug:\n",
    "            print(\"targetPath: \", fileElem.tag)\n",
    "            \n",
    "        fileElem = fileElem.find(target)\n",
    "        \n",
    "    ftpFileName = fileElem.text\n",
    "    \n",
    "    \n",
    "    if forceXmlBounds:\n",
    "        (northbc,southbc,eastbc,westbc) = forceXmlBounds\n",
    "    else:\n",
    "        (northbc,southbc,eastbc,westbc) = (getBounds(name, boundsElem) for name in ['northbc','southbc','eastbc','westbc']  )\n",
    "    \n",
    "    overLap = True\n",
    "    eastOverLap = True\n",
    "    northOverLap = True\n",
    "    #xml is east or west of bounds\n",
    "    if eastbc < bounds['west'] or westbc > bounds['east'] :\n",
    "        overLap = False\n",
    "        eastOverLap = False\n",
    "        \n",
    "    #xml is north or south  bounds\n",
    "    if southbc > bounds['north'] or northbc < bounds['south']:\n",
    "        overLap = False\n",
    "        northOverLap = False\n",
    "        \n",
    "    if debug:\n",
    "        print(northbc,southbc,eastbc,westbc)\n",
    "        print(\"New Orleans bounds: \", bounds)\n",
    "        print(\"OverLapped: \", overLap)\n",
    "        print(\"FTP Filename: \", ftpFileName)\n",
    "        \n",
    "    return {\n",
    "                'filename': xmlFileName.split('/')[-1],\n",
    "                'overLap': overLap,\n",
    "                'eastOverLap': eastOverLap,\n",
    "                'northOverLap': northOverLap,\n",
    "                'northbc': northbc,\n",
    "                'southbc': southbc,\n",
    "                'eastbc': eastbc,\n",
    "                'westbc': westbc,\n",
    "                'ftpFileName': ftpFileName\n",
    "            }\n"
   ]
  },
  {
   "cell_type": "code",
   "execution_count": 4,
   "metadata": {},
   "outputs": [],
   "source": [
    "xmlFiles = pd.DataFrame( [metatDataPath + name for name in listdir('./USGS_LPC_LA_UpperDeltaPlain_2017_LAS_2018/metadata/') if name[-4:] == '.xml'], columns=['filename'] )\n",
    "xmlFiles = pd.DataFrame( xmlFiles['filename'].apply(metaDataInBounds).to_list() )"
   ]
  },
  {
   "cell_type": "code",
   "execution_count": 5,
   "metadata": {},
   "outputs": [
    {
     "data": {
      "text/html": [
       "<div>\n",
       "<style scoped>\n",
       "    .dataframe tbody tr th:only-of-type {\n",
       "        vertical-align: middle;\n",
       "    }\n",
       "\n",
       "    .dataframe tbody tr th {\n",
       "        vertical-align: top;\n",
       "    }\n",
       "\n",
       "    .dataframe thead th {\n",
       "        text-align: right;\n",
       "    }\n",
       "</style>\n",
       "<table border=\"1\" class=\"dataframe\">\n",
       "  <thead>\n",
       "    <tr style=\"text-align: right;\">\n",
       "      <th></th>\n",
       "      <th>filename</th>\n",
       "      <th>overLap</th>\n",
       "      <th>eastOverLap</th>\n",
       "      <th>northOverLap</th>\n",
       "      <th>northbc</th>\n",
       "      <th>southbc</th>\n",
       "      <th>eastbc</th>\n",
       "      <th>westbc</th>\n",
       "      <th>ftpFileName</th>\n",
       "    </tr>\n",
       "  </thead>\n",
       "  <tbody>\n",
       "    <tr>\n",
       "      <th>4</th>\n",
       "      <td>USGS_LPC_LA_UpperDeltaPlain_2017_15ryp995270_L...</td>\n",
       "      <td>True</td>\n",
       "      <td>True</td>\n",
       "      <td>True</td>\n",
       "      <td>30.050959</td>\n",
       "      <td>30.037075</td>\n",
       "      <td>-89.878328</td>\n",
       "      <td>-89.894287</td>\n",
       "      <td>ftp://rockyftp.cr.usgs.gov/vdelivery/Datasets/...</td>\n",
       "    </tr>\n",
       "    <tr>\n",
       "      <th>12</th>\n",
       "      <td>USGS_LPC_LA_UpperDeltaPlain_2017_15ryp860255_L...</td>\n",
       "      <td>True</td>\n",
       "      <td>True</td>\n",
       "      <td>True</td>\n",
       "      <td>30.040672</td>\n",
       "      <td>30.026802</td>\n",
       "      <td>-90.018579</td>\n",
       "      <td>-90.034520</td>\n",
       "      <td>ftp://rockyftp.cr.usgs.gov/vdelivery/Datasets/...</td>\n",
       "    </tr>\n",
       "    <tr>\n",
       "      <th>15</th>\n",
       "      <td>USGS_LPC_LA_UpperDeltaPlain_2017_15ryp755240_L...</td>\n",
       "      <td>True</td>\n",
       "      <td>True</td>\n",
       "      <td>True</td>\n",
       "      <td>30.026428</td>\n",
       "      <td>30.015704</td>\n",
       "      <td>-90.127830</td>\n",
       "      <td>-90.143665</td>\n",
       "      <td>ftp://rockyftp.cr.usgs.gov/vdelivery/Datasets/...</td>\n",
       "    </tr>\n",
       "    <tr>\n",
       "      <th>23</th>\n",
       "      <td>USGS_LPC_LA_UpperDeltaPlain_2017_15ryp770165_L...</td>\n",
       "      <td>True</td>\n",
       "      <td>True</td>\n",
       "      <td>True</td>\n",
       "      <td>29.961624</td>\n",
       "      <td>29.947765</td>\n",
       "      <td>-90.114160</td>\n",
       "      <td>-90.130075</td>\n",
       "      <td>ftp://rockyftp.cr.usgs.gov/vdelivery/Datasets/...</td>\n",
       "    </tr>\n",
       "    <tr>\n",
       "      <th>28</th>\n",
       "      <td>USGS_LPC_LA_UpperDeltaPlain_2017_15ryp950330_L...</td>\n",
       "      <td>True</td>\n",
       "      <td>True</td>\n",
       "      <td>True</td>\n",
       "      <td>30.100587</td>\n",
       "      <td>30.092242</td>\n",
       "      <td>-89.923432</td>\n",
       "      <td>-89.930972</td>\n",
       "      <td>ftp://rockyftp.cr.usgs.gov/vdelivery/Datasets/...</td>\n",
       "    </tr>\n",
       "  </tbody>\n",
       "</table>\n",
       "</div>"
      ],
      "text/plain": [
       "                                             filename  overLap  eastOverLap  \\\n",
       "4   USGS_LPC_LA_UpperDeltaPlain_2017_15ryp995270_L...     True         True   \n",
       "12  USGS_LPC_LA_UpperDeltaPlain_2017_15ryp860255_L...     True         True   \n",
       "15  USGS_LPC_LA_UpperDeltaPlain_2017_15ryp755240_L...     True         True   \n",
       "23  USGS_LPC_LA_UpperDeltaPlain_2017_15ryp770165_L...     True         True   \n",
       "28  USGS_LPC_LA_UpperDeltaPlain_2017_15ryp950330_L...     True         True   \n",
       "\n",
       "    northOverLap    northbc    southbc     eastbc     westbc  \\\n",
       "4           True  30.050959  30.037075 -89.878328 -89.894287   \n",
       "12          True  30.040672  30.026802 -90.018579 -90.034520   \n",
       "15          True  30.026428  30.015704 -90.127830 -90.143665   \n",
       "23          True  29.961624  29.947765 -90.114160 -90.130075   \n",
       "28          True  30.100587  30.092242 -89.923432 -89.930972   \n",
       "\n",
       "                                          ftpFileName  \n",
       "4   ftp://rockyftp.cr.usgs.gov/vdelivery/Datasets/...  \n",
       "12  ftp://rockyftp.cr.usgs.gov/vdelivery/Datasets/...  \n",
       "15  ftp://rockyftp.cr.usgs.gov/vdelivery/Datasets/...  \n",
       "23  ftp://rockyftp.cr.usgs.gov/vdelivery/Datasets/...  \n",
       "28  ftp://rockyftp.cr.usgs.gov/vdelivery/Datasets/...  "
      ]
     },
     "execution_count": 5,
     "metadata": {},
     "output_type": "execute_result"
    }
   ],
   "source": [
    "xmlFiles[xmlFiles['overLap']].head()"
   ]
  },
  {
   "cell_type": "code",
   "execution_count": 6,
   "metadata": {},
   "outputs": [
    {
     "data": {
      "text/plain": [
       "filename        4802\n",
       "overLap         4802\n",
       "eastOverLap     4802\n",
       "northOverLap    4802\n",
       "northbc         4802\n",
       "southbc         4802\n",
       "eastbc          4802\n",
       "westbc          4802\n",
       "ftpFileName     4802\n",
       "dtype: int64"
      ]
     },
     "execution_count": 6,
     "metadata": {},
     "output_type": "execute_result"
    }
   ],
   "source": [
    "xmlFiles.count()"
   ]
  },
  {
   "cell_type": "code",
   "execution_count": 7,
   "metadata": {},
   "outputs": [
    {
     "data": {
      "text/plain": [
       "292"
      ]
     },
     "execution_count": 7,
     "metadata": {},
     "output_type": "execute_result"
    }
   ],
   "source": [
    "#this is what needs to be downloaded\n",
    "np.count_nonzero(xmlFiles['overLap'])"
   ]
  },
  {
   "cell_type": "code",
   "execution_count": 8,
   "metadata": {},
   "outputs": [
    {
     "data": {
      "text/plain": [
       "<AxesSubplot:>"
      ]
     },
     "execution_count": 8,
     "metadata": {},
     "output_type": "execute_result"
    },
    {
     "data": {
      "image/png": "[encoded data removed]",
      "text/plain": [
       "<Figure size 432x288 with 1 Axes>"
      ]
     },
     "metadata": {
      "needs_background": "light"
     },
     "output_type": "display_data"
    }
   ],
   "source": [
    "fig, ax = plt.subplots()\n",
    "\n",
    "polygons = []\n",
    "for row in xmlFiles.iterrows():\n",
    "    data = row[1]\n",
    "    polygons.append(Polygon((\n",
    "        (data['westbc'],data['northbc']),\n",
    "        (data['eastbc'],data['northbc']),\n",
    "        (data['eastbc'],data['southbc']),\n",
    "        (data['westbc'],data['southbc']),\n",
    "    )))\n",
    "    \n",
    "xmlFilesGeo = gpd.GeoDataFrame(xmlFiles, geometry=polygons).set_crs(epsg)\n",
    "xmlFilesGeo.plot(facecolor='blue',ax=ax)\n",
    "xmlFilesGeo[xmlFilesGeo['overLap']].plot(facecolor='red',ax=ax)"
   ]
  },
  {
   "cell_type": "code",
   "execution_count": null,
   "metadata": {},
   "outputs": [],
   "source": [
    "projection = gplt.Mercator()\n",
    "fig, ax = plt.subplots(figsize=(28,18), subplot_kw={'projection': projection})\n",
    "\n",
    "extent = (-90.14003111,  29.86560481, -89.87, 30.08)\n",
    "extent = (newOrleansBounds['west'], newOrleansBounds['south'], newOrleansBounds['east'], newOrleansBounds['north'])\n",
    "\n",
    "gplt.polyplot(xmlFilesGeo[xmlFilesGeo['overLap']], ax=ax, facecolor='red', projection=projection)   \n",
    "gplt.polyplot(neighborhoodDf, edgecolor='black', projection=projection, ax=ax)\n",
    "gplt.polyplot(waterDf,ax=ax, projection=projection, edgecolor='#abd3df', facecolor='#abd3df')\n",
    "\n",
    "\n",
    "fig.tight_layout()"
   ]
  },
  {
   "cell_type": "code",
   "execution_count": 13,
   "metadata": {},
   "outputs": [],
   "source": [
    "xmlFilesGeo.to_pickle('./xmlFilesGeo.pickle')"
   ]
  },
  {
   "cell_type": "code",
   "execution_count": 14,
   "metadata": {},
   "outputs": [
    {
     "name": "stdout",
     "output_type": "stream",
     "text": [
      "xmlFilesGeo.pickle\n"
     ]
    }
   ],
   "source": [
    "!ls xmlFilesGeo.pickle"
   ]
  },
  {
   "cell_type": "code",
   "execution_count": 20,
   "metadata": {},
   "outputs": [],
   "source": [
    "#this will be used\n",
    "\n",
    "files = xmlFilesGeo[xmlFilesGeo['overLap']]['ftpFileName'].to_list()\n",
    "with open('fileList.txt', 'w') as f:\n",
    "    for file in files:\n",
    "        f.write(file + \"\\n\")\n",
    "    "
   ]
  },
  {
   "cell_type": "markdown",
   "metadata": {},
   "source": [
    "## Dont forget to unzip everything"
   ]
  },
  {
   "cell_type": "code",
   "execution_count": null,
   "metadata": {},
   "outputs": [],
   "source": []
  }
 ],
 "metadata": {
  "kernelspec": {
   "display_name": "Python 3",
   "language": "python",
   "name": "python3"
  },
  "language_info": {
   "codemirror_mode": {
    "name": "ipython",
    "version": 3
   },
   "file_extension": ".py",
   "mimetype": "text/x-python",
   "name": "python",
   "nbconvert_exporter": "python",
   "pygments_lexer": "ipython3",
   "version": "3.7.3"
  }
 },
 "nbformat": 4,
 "nbformat_minor": 4
}
