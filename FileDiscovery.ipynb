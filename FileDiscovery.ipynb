{
 "cells": [
  {
   "cell_type": "markdown",
   "metadata": {},
   "source": [
    "### File Discovery\n",
    "\n",
    "* ftp://rockyftp.cr.usgs.gov/vdelivery/Datasets/Staged/Elevation/LPC/Projects/USGS_LPC_LA_UpperDeltaPlain_2017_LAS_2018/\n",
    "\n",
    "This notebook is for finding a list of relavent  elevation files for New Orleans, using the metatdata supplied"
   ]
  },
  {
   "cell_type": "code",
   "execution_count": 1,
   "metadata": {},
   "outputs": [],
   "source": [
    "import numpy as np\n",
    "import pandas as pd\n",
    "import geopandas as gpd\n",
    "import geoplot as gplt\n",
    "import matplotlib.pyplot as plt\n",
    "from os import listdir\n",
    "from os.path import exists\n",
    "\n",
    "import xml.etree.ElementTree as et"
   ]
  },
  {
   "cell_type": "code",
   "execution_count": 2,
   "metadata": {},
   "outputs": [],
   "source": [
    "newOrleansBounds = {}\n",
    "newOrleansBounds['north'] = 30.16\n",
    "newOrleansBounds['south'] = 29.89\n",
    "newOrleansBounds['east'] = -90.286\n",
    "newOrleansBounds['west'] = -89.867\n",
    "\n",
    "metatDataPath = './USGS_LPC_LA_UpperDeltaPlain_2017_LAS_2018/metadata/'\n",
    "shapeFilePath = './USGS_LPC_LA_UpperDeltaPlain_2017_LAS_2018/las/tiled/'"
   ]
  },
  {
   "cell_type": "code",
   "execution_count": 3,
   "metadata": {},
   "outputs": [],
   "source": [
    "def getBounds(name, elem):\n",
    "    return float(elem.find(name).text)\n",
    "\n",
    "def metaDataInBounds(xmlFileName, debug=False, bounds = newOrleansBounds, forceXmlBounds = False):\n",
    "    tree = et.parse(xmlFileName)\n",
    "    treeRoot = tree.getroot()\n",
    "    idinfoElem = treeRoot.find('idinfo')\n",
    "    spdomElem = idinfoElem.find('spdom')\n",
    "    boundsElem = spdomElem.find('bounding')\n",
    "    \n",
    "    fileElem = treeRoot\n",
    "    targetPath = ['distinfo','stdorder', 'digform', 'digtopt', 'onlinopt', 'computer','networka','networkr']\n",
    "    for target in targetPath:\n",
    "        if debug:\n",
    "            print(\"targetPath: \", fileElem.tag)\n",
    "            \n",
    "        fileElem = fileElem.find(target)\n",
    "        \n",
    "    ftpFileName = fileElem.text\n",
    "    \n",
    "    \n",
    "    if forceXmlBounds:\n",
    "        (northbc,southbc,eastbc,westbc) = forceXmlBounds\n",
    "    else:\n",
    "        (northbc,southbc,eastbc,westbc) = (getBounds(name, boundsElem) for name in ['northbc','southbc','eastbc','westbc']  )\n",
    "    \n",
    "    overLap = True\n",
    "    eastOverLap = True\n",
    "    northOverLap = True\n",
    "    #xml is east or west of bounds\n",
    "    if eastbc < bounds['east'] or westbc > bounds['east']:\n",
    "        overLap = False\n",
    "        eastOverLap = False\n",
    "        \n",
    "    #xml is north or south  bounds\n",
    "    if southbc > bounds['north'] or northbc < bounds['south']:\n",
    "        overLap = False\n",
    "        northOverLap = False\n",
    "        \n",
    "    if debug:\n",
    "        print(northbc,southbc,eastbc,westbc)\n",
    "        print(\"New Orleans bounds: \", bounds)\n",
    "        print(\"OverLapped: \", overLap)\n",
    "        print(\"FTP Filename: \", ftpFileName)\n",
    "        \n",
    "    return {\n",
    "                'filename': xmlFileName.split('/')[-1],\n",
    "                'overLap': overLap,\n",
    "                'eastOverLap': eastOverLap,\n",
    "                'northOverLap': northOverLap,\n",
    "                'northbc': northbc,\n",
    "                'southbc': southbc,\n",
    "                'eastbc': eastbc,\n",
    "                'westbc': westbc,\n",
    "                'ftpFileName': ftpFileName\n",
    "            }\n"
   ]
  },
  {
   "cell_type": "code",
   "execution_count": 4,
   "metadata": {},
   "outputs": [
    {
     "name": "stdout",
     "output_type": "stream",
     "text": [
      "targetPath:  metadata\n",
      "targetPath:  distinfo\n",
      "targetPath:  stdorder\n",
      "targetPath:  digform\n",
      "targetPath:  digtopt\n",
      "targetPath:  onlinopt\n",
      "targetPath:  computer\n",
      "targetPath:  networka\n",
      "30.0888715084389 30.0751276331772 -91.1840808992984 -91.199884351646\n",
      "New Orleans bounds:  {'north': 30.16, 'south': 29.89, 'east': -90.286, 'west': -89.867}\n",
      "OverLapped:  False\n",
      "FTP Filename:  ftp://rockyftp.cr.usgs.gov/vdelivery/Datasets/Staged/Elevation/LPC/Projects/USGS_LPC_LA_UpperDeltaPlain_2017_LAS_2018/las/tiled/USGS_LPC_LA_UpperDeltaPlain_2017_15rxp735285_LAS_2018.zip\n"
     ]
    },
    {
     "data": {
      "text/plain": [
       "{'filename': 'USGS_LPC_LA_UpperDeltaPlain_2017_15rxp735285_LAS_2018_meta.xml',\n",
       " 'overLap': False,\n",
       " 'eastOverLap': False,\n",
       " 'northOverLap': True,\n",
       " 'northbc': 30.0888715084389,\n",
       " 'southbc': 30.0751276331772,\n",
       " 'eastbc': -91.1840808992984,\n",
       " 'westbc': -91.199884351646,\n",
       " 'ftpFileName': 'ftp://rockyftp.cr.usgs.gov/vdelivery/Datasets/Staged/Elevation/LPC/Projects/USGS_LPC_LA_UpperDeltaPlain_2017_LAS_2018/las/tiled/USGS_LPC_LA_UpperDeltaPlain_2017_15rxp735285_LAS_2018.zip'}"
      ]
     },
     "execution_count": 4,
     "metadata": {},
     "output_type": "execute_result"
    }
   ],
   "source": [
    "testFileName = './USGS_LPC_LA_UpperDeltaPlain_2017_LAS_2018/metadata/USGS_LPC_LA_UpperDeltaPlain_2017_15rxp735285_LAS_2018_meta.xml'\n",
    "metaDataInBounds(testFileName, True)"
   ]
  },
  {
   "cell_type": "code",
   "execution_count": 5,
   "metadata": {},
   "outputs": [],
   "source": [
    "xmlFiles = pd.DataFrame( [metatDataPath + name for name in listdir('./USGS_LPC_LA_UpperDeltaPlain_2017_LAS_2018/metadata/') if name[-4:] == '.xml'], columns=['filename'] )\n",
    "xmlFiles = pd.DataFrame( xmlFiles['filename'].apply(metaDataInBounds).to_list() )"
   ]
  },
  {
   "cell_type": "code",
   "execution_count": 6,
   "metadata": {},
   "outputs": [
    {
     "data": {
      "text/html": [
       "<div>\n",
       "<style scoped>\n",
       "    .dataframe tbody tr th:only-of-type {\n",
       "        vertical-align: middle;\n",
       "    }\n",
       "\n",
       "    .dataframe tbody tr th {\n",
       "        vertical-align: top;\n",
       "    }\n",
       "\n",
       "    .dataframe thead th {\n",
       "        text-align: right;\n",
       "    }\n",
       "</style>\n",
       "<table border=\"1\" class=\"dataframe\">\n",
       "  <thead>\n",
       "    <tr style=\"text-align: right;\">\n",
       "      <th></th>\n",
       "      <th>filename</th>\n",
       "      <th>overLap</th>\n",
       "      <th>eastOverLap</th>\n",
       "      <th>northOverLap</th>\n",
       "      <th>northbc</th>\n",
       "      <th>southbc</th>\n",
       "      <th>eastbc</th>\n",
       "      <th>westbc</th>\n",
       "      <th>ftpFileName</th>\n",
       "    </tr>\n",
       "  </thead>\n",
       "  <tbody>\n",
       "    <tr>\n",
       "      <th>0</th>\n",
       "      <td>USGS_LPC_LA_UpperDeltaPlain_2017_15ryp500150_L...</td>\n",
       "      <td>False</td>\n",
       "      <td>False</td>\n",
       "      <td>True</td>\n",
       "      <td>29.953899</td>\n",
       "      <td>29.940070</td>\n",
       "      <td>-90.394035</td>\n",
       "      <td>-90.409914</td>\n",
       "      <td>ftp://rockyftp.cr.usgs.gov/vdelivery/Datasets/...</td>\n",
       "    </tr>\n",
       "    <tr>\n",
       "      <th>1</th>\n",
       "      <td>USGS_LPC_LA_UpperDeltaPlain_2017_15ryp230195_L...</td>\n",
       "      <td>False</td>\n",
       "      <td>False</td>\n",
       "      <td>True</td>\n",
       "      <td>29.999679</td>\n",
       "      <td>29.985880</td>\n",
       "      <td>-90.672650</td>\n",
       "      <td>-90.688503</td>\n",
       "      <td>ftp://rockyftp.cr.usgs.gov/vdelivery/Datasets/...</td>\n",
       "    </tr>\n",
       "    <tr>\n",
       "      <th>2</th>\n",
       "      <td>USGS_LPC_LA_UpperDeltaPlain_2017_15ryp170585_L...</td>\n",
       "      <td>False</td>\n",
       "      <td>False</td>\n",
       "      <td>False</td>\n",
       "      <td>30.352434</td>\n",
       "      <td>30.338638</td>\n",
       "      <td>-90.726747</td>\n",
       "      <td>-90.742653</td>\n",
       "      <td>ftp://rockyftp.cr.usgs.gov/vdelivery/Datasets/...</td>\n",
       "    </tr>\n",
       "    <tr>\n",
       "      <th>3</th>\n",
       "      <td>USGS_LPC_LA_UpperDeltaPlain_2017_15ryp170555_L...</td>\n",
       "      <td>False</td>\n",
       "      <td>False</td>\n",
       "      <td>False</td>\n",
       "      <td>30.325382</td>\n",
       "      <td>30.311587</td>\n",
       "      <td>-90.727372</td>\n",
       "      <td>-90.743274</td>\n",
       "      <td>ftp://rockyftp.cr.usgs.gov/vdelivery/Datasets/...</td>\n",
       "    </tr>\n",
       "    <tr>\n",
       "      <th>4</th>\n",
       "      <td>USGS_LPC_LA_UpperDeltaPlain_2017_15ryp995270_L...</td>\n",
       "      <td>False</td>\n",
       "      <td>False</td>\n",
       "      <td>True</td>\n",
       "      <td>30.050959</td>\n",
       "      <td>30.037075</td>\n",
       "      <td>-89.878328</td>\n",
       "      <td>-89.894287</td>\n",
       "      <td>ftp://rockyftp.cr.usgs.gov/vdelivery/Datasets/...</td>\n",
       "    </tr>\n",
       "  </tbody>\n",
       "</table>\n",
       "</div>"
      ],
      "text/plain": [
       "                                            filename  overLap  eastOverLap  \\\n",
       "0  USGS_LPC_LA_UpperDeltaPlain_2017_15ryp500150_L...    False        False   \n",
       "1  USGS_LPC_LA_UpperDeltaPlain_2017_15ryp230195_L...    False        False   \n",
       "2  USGS_LPC_LA_UpperDeltaPlain_2017_15ryp170585_L...    False        False   \n",
       "3  USGS_LPC_LA_UpperDeltaPlain_2017_15ryp170555_L...    False        False   \n",
       "4  USGS_LPC_LA_UpperDeltaPlain_2017_15ryp995270_L...    False        False   \n",
       "\n",
       "   northOverLap    northbc    southbc     eastbc     westbc  \\\n",
       "0          True  29.953899  29.940070 -90.394035 -90.409914   \n",
       "1          True  29.999679  29.985880 -90.672650 -90.688503   \n",
       "2         False  30.352434  30.338638 -90.726747 -90.742653   \n",
       "3         False  30.325382  30.311587 -90.727372 -90.743274   \n",
       "4          True  30.050959  30.037075 -89.878328 -89.894287   \n",
       "\n",
       "                                         ftpFileName  \n",
       "0  ftp://rockyftp.cr.usgs.gov/vdelivery/Datasets/...  \n",
       "1  ftp://rockyftp.cr.usgs.gov/vdelivery/Datasets/...  \n",
       "2  ftp://rockyftp.cr.usgs.gov/vdelivery/Datasets/...  \n",
       "3  ftp://rockyftp.cr.usgs.gov/vdelivery/Datasets/...  \n",
       "4  ftp://rockyftp.cr.usgs.gov/vdelivery/Datasets/...  "
      ]
     },
     "execution_count": 6,
     "metadata": {},
     "output_type": "execute_result"
    }
   ],
   "source": [
    "xmlFiles.head()"
   ]
  },
  {
   "cell_type": "code",
   "execution_count": 7,
   "metadata": {},
   "outputs": [
    {
     "data": {
      "text/plain": [
       "1747"
      ]
     },
     "execution_count": 7,
     "metadata": {},
     "output_type": "execute_result"
    }
   ],
   "source": [
    "np.count_nonzero(xmlFiles['northOverLap'])"
   ]
  },
  {
   "cell_type": "code",
   "execution_count": 8,
   "metadata": {},
   "outputs": [
    {
     "data": {
      "text/plain": [
       "46"
      ]
     },
     "execution_count": 8,
     "metadata": {},
     "output_type": "execute_result"
    }
   ],
   "source": [
    "np.count_nonzero(xmlFiles['eastOverLap'])"
   ]
  },
  {
   "cell_type": "code",
   "execution_count": 9,
   "metadata": {},
   "outputs": [
    {
     "data": {
      "text/plain": [
       "14"
      ]
     },
     "execution_count": 9,
     "metadata": {},
     "output_type": "execute_result"
    }
   ],
   "source": [
    "np.count_nonzero(xmlFiles['overLap'])"
   ]
  },
  {
   "cell_type": "code",
   "execution_count": 10,
   "metadata": {},
   "outputs": [
    {
     "name": "stdout",
     "output_type": "stream",
     "text": [
      "USGS_LPC_LA_UpperDeltaPlain_2017_15RYP605240_LAS_2018.zip exists, skipping\n",
      "USGS_LPC_LA_UpperDeltaPlain_2017_15ryp620120_LAS_2018.zip exists, skipping\n",
      "USGS_LPC_LA_UpperDeltaPlain_2017_15RYP605255_LAS_2018.zip exists, skipping\n",
      "USGS_LPC_LA_UpperDeltaPlain_2017_15ryp605135_LAS_2018.zip exists, skipping\n",
      "USGS_LPC_LA_UpperDeltaPlain_2017_15RYP605195_LAS_2018.zip exists, skipping\n",
      "USGS_LPC_LA_UpperDeltaPlain_2017_15RYP605165_LAS_2018.zip exists, skipping\n",
      "USGS_LPC_LA_UpperDeltaPlain_2017_15ryp605270_LAS_2018.zip exists, skipping\n",
      "USGS_LPC_LA_UpperDeltaPlain_2017_15RYP605150_LAS_2018.zip exists, skipping\n",
      "USGS_LPC_LA_UpperDeltaPlain_2017_15RYP605225_LAS_2018.zip exists, skipping\n",
      "USGS_LPC_LA_UpperDeltaPlain_2017_15RYP605210_LAS_2018.zip exists, skipping\n",
      "USGS_LPC_LA_UpperDeltaPlain_2017_15ryp620090_LAS_2018.zip exists, skipping\n",
      "USGS_LPC_LA_UpperDeltaPlain_2017_15ryp620105_LAS_2018.zip exists, skipping\n",
      "USGS_LPC_LA_UpperDeltaPlain_2017_15RYP605180_LAS_2018.zip exists, skipping\n",
      "USGS_LPC_LA_UpperDeltaPlain_2017_15ryp620135_LAS_2018.zip exists, skipping\n"
     ]
    }
   ],
   "source": [
    "for fileName in xmlFiles[xmlFiles['overLap'] == True]['ftpFileName']:\n",
    "    localFile = fileName.split('/')[-1]\n",
    "    if exists(shapeFilePath + localFile):\n",
    "        print(localFile + \" exists, skipping\")\n",
    "        \n",
    "    else:\n",
    "        print(localFile + \" not found, downloading\")\n",
    "        !curl -O $fileName\n",
    "        !mv $localFile $shapeFilePath"
   ]
  },
  {
   "cell_type": "code",
   "execution_count": 12,
   "metadata": {},
   "outputs": [],
   "source": [
    "xmlFiles.to_pickle('./xmlFiles.pickle')"
   ]
  },
  {
   "cell_type": "code",
   "execution_count": 14,
   "metadata": {},
   "outputs": [
    {
     "name": "stdout",
     "output_type": "stream",
     "text": [
      "1.4M -rw-r--r-- 1 g g 1.4M May  1 16:50 xmlFiles.pickle\n"
     ]
    }
   ],
   "source": [
    "!ls -lsah xmlFiles.pickle"
   ]
  },
  {
   "cell_type": "code",
   "execution_count": null,
   "metadata": {},
   "outputs": [],
   "source": []
  }
 ],
 "metadata": {
  "kernelspec": {
   "display_name": "Python 3",
   "language": "python",
   "name": "python3"
  },
  "language_info": {
   "codemirror_mode": {
    "name": "ipython",
    "version": 3
   },
   "file_extension": ".py",
   "mimetype": "text/x-python",
   "name": "python",
   "nbconvert_exporter": "python",
   "pygments_lexer": "ipython3",
   "version": "3.7.3"
  }
 },
 "nbformat": 4,
 "nbformat_minor": 4
}
