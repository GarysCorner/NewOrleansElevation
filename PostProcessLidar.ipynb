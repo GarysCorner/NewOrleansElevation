{
 "cells": [
  {
   "cell_type": "markdown",
   "id": "86e44004-7704-4af5-ab5c-ec9c9fa4d6fb",
   "metadata": {},
   "source": [
    "# Post Process Lidar\n",
    "\n",
    "The lidar data is currently stored in pickled geopandas objects.  This is bad for future proofing and makes the datasets unusful for ther system and software.\n",
    "\n",
    "This notebook is going to change the formatting and reupload the files in a better format!  Because seriously Im not paying another $50 in processing just to change the formating\n",
    "\n",
    "Processed files are stored at s3://requesterpays.garyscorner.net/datasets/NewOrleansElevation/"
   ]
  },
  {
   "cell_type": "code",
   "execution_count": 1,
   "id": "de2d18ae-b8eb-444f-8369-edcd93738d56",
   "metadata": {},
   "outputs": [],
   "source": [
    "import geopandas as gpd\n",
    "import os\n",
    "from datetime import datetime\n",
    "import pickle"
   ]
  },
  {
   "cell_type": "code",
   "execution_count": 2,
   "id": "36f9cf03-24cb-479d-bca0-556898f0f41c",
   "metadata": {},
   "outputs": [],
   "source": [
    "def lp(v):\n",
    "    print(f\"[{datetime.now()}] {v}\")"
   ]
  },
  {
   "cell_type": "code",
   "execution_count": 3,
   "id": "fc4910b4-3adf-4974-b779-362a42d26a43",
   "metadata": {},
   "outputs": [
    {
     "name": "stdout",
     "output_type": "stream",
     "text": [
      "[2025-03-27 13:17:01.432134] Output path output/\n"
     ]
    }
   ],
   "source": [
    "path = f\"output{os.sep}\"\n",
    "lp(f\"Output path {path}\")"
   ]
  },
  {
   "cell_type": "code",
   "execution_count": 4,
   "id": "9c8338b6-b001-482b-ab8a-ae0701165a73",
   "metadata": {},
   "outputs": [
    {
     "name": "stdout",
     "output_type": "stream",
     "text": [
      "[2025-03-27 13:17:01.437278] Files:  ['output/AggregateLidarData_1000m_Previous.pickle', 'output/AggregateLidarData_SomeHoods_10m.pickle', 'output/AggregateLidarData_100m.pickle', 'output/AggregateLidarData_2000m.pickle', 'output/AggregateLidarData_1000m.pickle', 'output/AggregateLidarData_SomeHoods_1000m.pickle']\n"
     ]
    }
   ],
   "source": [
    "files = [f\"{path}{f}\" for f in os.listdir(path) if f[:18] == \"AggregateLidarData\" and f[-7:] == '.pickle']\n",
    "lp(f\"Files:  {files}\")"
   ]
  },
  {
   "cell_type": "code",
   "execution_count": null,
   "id": "cfc7769c-2b3f-42f9-a6ce-c11ea948edcb",
   "metadata": {},
   "outputs": [],
   "source": []
  },
  {
   "cell_type": "code",
   "execution_count": 5,
   "id": "f785e2cf-7eef-4ef4-812c-4fe8c974ee99",
   "metadata": {},
   "outputs": [
    {
     "name": "stdout",
     "output_type": "stream",
     "text": [
      "[2025-03-27 13:17:01.442099] processing output/AggregateLidarData_1000m_Previous.pickle -> output/AggregateLidarData_1000m_Previous.parquet...\n",
      "[2025-03-27 13:17:01.442168] Loading output/AggregateLidarData_1000m_Previous.pickle\n",
      "[2025-03-27 13:17:01.444948] Saving to output/AggregateLidarData_1000m_Previous.parquet\n",
      "[2025-03-27 13:17:01.472922] processing output/AggregateLidarData_SomeHoods_10m.pickle -> output/AggregateLidarData_SomeHoods_10m.parquet...\n",
      "[2025-03-27 13:17:01.472996] Loading output/AggregateLidarData_SomeHoods_10m.pickle\n"
     ]
    },
    {
     "name": "stderr",
     "output_type": "stream",
     "text": [
      "/tmp/ipykernel_338619/2632969751.py:9: DeprecationWarning: numpy.core.numeric is deprecated and has been renamed to numpy._core.numeric. The numpy._core namespace contains private NumPy internals and its use is discouraged, as NumPy internals can change without warning in any release. In practice, most real-world usage of numpy.core is to access functionality in the public NumPy API. If that is the case, use the public NumPy API. If not, you are using NumPy internals. If you would still like to access an internal attribute, use numpy._core.numeric._frombuffer.\n",
      "  data = pickle.load(f)\n",
      "/tmp/ipykernel_338619/2632969751.py:9: DeprecationWarning: numpy.core.numeric is deprecated and has been renamed to numpy._core.numeric. The numpy._core namespace contains private NumPy internals and its use is discouraged, as NumPy internals can change without warning in any release. In practice, most real-world usage of numpy.core is to access functionality in the public NumPy API. If that is the case, use the public NumPy API. If not, you are using NumPy internals. If you would still like to access an internal attribute, use numpy._core.numeric._frombuffer.\n",
      "  data = pickle.load(f)\n"
     ]
    },
    {
     "name": "stdout",
     "output_type": "stream",
     "text": [
      "[2025-03-27 13:17:01.803970] Saving to output/AggregateLidarData_SomeHoods_10m.parquet\n",
      "[2025-03-27 13:17:02.178307] processing output/AggregateLidarData_100m.pickle -> output/AggregateLidarData_100m.parquet...\n",
      "[2025-03-27 13:17:02.178408] Loading output/AggregateLidarData_100m.pickle\n",
      "[2025-03-27 13:17:02.240202] Saving to output/AggregateLidarData_100m.parquet\n",
      "[2025-03-27 13:17:02.339876] processing output/AggregateLidarData_2000m.pickle -> output/AggregateLidarData_2000m.parquet...\n",
      "[2025-03-27 13:17:02.339933] Loading output/AggregateLidarData_2000m.pickle\n",
      "[2025-03-27 13:17:02.351990] Saving to output/AggregateLidarData_2000m.parquet\n",
      "[2025-03-27 13:17:02.355503] processing output/AggregateLidarData_1000m.pickle -> output/AggregateLidarData_1000m.parquet...\n",
      "[2025-03-27 13:17:02.355544] Loading output/AggregateLidarData_1000m.pickle\n",
      "[2025-03-27 13:17:02.356360] Saving to output/AggregateLidarData_1000m.parquet\n",
      "[2025-03-27 13:17:02.360790] processing output/AggregateLidarData_SomeHoods_1000m.pickle -> output/AggregateLidarData_SomeHoods_1000m.parquet...\n",
      "[2025-03-27 13:17:02.360812] Loading output/AggregateLidarData_SomeHoods_1000m.pickle\n",
      "[2025-03-27 13:17:02.361267] Saving to output/AggregateLidarData_SomeHoods_1000m.parquet\n"
     ]
    },
    {
     "name": "stderr",
     "output_type": "stream",
     "text": [
      "/tmp/ipykernel_338619/2632969751.py:9: DeprecationWarning: numpy.core.numeric is deprecated and has been renamed to numpy._core.numeric. The numpy._core namespace contains private NumPy internals and its use is discouraged, as NumPy internals can change without warning in any release. In practice, most real-world usage of numpy.core is to access functionality in the public NumPy API. If that is the case, use the public NumPy API. If not, you are using NumPy internals. If you would still like to access an internal attribute, use numpy._core.numeric._frombuffer.\n",
      "  data = pickle.load(f)\n",
      "/tmp/ipykernel_338619/2632969751.py:9: DeprecationWarning: numpy.core.numeric is deprecated and has been renamed to numpy._core.numeric. The numpy._core namespace contains private NumPy internals and its use is discouraged, as NumPy internals can change without warning in any release. In practice, most real-world usage of numpy.core is to access functionality in the public NumPy API. If that is the case, use the public NumPy API. If not, you are using NumPy internals. If you would still like to access an internal attribute, use numpy._core.numeric._frombuffer.\n",
      "  data = pickle.load(f)\n"
     ]
    }
   ],
   "source": [
    "newFiles = []\n",
    "for file in files:\n",
    "    newFileName = file[:-7] + '.parquet'\n",
    "    newFiles.append(newFileName)\n",
    "    lp(f\"processing {file} -> {newFileName}...\")\n",
    "\n",
    "    lp(f\"Loading {file}\")\n",
    "    with open(file, 'rb') as f:\n",
    "        data = pickle.load(f)\n",
    "\n",
    "    lp(f\"Saving to {newFileName}\")\n",
    "    data.to_parquet(newFileName)\n",
    "    "
   ]
  },
  {
   "cell_type": "code",
   "execution_count": 6,
   "id": "48f2bc7d-a4fe-4163-848b-c342bd4b2309",
   "metadata": {},
   "outputs": [
    {
     "name": "stdout",
     "output_type": "stream",
     "text": [
      "upload: output/AggregateLidarData_1000m_Previous.parquet to s3://requesterpays.garyscorner.net/datasets/NewOrleansElevation/output/AggregateLidarData_1000m_Previous.parquet\n",
      "upload: output/AggregateLidarData_SomeHoods_10m.parquet to s3://requesterpays.garyscorner.net/datasets/NewOrleansElevation/output/AggregateLidarData_SomeHoods_10m.parquet\n",
      "upload: output/AggregateLidarData_100m.parquet to s3://requesterpays.garyscorner.net/datasets/NewOrleansElevation/output/AggregateLidarData_100m.parquet\n",
      "upload: output/AggregateLidarData_2000m.parquet to s3://requesterpays.garyscorner.net/datasets/NewOrleansElevation/output/AggregateLidarData_2000m.parquet\n",
      "upload: output/AggregateLidarData_1000m.parquet to s3://requesterpays.garyscorner.net/datasets/NewOrleansElevation/output/AggregateLidarData_1000m.parquet\n",
      "upload: output/AggregateLidarData_SomeHoods_1000m.parquet to s3://requesterpays.garyscorner.net/datasets/NewOrleansElevation/output/AggregateLidarData_SomeHoods_1000m.parquet\n"
     ]
    }
   ],
   "source": [
    "for file in newFiles:\n",
    "    !aws s3 cp $file  s3://requesterpays.garyscorner.net/datasets/NewOrleansElevation/output/ --include=\"*.parquet\""
   ]
  },
  {
   "cell_type": "code",
   "execution_count": 7,
   "id": "2807f239-3f95-4294-ac49-fdfd8f8aee34",
   "metadata": {},
   "outputs": [
    {
     "name": "stdout",
     "output_type": "stream",
     "text": [
      "[2025-03-27 13:17:17.794242] Done\n"
     ]
    }
   ],
   "source": [
    "lp(\"Done\")"
   ]
  },
  {
   "cell_type": "code",
   "execution_count": null,
   "id": "8727acae-380e-44fb-b992-5cfad05d5896",
   "metadata": {},
   "outputs": [],
   "source": []
  }
 ],
 "metadata": {
  "kernelspec": {
   "display_name": "Python 3 (ipykernel)",
   "language": "python",
   "name": "python3"
  },
  "language_info": {
   "codemirror_mode": {
    "name": "ipython",
    "version": 3
   },
   "file_extension": ".py",
   "mimetype": "text/x-python",
   "name": "python",
   "nbconvert_exporter": "python",
   "pygments_lexer": "ipython3",
   "version": "3.11.2"
  }
 },
 "nbformat": 4,
 "nbformat_minor": 5
}
