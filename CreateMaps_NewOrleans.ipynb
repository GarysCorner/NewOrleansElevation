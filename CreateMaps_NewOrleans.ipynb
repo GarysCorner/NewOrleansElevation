{
 "cells": [
  {
   "cell_type": "markdown",
   "id": "723095e8-914e-43a1-9581-e9edf02ec97d",
   "metadata": {},
   "source": [
    "# Create Map for the City of New Orleans\n",
    "\n",
    "New Orleans maps are created by this notebook"
   ]
  },
  {
   "cell_type": "code",
   "execution_count": 1,
   "id": "d6e06066-71d8-42a6-84b9-3c0c3f213c21",
   "metadata": {},
   "outputs": [],
   "source": [
    "import geopandas as gpd\n",
    "import matplotlib\n",
    "import matplotlib.pyplot as plt\n",
    "import cartopy\n",
    "from datetime import datetime\n",
    "import os\n",
    "import pyproj"
   ]
  },
  {
   "cell_type": "code",
   "execution_count": 2,
   "id": "6fb4ee37-a58c-408a-80c4-4219fe5b7718",
   "metadata": {},
   "outputs": [],
   "source": [
    "outPath = f\"output{os.sep}\"\n",
    "dataPath = f\"datasets{os.sep}\"\n",
    "wgs84 = pyproj.CRS.from_string('WGS84')"
   ]
  },
  {
   "cell_type": "code",
   "execution_count": 3,
   "id": "b0f9a86a-6bd1-4a05-8e61-c4ba2bf4b0d1",
   "metadata": {},
   "outputs": [
    {
     "name": "stdout",
     "output_type": "stream",
     "text": [
      "[2025-03-28 18:23:21.612798] Starting...\n"
     ]
    }
   ],
   "source": [
    "def lp(v):\n",
    "    print(f\"[{datetime.now()}] {v}\")\n",
    "\n",
    "lp(\"Starting...\")"
   ]
  },
  {
   "cell_type": "code",
   "execution_count": 4,
   "id": "f91ef903-5f44-4bbe-9c75-f993b1decb82",
   "metadata": {},
   "outputs": [
    {
     "name": "stdout",
     "output_type": "stream",
     "text": [
      "[2025-03-28 18:23:21.617112] outPath:  output/\n",
      "[2025-03-28 18:23:21.617379] dataPath:  datasets/\n"
     ]
    }
   ],
   "source": [
    "lp(f\"outPath:  {outPath}\")\n",
    "lp(f\"dataPath:  {dataPath}\")"
   ]
  },
  {
   "cell_type": "code",
   "execution_count": 6,
   "id": "7a8154b9-c848-4531-a113-192067d93d41",
   "metadata": {},
   "outputs": [
    {
     "name": "stdout",
     "output_type": "stream",
     "text": [
      "[2025-03-28 18:23:40.323409] Loading 100m lidar data\n",
      "[2025-03-28 18:23:40.392168] Loading 10m lidar data\n"
     ]
    }
   ],
   "source": [
    "lp(\"Loading 100m lidar data\")\n",
    "data100m = gpd.read_parquet(f\"{outPath}AggregateLidarData_100m.parquet\")\n",
    "bounds100m = data100m.total_bounds\n",
    "\n",
    "lp(\"Loading 10m lidar data\")\n",
    "data10m = gpd.read_parquet(f\"{outPath}AggregateLidarData_SomeHoods_10m.parquet\")"
   ]
  },
  {
   "cell_type": "code",
   "execution_count": 7,
   "id": "f89adf3a-471c-4003-b76a-6491c9b0fded",
   "metadata": {},
   "outputs": [
    {
     "name": "stdout",
     "output_type": "stream",
     "text": [
      "[2025-03-28 18:23:40.942317] CRS:  NAD83(2011) / UTM zone 15N + NAVD88 height - Geoid18 (metres)\n"
     ]
    }
   ],
   "source": [
    "crs = data100m.crs\n",
    "lp(f\"CRS:  {crs.name}\")"
   ]
  },
  {
   "cell_type": "code",
   "execution_count": 8,
   "id": "ec5ffc98-be09-4955-89e2-10bf88797457",
   "metadata": {},
   "outputs": [
    {
     "name": "stdout",
     "output_type": "stream",
     "text": [
      "[2025-03-28 18:23:41.397809] Creating CRS transformers\n",
      "[2025-03-28 18:23:41.412315] proj=pipeline step inv proj=utm zone=15 ellps=GRS80 step proj=unitconvert xy_in=rad xy_out=deg step proj=axisswap order=2,1\n"
     ]
    }
   ],
   "source": [
    "lp(\"Creating CRS transformers\")\n",
    "crsToWgs84 = pyproj.Transformer.from_crs(crs_from=crs, crs_to=wgs84)\n",
    "lp(crsToWgs84)"
   ]
  },
  {
   "cell_type": "code",
   "execution_count": 21,
   "id": "532368b9-d149-4552-a534-cd826aea79b2",
   "metadata": {},
   "outputs": [
    {
     "name": "stdout",
     "output_type": "stream",
     "text": [
      "[2025-03-28 18:25:33.097584] Loading neighborhoos data\n"
     ]
    },
    {
     "data": {
      "text/html": [
       "<div>\n",
       "<style scoped>\n",
       "    .dataframe tbody tr th:only-of-type {\n",
       "        vertical-align: middle;\n",
       "    }\n",
       "\n",
       "    .dataframe tbody tr th {\n",
       "        vertical-align: top;\n",
       "    }\n",
       "\n",
       "    .dataframe thead th {\n",
       "        text-align: right;\n",
       "    }\n",
       "</style>\n",
       "<table border=\"1\" class=\"dataframe\">\n",
       "  <thead>\n",
       "    <tr style=\"text-align: right;\">\n",
       "      <th></th>\n",
       "      <th>neigh_id</th>\n",
       "      <th>objectid</th>\n",
       "      <th>lup_lab</th>\n",
       "      <th>shape_stlength</th>\n",
       "      <th>shape_starea</th>\n",
       "      <th>geometry</th>\n",
       "    </tr>\n",
       "    <tr>\n",
       "      <th>gnocdc_lab</th>\n",
       "      <th></th>\n",
       "      <th></th>\n",
       "      <th></th>\n",
       "      <th></th>\n",
       "      <th></th>\n",
       "      <th></th>\n",
       "    </tr>\n",
       "  </thead>\n",
       "  <tbody>\n",
       "    <tr>\n",
       "      <th>B. W. COOPER</th>\n",
       "      <td>12D</td>\n",
       "      <td>6</td>\n",
       "      <td>B. W. COOPER HOUSING DEV</td>\n",
       "      <td>12118.012710324232</td>\n",
       "      <td>8808477.0902902912</td>\n",
       "      <td>MULTIPOLYGON (((781325.808 3316870.195, 781298...</td>\n",
       "    </tr>\n",
       "    <tr>\n",
       "      <th>HOLY CROSS</th>\n",
       "      <td>15C</td>\n",
       "      <td>32</td>\n",
       "      <td>HOLY CROSS</td>\n",
       "      <td>21187.180302661334</td>\n",
       "      <td>26999609.302162763</td>\n",
       "      <td>MULTIPOLYGON (((788931.478 3317916.911, 788404...</td>\n",
       "    </tr>\n",
       "  </tbody>\n",
       "</table>\n",
       "</div>"
      ],
      "text/plain": [
       "             neigh_id objectid                   lup_lab      shape_stlength  \\\n",
       "gnocdc_lab                                                                     \n",
       "B. W. COOPER      12D        6  B. W. COOPER HOUSING DEV  12118.012710324232   \n",
       "HOLY CROSS        15C       32                HOLY CROSS  21187.180302661334   \n",
       "\n",
       "                    shape_starea  \\\n",
       "gnocdc_lab                         \n",
       "B. W. COOPER  8808477.0902902912   \n",
       "HOLY CROSS    26999609.302162763   \n",
       "\n",
       "                                                       geometry  \n",
       "gnocdc_lab                                                       \n",
       "B. W. COOPER  MULTIPOLYGON (((781325.808 3316870.195, 781298...  \n",
       "HOLY CROSS    MULTIPOLYGON (((788931.478 3317916.911, 788404...  "
      ]
     },
     "execution_count": 21,
     "metadata": {},
     "output_type": "execute_result"
    }
   ],
   "source": [
    "lp(\"Loading neighborhoos data\")\n",
    "neighborhoodsDf = gpd.read_file(f\"{dataPath}Neighborhoods.geojson\").set_index('gnocdc_lab').to_crs(crs)\n",
    "neighborhoodsDf.head(2)"
   ]
  },
  {
   "cell_type": "code",
   "execution_count": 10,
   "id": "8f630cfa-70c8-4ee9-a4f0-40ab0ad14bce",
   "metadata": {},
   "outputs": [
    {
     "name": "stdout",
     "output_type": "stream",
     "text": [
      "[2025-03-28 18:23:42.014665] Loading water\n"
     ]
    },
    {
     "name": "stderr",
     "output_type": "stream",
     "text": [
      "/home/g/.local/share/virtualenvs/NewOrleansElevation-1OW7m-mh/lib/python3.11/site-packages/pyogrio/raw.py:198: RuntimeWarning: organizePolygons() received an unexpected geometry.  Either a polygon with interior rings, or a polygon with less than 4 points, or a non-Polygon geometry.  Return arguments as a collection.\n",
      "  return ogr_read(\n",
      "/home/g/.local/share/virtualenvs/NewOrleansElevation-1OW7m-mh/lib/python3.11/site-packages/pyogrio/raw.py:198: RuntimeWarning: Geometry of polygon of fid 3 cannot be translated to Simple Geometry. All polygons will be contained in a multipolygon.\n",
      "  return ogr_read(\n",
      "/home/g/.local/share/virtualenvs/NewOrleansElevation-1OW7m-mh/lib/python3.11/site-packages/pyogrio/raw.py:198: RuntimeWarning: Geometry of polygon of fid 4 cannot be translated to Simple Geometry. All polygons will be contained in a multipolygon.\n",
      "  return ogr_read(\n",
      "/home/g/.local/share/virtualenvs/NewOrleansElevation-1OW7m-mh/lib/python3.11/site-packages/pyogrio/raw.py:198: RuntimeWarning: Geometry of polygon of fid 5 cannot be translated to Simple Geometry. All polygons will be contained in a multipolygon.\n",
      "  return ogr_read(\n"
     ]
    }
   ],
   "source": [
    "lp(\"Loading water\")\n",
    "waterDf = gpd.read_file(f\"{dataPath}WATER2.SHP\").set_crs(wgs84).to_crs(crs)"
   ]
  },
  {
   "cell_type": "code",
   "execution_count": 32,
   "id": "ad92451f-76b0-4513-bfe9-cde06208b09f",
   "metadata": {},
   "outputs": [
    {
     "name": "stdout",
     "output_type": "stream",
     "text": [
      "[2025-03-28 18:28:32.708359] Processing 100m lidar\n"
     ]
    }
   ],
   "source": [
    "def processLidar(df):\n",
    "    df['AltitudeMeters'] = (df['AltitudeTotal'] / df['Total']) / 1000.0\n",
    "    df['Altitude'] = df['AltitudeMeters'] / 3.28084\n",
    "    df['WaterPerc'] = df['WaterTotal'] / df['Total'] * 100.0\n",
    "    df['IsWater'] = df['WaterPerc'] > 50.0\n",
    "\n",
    "    return df\n",
    "\n",
    "lp(\"Processing 100m lidar\")\n",
    "data100m = processLidar(data100m)\n",
    "data10m = processLidar(data10m)"
   ]
  },
  {
   "cell_type": "code",
   "execution_count": 33,
   "id": "9fd5b02c-f868-4e01-8930-c5f2554bbb0d",
   "metadata": {},
   "outputs": [],
   "source": [
    "def tickPtFormater(pt):\n",
    "\n",
    "    deg = int(pt)\n",
    "    mins = round((pt - deg) * 60)\n",
    "    \n",
    "    return f\"{deg}\\u00B0 {mins}'\"\n",
    "\n",
    "def tickFormater(x,y):\n",
    "    wgsPTS = crsToWgs84.transform(x,y)\n",
    "\n",
    "    formated = tuple(map(tickPtFormater, wgsPTS))\n",
    "\n",
    "    return formated"
   ]
  },
  {
   "cell_type": "code",
   "execution_count": 34,
   "id": "29d46899-a59a-40e3-a883-18df8596e05b",
   "metadata": {},
   "outputs": [
    {
     "data": {
      "text/html": [
       "<div>\n",
       "<style scoped>\n",
       "    .dataframe tbody tr th:only-of-type {\n",
       "        vertical-align: middle;\n",
       "    }\n",
       "\n",
       "    .dataframe tbody tr th {\n",
       "        vertical-align: top;\n",
       "    }\n",
       "\n",
       "    .dataframe thead th {\n",
       "        text-align: right;\n",
       "    }\n",
       "</style>\n",
       "<table border=\"1\" class=\"dataframe\">\n",
       "  <thead>\n",
       "    <tr style=\"text-align: right;\">\n",
       "      <th></th>\n",
       "      <th>geometry</th>\n",
       "      <th>AltitudeTotal</th>\n",
       "      <th>WaterTotal</th>\n",
       "      <th>Total</th>\n",
       "      <th>RunTime</th>\n",
       "      <th>AltitudeMeters</th>\n",
       "      <th>Altitude</th>\n",
       "      <th>WaterPerc</th>\n",
       "      <th>IsWater</th>\n",
       "    </tr>\n",
       "  </thead>\n",
       "  <tbody>\n",
       "    <tr>\n",
       "      <th>76</th>\n",
       "      <td>POLYGON ((776139 3315488, 776139 3315588, 7760...</td>\n",
       "      <td>0.0</td>\n",
       "      <td>0.0</td>\n",
       "      <td>0.0</td>\n",
       "      <td>0 days 00:00:07.441123</td>\n",
       "      <td>NaN</td>\n",
       "      <td>NaN</td>\n",
       "      <td>NaN</td>\n",
       "      <td>False</td>\n",
       "    </tr>\n",
       "  </tbody>\n",
       "</table>\n",
       "</div>"
      ],
      "text/plain": [
       "                                             geometry  AltitudeTotal  \\\n",
       "76  POLYGON ((776139 3315488, 776139 3315588, 7760...            0.0   \n",
       "\n",
       "    WaterTotal  Total                RunTime  AltitudeMeters  Altitude  \\\n",
       "76         0.0    0.0 0 days 00:00:07.441123             NaN       NaN   \n",
       "\n",
       "    WaterPerc  IsWater  \n",
       "76        NaN    False  "
      ]
     },
     "execution_count": 34,
     "metadata": {},
     "output_type": "execute_result"
    }
   ],
   "source": [
    "data100m.head(1)"
   ]
  },
  {
   "cell_type": "code",
   "execution_count": 54,
   "id": "8b42a680-91ac-4fba-9d1f-857bd8771e2d",
   "metadata": {},
   "outputs": [
    {
     "data": {
      "image/png": "[encoded data removed]",
      "text/plain": [
       "<Figure size 1500x1000 with 1 Axes>"
      ]
     },
     "metadata": {},
     "output_type": "display_data"
    }
   ],
   "source": [
    "cartopyCRS = cartopy.crs.UTM(15)\n",
    "def createMap(df,column,bounds,vmin,vmax,cmap='seismic', alpha=0.5):\n",
    "\n",
    "    normalizer = matplotlib.colors.Normalize(vmin=vmin, vmax=vmax, clip=True)\n",
    "    cmapTrans = matplotlib.colormaps.get_cmap(cmap)\n",
    "    xMidpoint = bounds[2] - bounds[0]\n",
    "    yMidpoint = bounds[3] - bounds[1]\n",
    "    \n",
    "    fig, ax = plt.subplots(figsize=(15,10), subplot_kw={ 'projection':cartopyCRS})\n",
    "    \n",
    "    #data100m.plot(ax=ax,column='Altitude', legend=True)\n",
    "    colors = cmapTrans( normalizer( df[column] ) )\n",
    "    colors[:,3] = alpha\n",
    "    ax.add_geometries(df['geometry'], crs=cartopyCRS, color=colors, edgecolor=None)\n",
    "    \n",
    "    waterDf.plot(ax=ax, color='lightblue', label='water')\n",
    "    \n",
    "    ax.set_xlim((bounds[0], bounds[2]))\n",
    "    ax.set_ylim((bounds[1], bounds[3]))\n",
    "\n",
    "    ax.xaxis.set_major_formatter(lambda x, pos: tickFormater(x,yMidpoint)[1])\n",
    "    ax.yaxis.set_major_formatter(lambda y, pos: tickFormater(xMidpoint,y)[0])\n",
    "    ax.tick_params(which='both')\n",
    "    \n",
    "    plt.plot()\n",
    "    \n",
    "    return\n",
    "\n",
    "gentillyDf = data10m[data10m.intersects(neighborhoodsDf.loc['GENTILLY WOODS','geometry'])]\n",
    "createMap(gentillyDf, 'Altitude', gentillyDf.total_bounds , vmin=gentillyDf['Altitude'].min(), vmax=gentillyDf['Altitude'].max())\n"
   ]
  },
  {
   "cell_type": "code",
   "execution_count": 47,
   "id": "cfb25c17-4367-45ef-9e71-5df8bdd13f39",
   "metadata": {},
   "outputs": [],
   "source": []
  },
  {
   "cell_type": "code",
   "execution_count": 48,
   "id": "77b9b580-0639-44af-8f39-e97b6b91e273",
   "metadata": {},
   "outputs": [
    {
     "data": {
      "text/plain": [
       "array([[0.09803922, 0.09803922, 1.        , 0.5       ],\n",
       "       [0.09803922, 0.09803922, 1.        , 0.5       ],\n",
       "       [0.09803922, 0.09803922, 1.        , 0.5       ],\n",
       "       ...,\n",
       "       [0.7745098 , 0.        , 0.        , 0.5       ],\n",
       "       [0.7745098 , 0.        , 0.        , 0.5       ],\n",
       "       [0.7745098 , 0.        , 0.        , 0.5       ]], shape=(19545, 4))"
      ]
     },
     "execution_count": 48,
     "metadata": {},
     "output_type": "execute_result"
    }
   ],
   "source": [
    "colors"
   ]
  },
  {
   "cell_type": "code",
   "execution_count": 18,
   "id": "2548f0df-9387-4a16-a4de-081f2bf140ae",
   "metadata": {},
   "outputs": [
    {
     "data": {
      "text/plain": [
       "np.int64(1)"
      ]
     },
     "execution_count": 18,
     "metadata": {},
     "output_type": "execute_result"
    }
   ],
   "source": []
  },
  {
   "cell_type": "code",
   "execution_count": null,
   "id": "fe4be264-21e0-49c2-ae5f-e3249abebd6c",
   "metadata": {},
   "outputs": [],
   "source": [
    "normalizer = matplotlib.colors.Normalize(vmin=-5, vmax=5, clip=True)\n",
    "matplotlib.colormaps.get_cmap('magma')(normalizer(data100m['Altitude']))"
   ]
  },
  {
   "cell_type": "code",
   "execution_count": 53,
   "id": "1e9d7cfa-e8bd-4a61-85bc-c8c027c3c288",
   "metadata": {},
   "outputs": [
    {
     "data": {
      "image/png": "[encoded data removed]",
      "text/plain": [
       "<Figure size 640x480 with 1 Axes>"
      ]
     },
     "metadata": {},
     "output_type": "display_data"
    }
   ],
   "source": [
    "fig, ax = plt.subplots()"
   ]
  },
  {
   "cell_type": "code",
   "execution_count": null,
   "id": "505f4dae-418f-4803-99af-35c30402e39a",
   "metadata": {},
   "outputs": [],
   "source": [
    "ax.tick_params"
   ]
  }
 ],
 "metadata": {
  "kernelspec": {
   "display_name": "Python 3 (ipykernel)",
   "language": "python",
   "name": "python3"
  },
  "language_info": {
   "codemirror_mode": {
    "name": "ipython",
    "version": 3
   },
   "file_extension": ".py",
   "mimetype": "text/x-python",
   "name": "python",
   "nbconvert_exporter": "python",
   "pygments_lexer": "ipython3",
   "version": "3.11.2"
  }
 },
 "nbformat": 4,
 "nbformat_minor": 5
}
