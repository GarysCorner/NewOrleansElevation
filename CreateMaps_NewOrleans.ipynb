{
 "cells": [
  {
   "cell_type": "markdown",
   "id": "723095e8-914e-43a1-9581-e9edf02ec97d",
   "metadata": {},
   "source": [
    "# Create Map for the City of New Orleans\n",
    "\n",
    "New Orleans maps are created by this notebook"
   ]
  },
  {
   "cell_type": "code",
   "execution_count": 1,
   "id": "d6e06066-71d8-42a6-84b9-3c0c3f213c21",
   "metadata": {},
   "outputs": [],
   "source": [
    "import geopandas as gpd\n",
    "import pandas as pd\n",
    "import numpy as np\n",
    "import matplotlib\n",
    "import matplotlib.pyplot as plt\n",
    "import cartopy\n",
    "from datetime import datetime\n",
    "import os\n",
    "import pyproj"
   ]
  },
  {
   "cell_type": "code",
   "execution_count": 2,
   "id": "6fb4ee37-a58c-408a-80c4-4219fe5b7718",
   "metadata": {},
   "outputs": [],
   "source": [
    "outPath = f\"output{os.sep}\"\n",
    "dataPath = f\"datasets{os.sep}\"\n",
    "wgs84 = pyproj.CRS.from_string('WGS84')"
   ]
  },
  {
   "cell_type": "code",
   "execution_count": 3,
   "id": "b0f9a86a-6bd1-4a05-8e61-c4ba2bf4b0d1",
   "metadata": {},
   "outputs": [
    {
     "name": "stdout",
     "output_type": "stream",
     "text": [
      "[2025-04-07 10:49:43.432444] Starting...\n"
     ]
    }
   ],
   "source": [
    "def lp(v):\n",
    "    print(f\"[{datetime.now()}] {v}\")\n",
    "\n",
    "lp(\"Starting...\")"
   ]
  },
  {
   "cell_type": "code",
   "execution_count": 4,
   "id": "f91ef903-5f44-4bbe-9c75-f993b1decb82",
   "metadata": {},
   "outputs": [
    {
     "name": "stdout",
     "output_type": "stream",
     "text": [
      "[2025-04-07 10:49:43.437883] outPath:  output/\n",
      "[2025-04-07 10:49:43.438172] dataPath:  datasets/\n"
     ]
    }
   ],
   "source": [
    "lp(f\"outPath:  {outPath}\")\n",
    "lp(f\"dataPath:  {dataPath}\")"
   ]
  },
  {
   "cell_type": "code",
   "execution_count": 5,
   "id": "7a8154b9-c848-4531-a113-192067d93d41",
   "metadata": {},
   "outputs": [
    {
     "name": "stdout",
     "output_type": "stream",
     "text": [
      "[2025-04-07 10:49:43.445527] Loading 100m lidar data\n"
     ]
    }
   ],
   "source": [
    "lp(\"Loading 100m lidar data\")\n",
    "data100m = gpd.read_parquet(f\"{outPath}PostProcessedLidat_100m.parquet\")\n",
    "bounds100m = data100m.total_bounds"
   ]
  },
  {
   "cell_type": "code",
   "execution_count": 6,
   "id": "deba976e-662f-42ad-b3f1-1e4a6c8dff6f",
   "metadata": {},
   "outputs": [
    {
     "name": "stdout",
     "output_type": "stream",
     "text": [
      "[2025-04-07 10:49:43.550003] Loading 10m lidar data\n"
     ]
    }
   ],
   "source": [
    "lp(\"Loading 10m lidar data\")\n",
    "data10m = gpd.read_parquet(f\"{outPath}PostProcessedLidat_10m.parquet\")\n",
    "bounds10m = data100m.total_bounds"
   ]
  },
  {
   "cell_type": "code",
   "execution_count": 7,
   "id": "f89adf3a-471c-4003-b76a-6491c9b0fded",
   "metadata": {},
   "outputs": [
    {
     "name": "stdout",
     "output_type": "stream",
     "text": [
      "[2025-04-07 10:49:48.924457] CRS:  NAD83(2011) / UTM zone 15N + NAVD88 height - Geoid18 (metres)\n"
     ]
    }
   ],
   "source": [
    "crs = data100m.crs\n",
    "lp(f\"CRS:  {crs.name}\")"
   ]
  },
  {
   "cell_type": "code",
   "execution_count": 8,
   "id": "ec5ffc98-be09-4955-89e2-10bf88797457",
   "metadata": {},
   "outputs": [
    {
     "name": "stdout",
     "output_type": "stream",
     "text": [
      "[2025-04-07 10:49:48.929216] Creating CRS transformers\n",
      "[2025-04-07 10:49:48.946764] proj=pipeline step inv proj=utm zone=15 ellps=GRS80 step proj=unitconvert xy_in=rad xy_out=deg step proj=axisswap order=2,1\n"
     ]
    }
   ],
   "source": [
    "lp(\"Creating CRS transformers\")\n",
    "crsToWgs84 = pyproj.Transformer.from_crs(crs_from=crs, crs_to=wgs84)\n",
    "lp(crsToWgs84)"
   ]
  },
  {
   "cell_type": "code",
   "execution_count": 9,
   "id": "532368b9-d149-4552-a534-cd826aea79b2",
   "metadata": {},
   "outputs": [
    {
     "name": "stdout",
     "output_type": "stream",
     "text": [
      "[2025-04-07 10:49:48.950882] Loading neighborhoos data\n"
     ]
    },
    {
     "data": {
      "text/html": [
       "<div>\n",
       "<style scoped>\n",
       "    .dataframe tbody tr th:only-of-type {\n",
       "        vertical-align: middle;\n",
       "    }\n",
       "\n",
       "    .dataframe tbody tr th {\n",
       "        vertical-align: top;\n",
       "    }\n",
       "\n",
       "    .dataframe thead th {\n",
       "        text-align: right;\n",
       "    }\n",
       "</style>\n",
       "<table border=\"1\" class=\"dataframe\">\n",
       "  <thead>\n",
       "    <tr style=\"text-align: right;\">\n",
       "      <th></th>\n",
       "      <th>neigh_id</th>\n",
       "      <th>objectid</th>\n",
       "      <th>lup_lab</th>\n",
       "      <th>shape_stlength</th>\n",
       "      <th>shape_starea</th>\n",
       "      <th>geometry</th>\n",
       "    </tr>\n",
       "    <tr>\n",
       "      <th>gnocdc_lab</th>\n",
       "      <th></th>\n",
       "      <th></th>\n",
       "      <th></th>\n",
       "      <th></th>\n",
       "      <th></th>\n",
       "      <th></th>\n",
       "    </tr>\n",
       "  </thead>\n",
       "  <tbody>\n",
       "    <tr>\n",
       "      <th>B. W. COOPER</th>\n",
       "      <td>12D</td>\n",
       "      <td>6</td>\n",
       "      <td>B. W. COOPER HOUSING DEV</td>\n",
       "      <td>12118.012710324232</td>\n",
       "      <td>8808477.0902902912</td>\n",
       "      <td>MULTIPOLYGON (((781325.808 3316870.195, 781298...</td>\n",
       "    </tr>\n",
       "    <tr>\n",
       "      <th>HOLY CROSS</th>\n",
       "      <td>15C</td>\n",
       "      <td>32</td>\n",
       "      <td>HOLY CROSS</td>\n",
       "      <td>21187.180302661334</td>\n",
       "      <td>26999609.302162763</td>\n",
       "      <td>MULTIPOLYGON (((788931.478 3317916.911, 788404...</td>\n",
       "    </tr>\n",
       "  </tbody>\n",
       "</table>\n",
       "</div>"
      ],
      "text/plain": [
       "             neigh_id objectid                   lup_lab      shape_stlength  \\\n",
       "gnocdc_lab                                                                     \n",
       "B. W. COOPER      12D        6  B. W. COOPER HOUSING DEV  12118.012710324232   \n",
       "HOLY CROSS        15C       32                HOLY CROSS  21187.180302661334   \n",
       "\n",
       "                    shape_starea  \\\n",
       "gnocdc_lab                         \n",
       "B. W. COOPER  8808477.0902902912   \n",
       "HOLY CROSS    26999609.302162763   \n",
       "\n",
       "                                                       geometry  \n",
       "gnocdc_lab                                                       \n",
       "B. W. COOPER  MULTIPOLYGON (((781325.808 3316870.195, 781298...  \n",
       "HOLY CROSS    MULTIPOLYGON (((788931.478 3317916.911, 788404...  "
      ]
     },
     "execution_count": 9,
     "metadata": {},
     "output_type": "execute_result"
    }
   ],
   "source": [
    "lp(\"Loading neighborhoos data\")\n",
    "neighborhoodsDf = gpd.read_file(f\"{dataPath}Neighborhoods.geojson\").set_index('gnocdc_lab').to_crs(crs)\n",
    "neighborhoodsDf.head(2)"
   ]
  },
  {
   "cell_type": "code",
   "execution_count": 10,
   "id": "8f630cfa-70c8-4ee9-a4f0-40ab0ad14bce",
   "metadata": {},
   "outputs": [
    {
     "name": "stdout",
     "output_type": "stream",
     "text": [
      "[2025-04-07 10:49:49.008308] Loading water\n"
     ]
    },
    {
     "name": "stderr",
     "output_type": "stream",
     "text": [
      "/home/g/.local/share/virtualenvs/NewOrleansElevation-1OW7m-mh/lib/python3.11/site-packages/pyogrio/raw.py:198: RuntimeWarning: organizePolygons() received an unexpected geometry.  Either a polygon with interior rings, or a polygon with less than 4 points, or a non-Polygon geometry.  Return arguments as a collection.\n",
      "  return ogr_read(\n",
      "/home/g/.local/share/virtualenvs/NewOrleansElevation-1OW7m-mh/lib/python3.11/site-packages/pyogrio/raw.py:198: RuntimeWarning: Geometry of polygon of fid 3 cannot be translated to Simple Geometry. All polygons will be contained in a multipolygon.\n",
      "  return ogr_read(\n",
      "/home/g/.local/share/virtualenvs/NewOrleansElevation-1OW7m-mh/lib/python3.11/site-packages/pyogrio/raw.py:198: RuntimeWarning: Geometry of polygon of fid 4 cannot be translated to Simple Geometry. All polygons will be contained in a multipolygon.\n",
      "  return ogr_read(\n",
      "/home/g/.local/share/virtualenvs/NewOrleansElevation-1OW7m-mh/lib/python3.11/site-packages/pyogrio/raw.py:198: RuntimeWarning: Geometry of polygon of fid 5 cannot be translated to Simple Geometry. All polygons will be contained in a multipolygon.\n",
      "  return ogr_read(\n"
     ]
    }
   ],
   "source": [
    "lp(\"Loading water\")\n",
    "waterDf = gpd.read_file(f\"{dataPath}WATER2.SHP\").set_crs(wgs84).to_crs(crs)"
   ]
  },
  {
   "cell_type": "code",
   "execution_count": 11,
   "id": "00f6522f-6cfa-456a-af98-c85f667a2dbc",
   "metadata": {},
   "outputs": [
    {
     "data": {
      "text/plain": [
       "Index(['geometry', 'AltitudeTotal', 'WaterTotal', 'Int', 'Total', 'RunTime',\n",
       "       'MeanAltitude', 'MeanIntensity', 'PercentWater', 'IsInterpolated'],\n",
       "      dtype='object')"
      ]
     },
     "execution_count": 11,
     "metadata": {},
     "output_type": "execute_result"
    }
   ],
   "source": [
    "data100m.columns"
   ]
  },
  {
   "cell_type": "code",
   "execution_count": 12,
   "id": "636aca5f-8cc4-4282-ad62-2b1874f73eff",
   "metadata": {},
   "outputs": [
    {
     "data": {
      "text/plain": [
       "4034499"
      ]
     },
     "execution_count": 12,
     "metadata": {},
     "output_type": "execute_result"
    }
   ],
   "source": [
    "np.count_nonzero(data10m['Total'] > 0)"
   ]
  },
  {
   "cell_type": "code",
   "execution_count": 13,
   "id": "9fd5b02c-f868-4e01-8930-c5f2554bbb0d",
   "metadata": {},
   "outputs": [],
   "source": [
    "def tickPtFormater(pt):\n",
    "\n",
    "    deg = int(pt)\n",
    "    mins = round((pt - deg) * 60)\n",
    "    \n",
    "    return f\"{deg}\\u00B0 {mins}'\"\n",
    "\n",
    "def tickFormater(x,y):\n",
    "    wgsPTS = crsToWgs84.transform(x,y)\n",
    "\n",
    "    formated = tuple(map(tickPtFormater, wgsPTS))\n",
    "\n",
    "    return formated"
   ]
  },
  {
   "cell_type": "code",
   "execution_count": 14,
   "id": "29d46899-a59a-40e3-a883-18df8596e05b",
   "metadata": {},
   "outputs": [
    {
     "data": {
      "text/html": [
       "<div>\n",
       "<style scoped>\n",
       "    .dataframe tbody tr th:only-of-type {\n",
       "        vertical-align: middle;\n",
       "    }\n",
       "\n",
       "    .dataframe tbody tr th {\n",
       "        vertical-align: top;\n",
       "    }\n",
       "\n",
       "    .dataframe thead th {\n",
       "        text-align: right;\n",
       "    }\n",
       "</style>\n",
       "<table border=\"1\" class=\"dataframe\">\n",
       "  <thead>\n",
       "    <tr style=\"text-align: right;\">\n",
       "      <th></th>\n",
       "      <th>geometry</th>\n",
       "      <th>AltitudeTotal</th>\n",
       "      <th>WaterTotal</th>\n",
       "      <th>Int</th>\n",
       "      <th>Total</th>\n",
       "      <th>RunTime</th>\n",
       "      <th>MeanAltitude</th>\n",
       "      <th>MeanIntensity</th>\n",
       "      <th>PercentWater</th>\n",
       "      <th>IsInterpolated</th>\n",
       "    </tr>\n",
       "  </thead>\n",
       "  <tbody>\n",
       "    <tr>\n",
       "      <th>76</th>\n",
       "      <td>POLYGON ((776139 3315488, 776139 3315588, 7760...</td>\n",
       "      <td>0</td>\n",
       "      <td>0</td>\n",
       "      <td>0</td>\n",
       "      <td>0</td>\n",
       "      <td>0 days 00:00:00.228102</td>\n",
       "      <td>9.701096</td>\n",
       "      <td>626</td>\n",
       "      <td>0.137147</td>\n",
       "      <td>True</td>\n",
       "    </tr>\n",
       "  </tbody>\n",
       "</table>\n",
       "</div>"
      ],
      "text/plain": [
       "                                             geometry  AltitudeTotal  \\\n",
       "76  POLYGON ((776139 3315488, 776139 3315588, 7760...              0   \n",
       "\n",
       "    WaterTotal  Int  Total                RunTime  MeanAltitude  \\\n",
       "76           0    0      0 0 days 00:00:00.228102      9.701096   \n",
       "\n",
       "    MeanIntensity  PercentWater  IsInterpolated  \n",
       "76            626      0.137147            True  "
      ]
     },
     "execution_count": 14,
     "metadata": {},
     "output_type": "execute_result"
    }
   ],
   "source": [
    "data100m.head(1)"
   ]
  },
  {
   "cell_type": "code",
   "execution_count": 15,
   "id": "8b42a680-91ac-4fba-9d1f-857bd8771e2d",
   "metadata": {},
   "outputs": [],
   "source": [
    "cartopyCRS = cartopy.crs.UTM(15)\n",
    "def createMap(ax, df,column,bounds,vmin,vmax,cmap='seismic_r', alpha=0.5, tickSpacing=10000, zorderPlus = 0,\\\n",
    "              showColorBar=True):\n",
    "\n",
    "    normalizer = matplotlib.colors.Normalize(vmin=vmin, vmax=vmax, clip=True)\n",
    "    cmapTrans = matplotlib.colormaps.get_cmap(cmap)\n",
    "    xMidpoint = bounds[2] - bounds[0]\n",
    "    yMidpoint = bounds[3] - bounds[1]\n",
    "    \n",
    "    #data100m.plot(ax=ax,column='Altitude', legend=True)\n",
    "    colors = cmapTrans( normalizer( df[column] ) )\n",
    "    colors[:,3] = alpha\n",
    "\n",
    "    plotMask = ~pd.isna(df[column])\n",
    "    ax.add_geometries(df['geometry'][plotMask], crs=cartopyCRS, color=colors, edgecolor=None, zorder=6+zorderPlus)\n",
    "    \n",
    "    ax.add_geometries(df[df['PercentWater']>=50]['geometry'], crs=cartopyCRS, color='lightblue', edgecolor=None, zorder=5+zorderPlus)\n",
    "    waterDf.plot(ax=ax, color='lightblue', edgecolor='lightblue', label='water',zorder=10+zorderPlus)\n",
    "    \n",
    "    ax.set_xlim((bounds[0], bounds[2]))\n",
    "    ax.set_ylim((bounds[1], bounds[3]))\n",
    "\n",
    "    \n",
    "\n",
    "    ax.xaxis.set_major_formatter(lambda x, pos: tickFormater(x,yMidpoint)[1])\n",
    "    ax.yaxis.set_major_formatter(lambda y, pos: tickFormater(xMidpoint,y)[0])\n",
    "    ax.tick_params(which='both')\n",
    "    \n",
    "    ax.set_xticks(np.arange(bounds[0]+tickSpacing, bounds[2], tickSpacing))\n",
    "    ax.set_yticks(np.arange(bounds[1]+tickSpacing, bounds[3], tickSpacing))\n",
    "\n",
    "    if showColorBar:\n",
    "        matplotlib.pyplot.colorbar(mappable=matplotlib.cm.ScalarMappable(cmap=cmapTrans, norm=normalizer) , ax=ax)\n",
    "\n",
    "    ax.patch.set_facecolor((1, 0.996, 0.859,1.0))\n",
    "\n",
    "    ax.set_aspect('equal')\n",
    "\n",
    "    return ax\n",
    "\n",
    "\n"
   ]
  },
  {
   "cell_type": "code",
   "execution_count": 16,
   "id": "bfc2a289-aaaf-481e-b5d9-8e70f555b644",
   "metadata": {},
   "outputs": [],
   "source": [
    "startPlotTime = datetime.now()\n",
    "clipping = 10\n",
    "\n",
    "fig, ax = plt.subplots(figsize=(60,40), dpi=120, subplot_kw={ 'projection':cartopyCRS})\n",
    "createMap(ax, data10m, 'MeanAltitude', data10m.total_bounds , vmin=clipping*-1, vmax=clipping, alpha=1, cmap='RdYlGn')\n",
    "ax.set_title(\"New Orleans Elevation\")\n",
    "\n",
    "\n",
    "subPlotHoods = [\n",
    "    [[0.1,0.7,0.2], 'GENTILLY WOODS'],\n",
    "    [[0.3,0.2,0.15], 'FRENCH QUARTER'],\n",
    "\n",
    "]\n",
    "for loc, hood in subPlotHoods:\n",
    "    \n",
    "    geomHood = neighborhoodsDf.loc[hood,'geometry']\n",
    "    geomBounds = geomHood.bounds\n",
    "    hoodMask = data10m.intersects(geomHood)\n",
    "\n",
    "    geomHeightRatio = ((geomBounds[3] - geomBounds[1]) / (geomBounds[2] - geomBounds[0]))\n",
    "    \n",
    "    loc.append( geomHeightRatio * loc[2] )\n",
    "    \n",
    "    axHood = ax.inset_axes(loc, projection=cartopyCRS, zorder=51)\n",
    "    for spine in axHood.spines.values():\n",
    "        spine.set_edgecolor('grey')\n",
    "    \n",
    "    createMap(axHood, data10m[hoodMask], 'MeanAltitude', geomBounds ,\\\n",
    "              vmin=clipping*-1, vmax=clipping, alpha=1, cmap='RdYlGn',\n",
    "              showColorBar=False)\n",
    "\n",
    "    axHood.set_title(hood.title())\n",
    "    ax.indicate_inset_zoom(axHood, zorder=50, edgecolor='grey')\n",
    "\n",
    "fig.savefig('output/NewOrleansPoster.png')\n",
    "plt.close()"
   ]
  },
  {
   "cell_type": "code",
   "execution_count": 17,
   "id": "ffdc1bf4-4232-4b13-8a11-fb9fd23d6220",
   "metadata": {},
   "outputs": [
    {
     "name": "stdout",
     "output_type": "stream",
     "text": [
      "[2025-04-07 11:01:09.359682] Ploting done in 0:11:20.291462\n"
     ]
    }
   ],
   "source": [
    "lp(f\"Ploting done in {datetime.now() - startPlotTime}\")"
   ]
  },
  {
   "cell_type": "code",
   "execution_count": 18,
   "id": "807bd681-7464-49f8-90b8-8fc1badae927",
   "metadata": {},
   "outputs": [
    {
     "name": "stdout",
     "output_type": "stream",
     "text": [
      "[2025-04-07 11:01:09.364371] done\n"
     ]
    }
   ],
   "source": [
    "lp(\"done\")"
   ]
  },
  {
   "cell_type": "code",
   "execution_count": null,
   "id": "2f806a24-ad7e-4ac4-ab29-db7bb3be85bb",
   "metadata": {},
   "outputs": [],
   "source": []
  }
 ],
 "metadata": {
  "kernelspec": {
   "display_name": "Python 3 (ipykernel)",
   "language": "python",
   "name": "python3"
  },
  "language_info": {
   "codemirror_mode": {
    "name": "ipython",
    "version": 3
   },
   "file_extension": ".py",
   "mimetype": "text/x-python",
   "name": "python",
   "nbconvert_exporter": "python",
   "pygments_lexer": "ipython3",
   "version": "3.11.2"
  }
 },
 "nbformat": 4,
 "nbformat_minor": 5
}
