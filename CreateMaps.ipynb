{
 "cells": [
  {
   "cell_type": "markdown",
   "id": "723095e8-914e-43a1-9581-e9edf02ec97d",
   "metadata": {},
   "source": [
    "# Create Maps\n",
    "\n",
    "Maps are created by this notebook"
   ]
  },
  {
   "cell_type": "code",
   "execution_count": 1,
   "id": "d6e06066-71d8-42a6-84b9-3c0c3f213c21",
   "metadata": {},
   "outputs": [],
   "source": [
    "import geopandas as gpd\n",
    "import matplotlib.pyplot as plt\n",
    "from datetime import datetime\n",
    "import os"
   ]
  },
  {
   "cell_type": "code",
   "execution_count": 10,
   "id": "6fb4ee37-a58c-408a-80c4-4219fe5b7718",
   "metadata": {},
   "outputs": [],
   "source": [
    "outPath = f\"output{os.sep}\"\n",
    "dataPath = f\"datasets{os.sep}\""
   ]
  },
  {
   "cell_type": "code",
   "execution_count": 3,
   "id": "b0f9a86a-6bd1-4a05-8e61-c4ba2bf4b0d1",
   "metadata": {},
   "outputs": [
    {
     "name": "stdout",
     "output_type": "stream",
     "text": [
      "[2025-03-27 15:36:47.766045] Starting...\n"
     ]
    }
   ],
   "source": [
    "def lp(v):\n",
    "    print(f\"[{datetime.now()}] {v}\")\n",
    "\n",
    "lp(\"Starting...\")"
   ]
  },
  {
   "cell_type": "code",
   "execution_count": 5,
   "id": "f91ef903-5f44-4bbe-9c75-f993b1decb82",
   "metadata": {},
   "outputs": [
    {
     "name": "stdout",
     "output_type": "stream",
     "text": [
      "[2025-03-27 15:36:55.514326] outPath:  output/\n",
      "[2025-03-27 15:36:55.514407] dataPath:  dataset/\n"
     ]
    }
   ],
   "source": [
    "lp(f\"outPath:  {outPath}\")\n",
    "lp(f\"dataPath:  {dataPath}\")"
   ]
  },
  {
   "cell_type": "code",
   "execution_count": 7,
   "id": "7a8154b9-c848-4531-a113-192067d93d41",
   "metadata": {},
   "outputs": [
    {
     "name": "stdout",
     "output_type": "stream",
     "text": [
      "[2025-03-27 15:37:06.838524] Loading 100m lidar data\n",
      "[2025-03-27 15:37:06.976196] Loading 10m subset lidar data\n"
     ]
    }
   ],
   "source": [
    "lp(\"Loading 100m lidar data\")\n",
    "data100m = gpd.read_parquet(f\"{outPath}AggregateLidarData_100m.parquet\")\n",
    "lp(\"Loading 10m subset lidar data\")\n",
    "data10m = gpd.read_parquet(f\"{outPath}AggregateLidarData_SomeHoods_10m.parquet\")"
   ]
  },
  {
   "cell_type": "code",
   "execution_count": 13,
   "id": "532368b9-d149-4552-a534-cd826aea79b2",
   "metadata": {},
   "outputs": [
    {
     "name": "stdout",
     "output_type": "stream",
     "text": [
      "[2025-03-27 15:38:04.912475] Loading neighborhoos data\n"
     ]
    }
   ],
   "source": [
    "lp(\"Loading neighborhoos data\")\n",
    "neighborhoodsDf = gpd.read_file(f\"{dataPath}Neighborhoods.geojson\")"
   ]
  },
  {
   "cell_type": "code",
   "execution_count": null,
   "id": "7fecf223-9905-47b8-9bad-887a2c902257",
   "metadata": {},
   "outputs": [],
   "source": [
    "fig, ax = plt.subplots(figsize=(15,8))\n",
    "neighborhoodsDf.plot(color='pink', ax=ax)\n",
    "data100m.plot(color='blue', ax=ax)\n",
    "data10m.plot(color='red',ax=ax)"
   ]
  },
  {
   "cell_type": "code",
   "execution_count": null,
   "id": "7d955b2a-ed1a-4d87-bf42-a141d811e335",
   "metadata": {},
   "outputs": [],
   "source": []
  }
 ],
 "metadata": {
  "kernelspec": {
   "display_name": "Python 3 (ipykernel)",
   "language": "python",
   "name": "python3"
  },
  "language_info": {
   "codemirror_mode": {
    "name": "ipython",
    "version": 3
   },
   "file_extension": ".py",
   "mimetype": "text/x-python",
   "name": "python",
   "nbconvert_exporter": "python",
   "pygments_lexer": "ipython3",
   "version": "3.11.2"
  }
 },
 "nbformat": 4,
 "nbformat_minor": 5
}
